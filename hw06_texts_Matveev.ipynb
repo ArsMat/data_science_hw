{
  "cells": [
    {
      "cell_type": "markdown",
      "metadata": {
        "id": "Ffq6A2-ifzAA"
      },
      "source": [
        "# Интеллектуальный анализ данных – весна 2024\n",
        "# Домашнее задание 6: классификация текстов"
      ]
    },
    {
      "cell_type": "markdown",
      "source": [
        "Правила:\n",
        "\n",
        "\n",
        "\n",
        "*   Домашнее задание оценивается в 10 баллов.\n",
        "*   Можно использовать без доказательства любые результаты, встречавшиеся на лекциях или семинарах по курсу, если получение этих результатов не является вопросом задания.\n",
        "*  Можно использовать любые свободные источники с *обязательным* указанием ссылки на них.\n",
        "*  Плагиат не допускается. При обнаружении случаев списывания, 0 за работу выставляется всем участникам нарушения, даже если можно установить, кто у кого списал.\n",
        "*  Старайтесь сделать код как можно более оптимальным. В частности, будет штрафоваться использование циклов в тех случаях, когда операцию можно совершить при помощи инструментов библиотек, о которых рассказывалось в курсе."
      ],
      "metadata": {
        "id": "EPcxtekTA1Sm"
      }
    },
    {
      "cell_type": "markdown",
      "metadata": {
        "id": "itRtFtrOf0_b"
      },
      "source": [
        "В этом домашнем задании вам предстоит построить классификатор текстов.\n",
        "\n",
        "Будем предсказывать эмоциональную окраску твиттов о коронавирусе.\n",
        "\n"
      ]
    },
    {
      "cell_type": "code",
      "execution_count": null,
      "metadata": {
        "id": "tNGRVO7_g9mz"
      },
      "outputs": [],
      "source": [
        "import numpy as np\n",
        "import pandas as pd\n",
        "from typing import List\n",
        "import matplotlib.pyplot as plt\n",
        "import seaborn as sns\n",
        "from string import punctuation"
      ]
    },
    {
      "cell_type": "code",
      "execution_count": null,
      "metadata": {
        "id": "zOy8iHJQg_Ss",
        "colab": {
          "base_uri": "https://localhost:8080/",
          "height": 206
        },
        "outputId": "2ab56c10-1a87-4857-f2dc-7cc1bcc14e7b"
      },
      "outputs": [
        {
          "output_type": "execute_result",
          "data": {
            "text/plain": [
              "   UserName  ScreenName                     Location     TweetAt  \\\n",
              "0      3800       48752                           UK  16-03-2020   \n",
              "1      3801       48753                    Vagabonds  16-03-2020   \n",
              "2      3802       48754                          NaN  16-03-2020   \n",
              "3      3803       48755                          NaN  16-03-2020   \n",
              "4      3804       48756  ÃÂT: 36.319708,-82.363649  16-03-2020   \n",
              "\n",
              "                                       OriginalTweet           Sentiment  \n",
              "0  advice Talk to your neighbours family to excha...            Positive  \n",
              "1  Coronavirus Australia: Woolworths to give elde...            Positive  \n",
              "2  My food stock is not the only one which is emp...            Positive  \n",
              "3  Me, ready to go at supermarket during the #COV...  Extremely Negative  \n",
              "4  As news of the regionÃÂs first confirmed COV...            Positive  "
            ],
            "text/html": [
              "\n",
              "  <div id=\"df-9dd1c4e7-3e9b-4771-991a-a466d9f2967c\" class=\"colab-df-container\">\n",
              "    <div>\n",
              "<style scoped>\n",
              "    .dataframe tbody tr th:only-of-type {\n",
              "        vertical-align: middle;\n",
              "    }\n",
              "\n",
              "    .dataframe tbody tr th {\n",
              "        vertical-align: top;\n",
              "    }\n",
              "\n",
              "    .dataframe thead th {\n",
              "        text-align: right;\n",
              "    }\n",
              "</style>\n",
              "<table border=\"1\" class=\"dataframe\">\n",
              "  <thead>\n",
              "    <tr style=\"text-align: right;\">\n",
              "      <th></th>\n",
              "      <th>UserName</th>\n",
              "      <th>ScreenName</th>\n",
              "      <th>Location</th>\n",
              "      <th>TweetAt</th>\n",
              "      <th>OriginalTweet</th>\n",
              "      <th>Sentiment</th>\n",
              "    </tr>\n",
              "  </thead>\n",
              "  <tbody>\n",
              "    <tr>\n",
              "      <th>0</th>\n",
              "      <td>3800</td>\n",
              "      <td>48752</td>\n",
              "      <td>UK</td>\n",
              "      <td>16-03-2020</td>\n",
              "      <td>advice Talk to your neighbours family to excha...</td>\n",
              "      <td>Positive</td>\n",
              "    </tr>\n",
              "    <tr>\n",
              "      <th>1</th>\n",
              "      <td>3801</td>\n",
              "      <td>48753</td>\n",
              "      <td>Vagabonds</td>\n",
              "      <td>16-03-2020</td>\n",
              "      <td>Coronavirus Australia: Woolworths to give elde...</td>\n",
              "      <td>Positive</td>\n",
              "    </tr>\n",
              "    <tr>\n",
              "      <th>2</th>\n",
              "      <td>3802</td>\n",
              "      <td>48754</td>\n",
              "      <td>NaN</td>\n",
              "      <td>16-03-2020</td>\n",
              "      <td>My food stock is not the only one which is emp...</td>\n",
              "      <td>Positive</td>\n",
              "    </tr>\n",
              "    <tr>\n",
              "      <th>3</th>\n",
              "      <td>3803</td>\n",
              "      <td>48755</td>\n",
              "      <td>NaN</td>\n",
              "      <td>16-03-2020</td>\n",
              "      <td>Me, ready to go at supermarket during the #COV...</td>\n",
              "      <td>Extremely Negative</td>\n",
              "    </tr>\n",
              "    <tr>\n",
              "      <th>4</th>\n",
              "      <td>3804</td>\n",
              "      <td>48756</td>\n",
              "      <td>ÃÂT: 36.319708,-82.363649</td>\n",
              "      <td>16-03-2020</td>\n",
              "      <td>As news of the regionÃÂs first confirmed COV...</td>\n",
              "      <td>Positive</td>\n",
              "    </tr>\n",
              "  </tbody>\n",
              "</table>\n",
              "</div>\n",
              "    <div class=\"colab-df-buttons\">\n",
              "\n",
              "  <div class=\"colab-df-container\">\n",
              "    <button class=\"colab-df-convert\" onclick=\"convertToInteractive('df-9dd1c4e7-3e9b-4771-991a-a466d9f2967c')\"\n",
              "            title=\"Convert this dataframe to an interactive table.\"\n",
              "            style=\"display:none;\">\n",
              "\n",
              "  <svg xmlns=\"http://www.w3.org/2000/svg\" height=\"24px\" viewBox=\"0 -960 960 960\">\n",
              "    <path d=\"M120-120v-720h720v720H120Zm60-500h600v-160H180v160Zm220 220h160v-160H400v160Zm0 220h160v-160H400v160ZM180-400h160v-160H180v160Zm440 0h160v-160H620v160ZM180-180h160v-160H180v160Zm440 0h160v-160H620v160Z\"/>\n",
              "  </svg>\n",
              "    </button>\n",
              "\n",
              "  <style>\n",
              "    .colab-df-container {\n",
              "      display:flex;\n",
              "      gap: 12px;\n",
              "    }\n",
              "\n",
              "    .colab-df-convert {\n",
              "      background-color: #E8F0FE;\n",
              "      border: none;\n",
              "      border-radius: 50%;\n",
              "      cursor: pointer;\n",
              "      display: none;\n",
              "      fill: #1967D2;\n",
              "      height: 32px;\n",
              "      padding: 0 0 0 0;\n",
              "      width: 32px;\n",
              "    }\n",
              "\n",
              "    .colab-df-convert:hover {\n",
              "      background-color: #E2EBFA;\n",
              "      box-shadow: 0px 1px 2px rgba(60, 64, 67, 0.3), 0px 1px 3px 1px rgba(60, 64, 67, 0.15);\n",
              "      fill: #174EA6;\n",
              "    }\n",
              "\n",
              "    .colab-df-buttons div {\n",
              "      margin-bottom: 4px;\n",
              "    }\n",
              "\n",
              "    [theme=dark] .colab-df-convert {\n",
              "      background-color: #3B4455;\n",
              "      fill: #D2E3FC;\n",
              "    }\n",
              "\n",
              "    [theme=dark] .colab-df-convert:hover {\n",
              "      background-color: #434B5C;\n",
              "      box-shadow: 0px 1px 3px 1px rgba(0, 0, 0, 0.15);\n",
              "      filter: drop-shadow(0px 1px 2px rgba(0, 0, 0, 0.3));\n",
              "      fill: #FFFFFF;\n",
              "    }\n",
              "  </style>\n",
              "\n",
              "    <script>\n",
              "      const buttonEl =\n",
              "        document.querySelector('#df-9dd1c4e7-3e9b-4771-991a-a466d9f2967c button.colab-df-convert');\n",
              "      buttonEl.style.display =\n",
              "        google.colab.kernel.accessAllowed ? 'block' : 'none';\n",
              "\n",
              "      async function convertToInteractive(key) {\n",
              "        const element = document.querySelector('#df-9dd1c4e7-3e9b-4771-991a-a466d9f2967c');\n",
              "        const dataTable =\n",
              "          await google.colab.kernel.invokeFunction('convertToInteractive',\n",
              "                                                    [key], {});\n",
              "        if (!dataTable) return;\n",
              "\n",
              "        const docLinkHtml = 'Like what you see? Visit the ' +\n",
              "          '<a target=\"_blank\" href=https://colab.research.google.com/notebooks/data_table.ipynb>data table notebook</a>'\n",
              "          + ' to learn more about interactive tables.';\n",
              "        element.innerHTML = '';\n",
              "        dataTable['output_type'] = 'display_data';\n",
              "        await google.colab.output.renderOutput(dataTable, element);\n",
              "        const docLink = document.createElement('div');\n",
              "        docLink.innerHTML = docLinkHtml;\n",
              "        element.appendChild(docLink);\n",
              "      }\n",
              "    </script>\n",
              "  </div>\n",
              "\n",
              "\n",
              "<div id=\"df-e0b44546-757d-4dfb-b7ba-902de58332de\">\n",
              "  <button class=\"colab-df-quickchart\" onclick=\"quickchart('df-e0b44546-757d-4dfb-b7ba-902de58332de')\"\n",
              "            title=\"Suggest charts\"\n",
              "            style=\"display:none;\">\n",
              "\n",
              "<svg xmlns=\"http://www.w3.org/2000/svg\" height=\"24px\"viewBox=\"0 0 24 24\"\n",
              "     width=\"24px\">\n",
              "    <g>\n",
              "        <path d=\"M19 3H5c-1.1 0-2 .9-2 2v14c0 1.1.9 2 2 2h14c1.1 0 2-.9 2-2V5c0-1.1-.9-2-2-2zM9 17H7v-7h2v7zm4 0h-2V7h2v10zm4 0h-2v-4h2v4z\"/>\n",
              "    </g>\n",
              "</svg>\n",
              "  </button>\n",
              "\n",
              "<style>\n",
              "  .colab-df-quickchart {\n",
              "      --bg-color: #E8F0FE;\n",
              "      --fill-color: #1967D2;\n",
              "      --hover-bg-color: #E2EBFA;\n",
              "      --hover-fill-color: #174EA6;\n",
              "      --disabled-fill-color: #AAA;\n",
              "      --disabled-bg-color: #DDD;\n",
              "  }\n",
              "\n",
              "  [theme=dark] .colab-df-quickchart {\n",
              "      --bg-color: #3B4455;\n",
              "      --fill-color: #D2E3FC;\n",
              "      --hover-bg-color: #434B5C;\n",
              "      --hover-fill-color: #FFFFFF;\n",
              "      --disabled-bg-color: #3B4455;\n",
              "      --disabled-fill-color: #666;\n",
              "  }\n",
              "\n",
              "  .colab-df-quickchart {\n",
              "    background-color: var(--bg-color);\n",
              "    border: none;\n",
              "    border-radius: 50%;\n",
              "    cursor: pointer;\n",
              "    display: none;\n",
              "    fill: var(--fill-color);\n",
              "    height: 32px;\n",
              "    padding: 0;\n",
              "    width: 32px;\n",
              "  }\n",
              "\n",
              "  .colab-df-quickchart:hover {\n",
              "    background-color: var(--hover-bg-color);\n",
              "    box-shadow: 0 1px 2px rgba(60, 64, 67, 0.3), 0 1px 3px 1px rgba(60, 64, 67, 0.15);\n",
              "    fill: var(--button-hover-fill-color);\n",
              "  }\n",
              "\n",
              "  .colab-df-quickchart-complete:disabled,\n",
              "  .colab-df-quickchart-complete:disabled:hover {\n",
              "    background-color: var(--disabled-bg-color);\n",
              "    fill: var(--disabled-fill-color);\n",
              "    box-shadow: none;\n",
              "  }\n",
              "\n",
              "  .colab-df-spinner {\n",
              "    border: 2px solid var(--fill-color);\n",
              "    border-color: transparent;\n",
              "    border-bottom-color: var(--fill-color);\n",
              "    animation:\n",
              "      spin 1s steps(1) infinite;\n",
              "  }\n",
              "\n",
              "  @keyframes spin {\n",
              "    0% {\n",
              "      border-color: transparent;\n",
              "      border-bottom-color: var(--fill-color);\n",
              "      border-left-color: var(--fill-color);\n",
              "    }\n",
              "    20% {\n",
              "      border-color: transparent;\n",
              "      border-left-color: var(--fill-color);\n",
              "      border-top-color: var(--fill-color);\n",
              "    }\n",
              "    30% {\n",
              "      border-color: transparent;\n",
              "      border-left-color: var(--fill-color);\n",
              "      border-top-color: var(--fill-color);\n",
              "      border-right-color: var(--fill-color);\n",
              "    }\n",
              "    40% {\n",
              "      border-color: transparent;\n",
              "      border-right-color: var(--fill-color);\n",
              "      border-top-color: var(--fill-color);\n",
              "    }\n",
              "    60% {\n",
              "      border-color: transparent;\n",
              "      border-right-color: var(--fill-color);\n",
              "    }\n",
              "    80% {\n",
              "      border-color: transparent;\n",
              "      border-right-color: var(--fill-color);\n",
              "      border-bottom-color: var(--fill-color);\n",
              "    }\n",
              "    90% {\n",
              "      border-color: transparent;\n",
              "      border-bottom-color: var(--fill-color);\n",
              "    }\n",
              "  }\n",
              "</style>\n",
              "\n",
              "  <script>\n",
              "    async function quickchart(key) {\n",
              "      const quickchartButtonEl =\n",
              "        document.querySelector('#' + key + ' button');\n",
              "      quickchartButtonEl.disabled = true;  // To prevent multiple clicks.\n",
              "      quickchartButtonEl.classList.add('colab-df-spinner');\n",
              "      try {\n",
              "        const charts = await google.colab.kernel.invokeFunction(\n",
              "            'suggestCharts', [key], {});\n",
              "      } catch (error) {\n",
              "        console.error('Error during call to suggestCharts:', error);\n",
              "      }\n",
              "      quickchartButtonEl.classList.remove('colab-df-spinner');\n",
              "      quickchartButtonEl.classList.add('colab-df-quickchart-complete');\n",
              "    }\n",
              "    (() => {\n",
              "      let quickchartButtonEl =\n",
              "        document.querySelector('#df-e0b44546-757d-4dfb-b7ba-902de58332de button');\n",
              "      quickchartButtonEl.style.display =\n",
              "        google.colab.kernel.accessAllowed ? 'block' : 'none';\n",
              "    })();\n",
              "  </script>\n",
              "</div>\n",
              "    </div>\n",
              "  </div>\n"
            ],
            "application/vnd.google.colaboratory.intrinsic+json": {
              "type": "dataframe",
              "variable_name": "df",
              "summary": "{\n  \"name\": \"df\",\n  \"rows\": 33444,\n  \"fields\": [\n    {\n      \"column\": \"UserName\",\n      \"properties\": {\n        \"dtype\": \"number\",\n        \"std\": 11875,\n        \"min\": 3800,\n        \"max\": 44955,\n        \"num_unique_values\": 33444,\n        \"samples\": [\n          33995,\n          17124,\n          18421\n        ],\n        \"semantic_type\": \"\",\n        \"description\": \"\"\n      }\n    },\n    {\n      \"column\": \"ScreenName\",\n      \"properties\": {\n        \"dtype\": \"number\",\n        \"std\": 11875,\n        \"min\": 48752,\n        \"max\": 89907,\n        \"num_unique_values\": 33444,\n        \"samples\": [\n          78947,\n          62076,\n          63373\n        ],\n        \"semantic_type\": \"\",\n        \"description\": \"\"\n      }\n    },\n    {\n      \"column\": \"Location\",\n      \"properties\": {\n        \"dtype\": \"category\",\n        \"num_unique_values\": 10465,\n        \"samples\": [\n          \"Kitchener | Ontario | Canada\",\n          \"Montr\\u00c3\\u0083\\u00c2\\u00a9al\",\n          \"England. Germany.\"\n        ],\n        \"semantic_type\": \"\",\n        \"description\": \"\"\n      }\n    },\n    {\n      \"column\": \"TweetAt\",\n      \"properties\": {\n        \"dtype\": \"object\",\n        \"num_unique_values\": 30,\n        \"samples\": [\n          \"12-04-2020\",\n          \"31-03-2020\",\n          \"08-04-2020\"\n        ],\n        \"semantic_type\": \"\",\n        \"description\": \"\"\n      }\n    },\n    {\n      \"column\": \"OriginalTweet\",\n      \"properties\": {\n        \"dtype\": \"string\",\n        \"num_unique_values\": 33444,\n        \"samples\": [\n          \"US death toll is way less than estimated. This I hope will bring back consumer confidence #coronavirus #Covid_19 #CoronavirusUSA\",\n          \"We will get through this by people helping people and not stock piling food and toiletries, selfish pricks #Covid_19\",\n          \"#rice prices soar to two-year high, traders blame it on #coronavirus panic buying, writes #YasirWardad https://t.co/hIXzS1DKdo #FE via @febdonline\"\n        ],\n        \"semantic_type\": \"\",\n        \"description\": \"\"\n      }\n    },\n    {\n      \"column\": \"Sentiment\",\n      \"properties\": {\n        \"dtype\": \"category\",\n        \"num_unique_values\": 4,\n        \"samples\": [\n          \"Extremely Negative\",\n          \"Extremely Positive\",\n          \"Positive\"\n        ],\n        \"semantic_type\": \"\",\n        \"description\": \"\"\n      }\n    }\n  ]\n}"
            }
          },
          "metadata": {},
          "execution_count": 14
        }
      ],
      "source": [
        "df = pd.read_csv('/content/tweets_coronavirus.csv', encoding='latin-1')\n",
        "df.head()"
      ]
    },
    {
      "cell_type": "markdown",
      "metadata": {
        "id": "m2OiDog9ZBlS"
      },
      "source": [
        "Для каждого твитта указано:\n",
        "\n",
        "\n",
        "*   UserName - имя пользователя, заменено на целое число для анонимности\n",
        "*   ScreenName - отображающееся имя пользователя, заменено на целое число для анонимности\n",
        "*   Location - местоположение\n",
        "*   TweetAt - дата создания твитта\n",
        "*   OriginalTweet - текст твитта\n",
        "*   Sentiment - эмоциональная окраска твитта (целевая переменная)\n",
        "\n"
      ]
    },
    {
      "cell_type": "markdown",
      "metadata": {
        "id": "pZTMseDkhTC7"
      },
      "source": [
        "## Задание 1 Подготовка (0.5 балла)"
      ]
    },
    {
      "cell_type": "markdown",
      "metadata": {
        "id": "Xx2-odn9hdAW"
      },
      "source": [
        "Целевая переменная находится в колонке `Sentiment`.  Преобразуйте ее таким образом, чтобы она стала бинарной: 1 - если у твитта положительная эмоциональная окраска и 0 - если отрицательная."
      ]
    },
    {
      "cell_type": "code",
      "execution_count": null,
      "metadata": {
        "id": "ZaQKQ1zEjP15"
      },
      "outputs": [],
      "source": [
        "# -- YOUR CODE HERE --\n",
        "df['Sentiment'] = df['Sentiment'].apply(lambda x: 1 if 'Positive' in x else 0)"
      ]
    },
    {
      "cell_type": "code",
      "source": [
        "df.head()"
      ],
      "metadata": {
        "colab": {
          "base_uri": "https://localhost:8080/",
          "height": 206
        },
        "id": "YInS6s6Eu04n",
        "outputId": "0515cb2f-0192-4c9f-8eca-1b6c3ff708bf"
      },
      "execution_count": null,
      "outputs": [
        {
          "output_type": "execute_result",
          "data": {
            "text/plain": [
              "   UserName  ScreenName                     Location     TweetAt  \\\n",
              "0      3800       48752                           UK  16-03-2020   \n",
              "1      3801       48753                    Vagabonds  16-03-2020   \n",
              "2      3802       48754                          NaN  16-03-2020   \n",
              "3      3803       48755                          NaN  16-03-2020   \n",
              "4      3804       48756  ÃÂT: 36.319708,-82.363649  16-03-2020   \n",
              "\n",
              "                                       OriginalTweet  Sentiment  \n",
              "0  advice Talk to your neighbours family to excha...          1  \n",
              "1  Coronavirus Australia: Woolworths to give elde...          1  \n",
              "2  My food stock is not the only one which is emp...          1  \n",
              "3  Me, ready to go at supermarket during the #COV...          0  \n",
              "4  As news of the regionÃÂs first confirmed COV...          1  "
            ],
            "text/html": [
              "\n",
              "  <div id=\"df-458b3cce-f302-44ac-89af-4a5096609abb\" class=\"colab-df-container\">\n",
              "    <div>\n",
              "<style scoped>\n",
              "    .dataframe tbody tr th:only-of-type {\n",
              "        vertical-align: middle;\n",
              "    }\n",
              "\n",
              "    .dataframe tbody tr th {\n",
              "        vertical-align: top;\n",
              "    }\n",
              "\n",
              "    .dataframe thead th {\n",
              "        text-align: right;\n",
              "    }\n",
              "</style>\n",
              "<table border=\"1\" class=\"dataframe\">\n",
              "  <thead>\n",
              "    <tr style=\"text-align: right;\">\n",
              "      <th></th>\n",
              "      <th>UserName</th>\n",
              "      <th>ScreenName</th>\n",
              "      <th>Location</th>\n",
              "      <th>TweetAt</th>\n",
              "      <th>OriginalTweet</th>\n",
              "      <th>Sentiment</th>\n",
              "    </tr>\n",
              "  </thead>\n",
              "  <tbody>\n",
              "    <tr>\n",
              "      <th>0</th>\n",
              "      <td>3800</td>\n",
              "      <td>48752</td>\n",
              "      <td>UK</td>\n",
              "      <td>16-03-2020</td>\n",
              "      <td>advice Talk to your neighbours family to excha...</td>\n",
              "      <td>1</td>\n",
              "    </tr>\n",
              "    <tr>\n",
              "      <th>1</th>\n",
              "      <td>3801</td>\n",
              "      <td>48753</td>\n",
              "      <td>Vagabonds</td>\n",
              "      <td>16-03-2020</td>\n",
              "      <td>Coronavirus Australia: Woolworths to give elde...</td>\n",
              "      <td>1</td>\n",
              "    </tr>\n",
              "    <tr>\n",
              "      <th>2</th>\n",
              "      <td>3802</td>\n",
              "      <td>48754</td>\n",
              "      <td>NaN</td>\n",
              "      <td>16-03-2020</td>\n",
              "      <td>My food stock is not the only one which is emp...</td>\n",
              "      <td>1</td>\n",
              "    </tr>\n",
              "    <tr>\n",
              "      <th>3</th>\n",
              "      <td>3803</td>\n",
              "      <td>48755</td>\n",
              "      <td>NaN</td>\n",
              "      <td>16-03-2020</td>\n",
              "      <td>Me, ready to go at supermarket during the #COV...</td>\n",
              "      <td>0</td>\n",
              "    </tr>\n",
              "    <tr>\n",
              "      <th>4</th>\n",
              "      <td>3804</td>\n",
              "      <td>48756</td>\n",
              "      <td>ÃÂT: 36.319708,-82.363649</td>\n",
              "      <td>16-03-2020</td>\n",
              "      <td>As news of the regionÃÂs first confirmed COV...</td>\n",
              "      <td>1</td>\n",
              "    </tr>\n",
              "  </tbody>\n",
              "</table>\n",
              "</div>\n",
              "    <div class=\"colab-df-buttons\">\n",
              "\n",
              "  <div class=\"colab-df-container\">\n",
              "    <button class=\"colab-df-convert\" onclick=\"convertToInteractive('df-458b3cce-f302-44ac-89af-4a5096609abb')\"\n",
              "            title=\"Convert this dataframe to an interactive table.\"\n",
              "            style=\"display:none;\">\n",
              "\n",
              "  <svg xmlns=\"http://www.w3.org/2000/svg\" height=\"24px\" viewBox=\"0 -960 960 960\">\n",
              "    <path d=\"M120-120v-720h720v720H120Zm60-500h600v-160H180v160Zm220 220h160v-160H400v160Zm0 220h160v-160H400v160ZM180-400h160v-160H180v160Zm440 0h160v-160H620v160ZM180-180h160v-160H180v160Zm440 0h160v-160H620v160Z\"/>\n",
              "  </svg>\n",
              "    </button>\n",
              "\n",
              "  <style>\n",
              "    .colab-df-container {\n",
              "      display:flex;\n",
              "      gap: 12px;\n",
              "    }\n",
              "\n",
              "    .colab-df-convert {\n",
              "      background-color: #E8F0FE;\n",
              "      border: none;\n",
              "      border-radius: 50%;\n",
              "      cursor: pointer;\n",
              "      display: none;\n",
              "      fill: #1967D2;\n",
              "      height: 32px;\n",
              "      padding: 0 0 0 0;\n",
              "      width: 32px;\n",
              "    }\n",
              "\n",
              "    .colab-df-convert:hover {\n",
              "      background-color: #E2EBFA;\n",
              "      box-shadow: 0px 1px 2px rgba(60, 64, 67, 0.3), 0px 1px 3px 1px rgba(60, 64, 67, 0.15);\n",
              "      fill: #174EA6;\n",
              "    }\n",
              "\n",
              "    .colab-df-buttons div {\n",
              "      margin-bottom: 4px;\n",
              "    }\n",
              "\n",
              "    [theme=dark] .colab-df-convert {\n",
              "      background-color: #3B4455;\n",
              "      fill: #D2E3FC;\n",
              "    }\n",
              "\n",
              "    [theme=dark] .colab-df-convert:hover {\n",
              "      background-color: #434B5C;\n",
              "      box-shadow: 0px 1px 3px 1px rgba(0, 0, 0, 0.15);\n",
              "      filter: drop-shadow(0px 1px 2px rgba(0, 0, 0, 0.3));\n",
              "      fill: #FFFFFF;\n",
              "    }\n",
              "  </style>\n",
              "\n",
              "    <script>\n",
              "      const buttonEl =\n",
              "        document.querySelector('#df-458b3cce-f302-44ac-89af-4a5096609abb button.colab-df-convert');\n",
              "      buttonEl.style.display =\n",
              "        google.colab.kernel.accessAllowed ? 'block' : 'none';\n",
              "\n",
              "      async function convertToInteractive(key) {\n",
              "        const element = document.querySelector('#df-458b3cce-f302-44ac-89af-4a5096609abb');\n",
              "        const dataTable =\n",
              "          await google.colab.kernel.invokeFunction('convertToInteractive',\n",
              "                                                    [key], {});\n",
              "        if (!dataTable) return;\n",
              "\n",
              "        const docLinkHtml = 'Like what you see? Visit the ' +\n",
              "          '<a target=\"_blank\" href=https://colab.research.google.com/notebooks/data_table.ipynb>data table notebook</a>'\n",
              "          + ' to learn more about interactive tables.';\n",
              "        element.innerHTML = '';\n",
              "        dataTable['output_type'] = 'display_data';\n",
              "        await google.colab.output.renderOutput(dataTable, element);\n",
              "        const docLink = document.createElement('div');\n",
              "        docLink.innerHTML = docLinkHtml;\n",
              "        element.appendChild(docLink);\n",
              "      }\n",
              "    </script>\n",
              "  </div>\n",
              "\n",
              "\n",
              "<div id=\"df-f782b5eb-8e0d-41ec-811f-66360faf8ef0\">\n",
              "  <button class=\"colab-df-quickchart\" onclick=\"quickchart('df-f782b5eb-8e0d-41ec-811f-66360faf8ef0')\"\n",
              "            title=\"Suggest charts\"\n",
              "            style=\"display:none;\">\n",
              "\n",
              "<svg xmlns=\"http://www.w3.org/2000/svg\" height=\"24px\"viewBox=\"0 0 24 24\"\n",
              "     width=\"24px\">\n",
              "    <g>\n",
              "        <path d=\"M19 3H5c-1.1 0-2 .9-2 2v14c0 1.1.9 2 2 2h14c1.1 0 2-.9 2-2V5c0-1.1-.9-2-2-2zM9 17H7v-7h2v7zm4 0h-2V7h2v10zm4 0h-2v-4h2v4z\"/>\n",
              "    </g>\n",
              "</svg>\n",
              "  </button>\n",
              "\n",
              "<style>\n",
              "  .colab-df-quickchart {\n",
              "      --bg-color: #E8F0FE;\n",
              "      --fill-color: #1967D2;\n",
              "      --hover-bg-color: #E2EBFA;\n",
              "      --hover-fill-color: #174EA6;\n",
              "      --disabled-fill-color: #AAA;\n",
              "      --disabled-bg-color: #DDD;\n",
              "  }\n",
              "\n",
              "  [theme=dark] .colab-df-quickchart {\n",
              "      --bg-color: #3B4455;\n",
              "      --fill-color: #D2E3FC;\n",
              "      --hover-bg-color: #434B5C;\n",
              "      --hover-fill-color: #FFFFFF;\n",
              "      --disabled-bg-color: #3B4455;\n",
              "      --disabled-fill-color: #666;\n",
              "  }\n",
              "\n",
              "  .colab-df-quickchart {\n",
              "    background-color: var(--bg-color);\n",
              "    border: none;\n",
              "    border-radius: 50%;\n",
              "    cursor: pointer;\n",
              "    display: none;\n",
              "    fill: var(--fill-color);\n",
              "    height: 32px;\n",
              "    padding: 0;\n",
              "    width: 32px;\n",
              "  }\n",
              "\n",
              "  .colab-df-quickchart:hover {\n",
              "    background-color: var(--hover-bg-color);\n",
              "    box-shadow: 0 1px 2px rgba(60, 64, 67, 0.3), 0 1px 3px 1px rgba(60, 64, 67, 0.15);\n",
              "    fill: var(--button-hover-fill-color);\n",
              "  }\n",
              "\n",
              "  .colab-df-quickchart-complete:disabled,\n",
              "  .colab-df-quickchart-complete:disabled:hover {\n",
              "    background-color: var(--disabled-bg-color);\n",
              "    fill: var(--disabled-fill-color);\n",
              "    box-shadow: none;\n",
              "  }\n",
              "\n",
              "  .colab-df-spinner {\n",
              "    border: 2px solid var(--fill-color);\n",
              "    border-color: transparent;\n",
              "    border-bottom-color: var(--fill-color);\n",
              "    animation:\n",
              "      spin 1s steps(1) infinite;\n",
              "  }\n",
              "\n",
              "  @keyframes spin {\n",
              "    0% {\n",
              "      border-color: transparent;\n",
              "      border-bottom-color: var(--fill-color);\n",
              "      border-left-color: var(--fill-color);\n",
              "    }\n",
              "    20% {\n",
              "      border-color: transparent;\n",
              "      border-left-color: var(--fill-color);\n",
              "      border-top-color: var(--fill-color);\n",
              "    }\n",
              "    30% {\n",
              "      border-color: transparent;\n",
              "      border-left-color: var(--fill-color);\n",
              "      border-top-color: var(--fill-color);\n",
              "      border-right-color: var(--fill-color);\n",
              "    }\n",
              "    40% {\n",
              "      border-color: transparent;\n",
              "      border-right-color: var(--fill-color);\n",
              "      border-top-color: var(--fill-color);\n",
              "    }\n",
              "    60% {\n",
              "      border-color: transparent;\n",
              "      border-right-color: var(--fill-color);\n",
              "    }\n",
              "    80% {\n",
              "      border-color: transparent;\n",
              "      border-right-color: var(--fill-color);\n",
              "      border-bottom-color: var(--fill-color);\n",
              "    }\n",
              "    90% {\n",
              "      border-color: transparent;\n",
              "      border-bottom-color: var(--fill-color);\n",
              "    }\n",
              "  }\n",
              "</style>\n",
              "\n",
              "  <script>\n",
              "    async function quickchart(key) {\n",
              "      const quickchartButtonEl =\n",
              "        document.querySelector('#' + key + ' button');\n",
              "      quickchartButtonEl.disabled = true;  // To prevent multiple clicks.\n",
              "      quickchartButtonEl.classList.add('colab-df-spinner');\n",
              "      try {\n",
              "        const charts = await google.colab.kernel.invokeFunction(\n",
              "            'suggestCharts', [key], {});\n",
              "      } catch (error) {\n",
              "        console.error('Error during call to suggestCharts:', error);\n",
              "      }\n",
              "      quickchartButtonEl.classList.remove('colab-df-spinner');\n",
              "      quickchartButtonEl.classList.add('colab-df-quickchart-complete');\n",
              "    }\n",
              "    (() => {\n",
              "      let quickchartButtonEl =\n",
              "        document.querySelector('#df-f782b5eb-8e0d-41ec-811f-66360faf8ef0 button');\n",
              "      quickchartButtonEl.style.display =\n",
              "        google.colab.kernel.accessAllowed ? 'block' : 'none';\n",
              "    })();\n",
              "  </script>\n",
              "</div>\n",
              "    </div>\n",
              "  </div>\n"
            ],
            "application/vnd.google.colaboratory.intrinsic+json": {
              "type": "dataframe",
              "variable_name": "df",
              "summary": "{\n  \"name\": \"df\",\n  \"rows\": 33444,\n  \"fields\": [\n    {\n      \"column\": \"UserName\",\n      \"properties\": {\n        \"dtype\": \"number\",\n        \"std\": 11875,\n        \"min\": 3800,\n        \"max\": 44955,\n        \"num_unique_values\": 33444,\n        \"samples\": [\n          33995,\n          17124,\n          18421\n        ],\n        \"semantic_type\": \"\",\n        \"description\": \"\"\n      }\n    },\n    {\n      \"column\": \"ScreenName\",\n      \"properties\": {\n        \"dtype\": \"number\",\n        \"std\": 11875,\n        \"min\": 48752,\n        \"max\": 89907,\n        \"num_unique_values\": 33444,\n        \"samples\": [\n          78947,\n          62076,\n          63373\n        ],\n        \"semantic_type\": \"\",\n        \"description\": \"\"\n      }\n    },\n    {\n      \"column\": \"Location\",\n      \"properties\": {\n        \"dtype\": \"category\",\n        \"num_unique_values\": 10465,\n        \"samples\": [\n          \"Kitchener | Ontario | Canada\",\n          \"Montr\\u00c3\\u0083\\u00c2\\u00a9al\",\n          \"England. Germany.\"\n        ],\n        \"semantic_type\": \"\",\n        \"description\": \"\"\n      }\n    },\n    {\n      \"column\": \"TweetAt\",\n      \"properties\": {\n        \"dtype\": \"object\",\n        \"num_unique_values\": 30,\n        \"samples\": [\n          \"12-04-2020\",\n          \"31-03-2020\",\n          \"08-04-2020\"\n        ],\n        \"semantic_type\": \"\",\n        \"description\": \"\"\n      }\n    },\n    {\n      \"column\": \"OriginalTweet\",\n      \"properties\": {\n        \"dtype\": \"string\",\n        \"num_unique_values\": 33444,\n        \"samples\": [\n          \"US death toll is way less than estimated. This I hope will bring back consumer confidence #coronavirus #Covid_19 #CoronavirusUSA\",\n          \"We will get through this by people helping people and not stock piling food and toiletries, selfish pricks #Covid_19\",\n          \"#rice prices soar to two-year high, traders blame it on #coronavirus panic buying, writes #YasirWardad https://t.co/hIXzS1DKdo #FE via @febdonline\"\n        ],\n        \"semantic_type\": \"\",\n        \"description\": \"\"\n      }\n    },\n    {\n      \"column\": \"Sentiment\",\n      \"properties\": {\n        \"dtype\": \"number\",\n        \"std\": 0,\n        \"min\": 0,\n        \"max\": 1,\n        \"num_unique_values\": 2,\n        \"samples\": [\n          0,\n          1\n        ],\n        \"semantic_type\": \"\",\n        \"description\": \"\"\n      }\n    }\n  ]\n}"
            }
          },
          "metadata": {},
          "execution_count": 16
        }
      ]
    },
    {
      "cell_type": "markdown",
      "metadata": {
        "id": "pGq1FxJ-kBo5"
      },
      "source": [
        "Сбалансированы ли классы?"
      ]
    },
    {
      "cell_type": "code",
      "execution_count": null,
      "metadata": {
        "id": "a7gdNtxckK5V",
        "colab": {
          "base_uri": "https://localhost:8080/"
        },
        "outputId": "3ac8206d-0656-419f-e648-a788b5e5f2c8"
      },
      "outputs": [
        {
          "output_type": "execute_result",
          "data": {
            "text/plain": [
              "Sentiment\n",
              "1    18046\n",
              "0    15398\n",
              "Name: count, dtype: int64"
            ]
          },
          "metadata": {},
          "execution_count": 17
        }
      ],
      "source": [
        "# -- YOUR CODE HERE --\n",
        "df['Sentiment'].value_counts()"
      ]
    },
    {
      "cell_type": "markdown",
      "metadata": {
        "id": "Ng8BCelMkWb0"
      },
      "source": [
        "**Ответ:** классы не сбалансированы"
      ]
    },
    {
      "cell_type": "markdown",
      "metadata": {
        "id": "qmSIBSsLk5Zz"
      },
      "source": [
        "Выведете на экран информацию о пропусках в данных. Если пропуски присутствуют заполните их строкой 'Unknown'."
      ]
    },
    {
      "cell_type": "code",
      "source": [
        "df.info()"
      ],
      "metadata": {
        "colab": {
          "base_uri": "https://localhost:8080/"
        },
        "id": "-sx8blIgVOHX",
        "outputId": "d0387cb5-108d-4f11-c7d8-1028f802c1ce"
      },
      "execution_count": null,
      "outputs": [
        {
          "output_type": "stream",
          "name": "stdout",
          "text": [
            "<class 'pandas.core.frame.DataFrame'>\n",
            "RangeIndex: 33444 entries, 0 to 33443\n",
            "Data columns (total 6 columns):\n",
            " #   Column         Non-Null Count  Dtype \n",
            "---  ------         --------------  ----- \n",
            " 0   UserName       33444 non-null  int64 \n",
            " 1   ScreenName     33444 non-null  int64 \n",
            " 2   Location       26395 non-null  object\n",
            " 3   TweetAt        33444 non-null  object\n",
            " 4   OriginalTweet  33444 non-null  object\n",
            " 5   Sentiment      33444 non-null  int64 \n",
            "dtypes: int64(3), object(3)\n",
            "memory usage: 1.5+ MB\n"
          ]
        }
      ]
    },
    {
      "cell_type": "code",
      "execution_count": null,
      "metadata": {
        "id": "UhUVRkR5kxa7",
        "colab": {
          "base_uri": "https://localhost:8080/"
        },
        "outputId": "15ed5aa3-2b20-4993-8560-21a5364532b9"
      },
      "outputs": [
        {
          "output_type": "execute_result",
          "data": {
            "text/plain": [
              "True"
            ]
          },
          "metadata": {},
          "execution_count": 19
        }
      ],
      "source": [
        "# -- YOUR CODE HERE --\n",
        "df.isnull().values.any()\n",
        "#пропуски в данных есть"
      ]
    },
    {
      "cell_type": "code",
      "source": [
        "df = df.fillna('Unknown')\n",
        "df"
      ],
      "metadata": {
        "colab": {
          "base_uri": "https://localhost:8080/",
          "height": 423
        },
        "id": "mOl8zLeUwhgT",
        "outputId": "1f77b1fe-67c7-432f-c273-021f116d9a97"
      },
      "execution_count": null,
      "outputs": [
        {
          "output_type": "execute_result",
          "data": {
            "text/plain": [
              "       UserName  ScreenName                      Location     TweetAt  \\\n",
              "0          3800       48752                            UK  16-03-2020   \n",
              "1          3801       48753                     Vagabonds  16-03-2020   \n",
              "2          3802       48754                       Unknown  16-03-2020   \n",
              "3          3803       48755                       Unknown  16-03-2020   \n",
              "4          3804       48756   ÃÂT: 36.319708,-82.363649  16-03-2020   \n",
              "...         ...         ...                           ...         ...   \n",
              "33439     44949       89901                          OHIO  14-04-2020   \n",
              "33440     44950       89902                       Unknown  14-04-2020   \n",
              "33441     44952       89904                       Unknown  14-04-2020   \n",
              "33442     44953       89905                       Unknown  14-04-2020   \n",
              "33443     44955       89907  i love you so much || he/him  14-04-2020   \n",
              "\n",
              "                                           OriginalTweet  Sentiment  \n",
              "0      advice Talk to your neighbours family to excha...          1  \n",
              "1      Coronavirus Australia: Woolworths to give elde...          1  \n",
              "2      My food stock is not the only one which is emp...          1  \n",
              "3      Me, ready to go at supermarket during the #COV...          0  \n",
              "4      As news of the regionÃÂs first confirmed COV...          1  \n",
              "...                                                  ...        ...  \n",
              "33439  I never that weÃÂd be in a situation &amp; w...          1  \n",
              "33440  @MrSilverScott you are definitely my man. I fe...          1  \n",
              "33441  Response to complaint not provided citing COVI...          0  \n",
              "33442  You know itÃÂs getting tough when @KameronWi...          1  \n",
              "33443  @TartiiCat Well new/used Rift S are going for ...          0  \n",
              "\n",
              "[33444 rows x 6 columns]"
            ],
            "text/html": [
              "\n",
              "  <div id=\"df-a65d2abf-b248-4529-90ff-358959889db1\" class=\"colab-df-container\">\n",
              "    <div>\n",
              "<style scoped>\n",
              "    .dataframe tbody tr th:only-of-type {\n",
              "        vertical-align: middle;\n",
              "    }\n",
              "\n",
              "    .dataframe tbody tr th {\n",
              "        vertical-align: top;\n",
              "    }\n",
              "\n",
              "    .dataframe thead th {\n",
              "        text-align: right;\n",
              "    }\n",
              "</style>\n",
              "<table border=\"1\" class=\"dataframe\">\n",
              "  <thead>\n",
              "    <tr style=\"text-align: right;\">\n",
              "      <th></th>\n",
              "      <th>UserName</th>\n",
              "      <th>ScreenName</th>\n",
              "      <th>Location</th>\n",
              "      <th>TweetAt</th>\n",
              "      <th>OriginalTweet</th>\n",
              "      <th>Sentiment</th>\n",
              "    </tr>\n",
              "  </thead>\n",
              "  <tbody>\n",
              "    <tr>\n",
              "      <th>0</th>\n",
              "      <td>3800</td>\n",
              "      <td>48752</td>\n",
              "      <td>UK</td>\n",
              "      <td>16-03-2020</td>\n",
              "      <td>advice Talk to your neighbours family to excha...</td>\n",
              "      <td>1</td>\n",
              "    </tr>\n",
              "    <tr>\n",
              "      <th>1</th>\n",
              "      <td>3801</td>\n",
              "      <td>48753</td>\n",
              "      <td>Vagabonds</td>\n",
              "      <td>16-03-2020</td>\n",
              "      <td>Coronavirus Australia: Woolworths to give elde...</td>\n",
              "      <td>1</td>\n",
              "    </tr>\n",
              "    <tr>\n",
              "      <th>2</th>\n",
              "      <td>3802</td>\n",
              "      <td>48754</td>\n",
              "      <td>Unknown</td>\n",
              "      <td>16-03-2020</td>\n",
              "      <td>My food stock is not the only one which is emp...</td>\n",
              "      <td>1</td>\n",
              "    </tr>\n",
              "    <tr>\n",
              "      <th>3</th>\n",
              "      <td>3803</td>\n",
              "      <td>48755</td>\n",
              "      <td>Unknown</td>\n",
              "      <td>16-03-2020</td>\n",
              "      <td>Me, ready to go at supermarket during the #COV...</td>\n",
              "      <td>0</td>\n",
              "    </tr>\n",
              "    <tr>\n",
              "      <th>4</th>\n",
              "      <td>3804</td>\n",
              "      <td>48756</td>\n",
              "      <td>ÃÂT: 36.319708,-82.363649</td>\n",
              "      <td>16-03-2020</td>\n",
              "      <td>As news of the regionÃÂs first confirmed COV...</td>\n",
              "      <td>1</td>\n",
              "    </tr>\n",
              "    <tr>\n",
              "      <th>...</th>\n",
              "      <td>...</td>\n",
              "      <td>...</td>\n",
              "      <td>...</td>\n",
              "      <td>...</td>\n",
              "      <td>...</td>\n",
              "      <td>...</td>\n",
              "    </tr>\n",
              "    <tr>\n",
              "      <th>33439</th>\n",
              "      <td>44949</td>\n",
              "      <td>89901</td>\n",
              "      <td>OHIO</td>\n",
              "      <td>14-04-2020</td>\n",
              "      <td>I never that weÃÂd be in a situation &amp;amp; w...</td>\n",
              "      <td>1</td>\n",
              "    </tr>\n",
              "    <tr>\n",
              "      <th>33440</th>\n",
              "      <td>44950</td>\n",
              "      <td>89902</td>\n",
              "      <td>Unknown</td>\n",
              "      <td>14-04-2020</td>\n",
              "      <td>@MrSilverScott you are definitely my man. I fe...</td>\n",
              "      <td>1</td>\n",
              "    </tr>\n",
              "    <tr>\n",
              "      <th>33441</th>\n",
              "      <td>44952</td>\n",
              "      <td>89904</td>\n",
              "      <td>Unknown</td>\n",
              "      <td>14-04-2020</td>\n",
              "      <td>Response to complaint not provided citing COVI...</td>\n",
              "      <td>0</td>\n",
              "    </tr>\n",
              "    <tr>\n",
              "      <th>33442</th>\n",
              "      <td>44953</td>\n",
              "      <td>89905</td>\n",
              "      <td>Unknown</td>\n",
              "      <td>14-04-2020</td>\n",
              "      <td>You know itÃÂs getting tough when @KameronWi...</td>\n",
              "      <td>1</td>\n",
              "    </tr>\n",
              "    <tr>\n",
              "      <th>33443</th>\n",
              "      <td>44955</td>\n",
              "      <td>89907</td>\n",
              "      <td>i love you so much || he/him</td>\n",
              "      <td>14-04-2020</td>\n",
              "      <td>@TartiiCat Well new/used Rift S are going for ...</td>\n",
              "      <td>0</td>\n",
              "    </tr>\n",
              "  </tbody>\n",
              "</table>\n",
              "<p>33444 rows × 6 columns</p>\n",
              "</div>\n",
              "    <div class=\"colab-df-buttons\">\n",
              "\n",
              "  <div class=\"colab-df-container\">\n",
              "    <button class=\"colab-df-convert\" onclick=\"convertToInteractive('df-a65d2abf-b248-4529-90ff-358959889db1')\"\n",
              "            title=\"Convert this dataframe to an interactive table.\"\n",
              "            style=\"display:none;\">\n",
              "\n",
              "  <svg xmlns=\"http://www.w3.org/2000/svg\" height=\"24px\" viewBox=\"0 -960 960 960\">\n",
              "    <path d=\"M120-120v-720h720v720H120Zm60-500h600v-160H180v160Zm220 220h160v-160H400v160Zm0 220h160v-160H400v160ZM180-400h160v-160H180v160Zm440 0h160v-160H620v160ZM180-180h160v-160H180v160Zm440 0h160v-160H620v160Z\"/>\n",
              "  </svg>\n",
              "    </button>\n",
              "\n",
              "  <style>\n",
              "    .colab-df-container {\n",
              "      display:flex;\n",
              "      gap: 12px;\n",
              "    }\n",
              "\n",
              "    .colab-df-convert {\n",
              "      background-color: #E8F0FE;\n",
              "      border: none;\n",
              "      border-radius: 50%;\n",
              "      cursor: pointer;\n",
              "      display: none;\n",
              "      fill: #1967D2;\n",
              "      height: 32px;\n",
              "      padding: 0 0 0 0;\n",
              "      width: 32px;\n",
              "    }\n",
              "\n",
              "    .colab-df-convert:hover {\n",
              "      background-color: #E2EBFA;\n",
              "      box-shadow: 0px 1px 2px rgba(60, 64, 67, 0.3), 0px 1px 3px 1px rgba(60, 64, 67, 0.15);\n",
              "      fill: #174EA6;\n",
              "    }\n",
              "\n",
              "    .colab-df-buttons div {\n",
              "      margin-bottom: 4px;\n",
              "    }\n",
              "\n",
              "    [theme=dark] .colab-df-convert {\n",
              "      background-color: #3B4455;\n",
              "      fill: #D2E3FC;\n",
              "    }\n",
              "\n",
              "    [theme=dark] .colab-df-convert:hover {\n",
              "      background-color: #434B5C;\n",
              "      box-shadow: 0px 1px 3px 1px rgba(0, 0, 0, 0.15);\n",
              "      filter: drop-shadow(0px 1px 2px rgba(0, 0, 0, 0.3));\n",
              "      fill: #FFFFFF;\n",
              "    }\n",
              "  </style>\n",
              "\n",
              "    <script>\n",
              "      const buttonEl =\n",
              "        document.querySelector('#df-a65d2abf-b248-4529-90ff-358959889db1 button.colab-df-convert');\n",
              "      buttonEl.style.display =\n",
              "        google.colab.kernel.accessAllowed ? 'block' : 'none';\n",
              "\n",
              "      async function convertToInteractive(key) {\n",
              "        const element = document.querySelector('#df-a65d2abf-b248-4529-90ff-358959889db1');\n",
              "        const dataTable =\n",
              "          await google.colab.kernel.invokeFunction('convertToInteractive',\n",
              "                                                    [key], {});\n",
              "        if (!dataTable) return;\n",
              "\n",
              "        const docLinkHtml = 'Like what you see? Visit the ' +\n",
              "          '<a target=\"_blank\" href=https://colab.research.google.com/notebooks/data_table.ipynb>data table notebook</a>'\n",
              "          + ' to learn more about interactive tables.';\n",
              "        element.innerHTML = '';\n",
              "        dataTable['output_type'] = 'display_data';\n",
              "        await google.colab.output.renderOutput(dataTable, element);\n",
              "        const docLink = document.createElement('div');\n",
              "        docLink.innerHTML = docLinkHtml;\n",
              "        element.appendChild(docLink);\n",
              "      }\n",
              "    </script>\n",
              "  </div>\n",
              "\n",
              "\n",
              "<div id=\"df-69367459-9008-4193-bd14-aa5ae1e04ed2\">\n",
              "  <button class=\"colab-df-quickchart\" onclick=\"quickchart('df-69367459-9008-4193-bd14-aa5ae1e04ed2')\"\n",
              "            title=\"Suggest charts\"\n",
              "            style=\"display:none;\">\n",
              "\n",
              "<svg xmlns=\"http://www.w3.org/2000/svg\" height=\"24px\"viewBox=\"0 0 24 24\"\n",
              "     width=\"24px\">\n",
              "    <g>\n",
              "        <path d=\"M19 3H5c-1.1 0-2 .9-2 2v14c0 1.1.9 2 2 2h14c1.1 0 2-.9 2-2V5c0-1.1-.9-2-2-2zM9 17H7v-7h2v7zm4 0h-2V7h2v10zm4 0h-2v-4h2v4z\"/>\n",
              "    </g>\n",
              "</svg>\n",
              "  </button>\n",
              "\n",
              "<style>\n",
              "  .colab-df-quickchart {\n",
              "      --bg-color: #E8F0FE;\n",
              "      --fill-color: #1967D2;\n",
              "      --hover-bg-color: #E2EBFA;\n",
              "      --hover-fill-color: #174EA6;\n",
              "      --disabled-fill-color: #AAA;\n",
              "      --disabled-bg-color: #DDD;\n",
              "  }\n",
              "\n",
              "  [theme=dark] .colab-df-quickchart {\n",
              "      --bg-color: #3B4455;\n",
              "      --fill-color: #D2E3FC;\n",
              "      --hover-bg-color: #434B5C;\n",
              "      --hover-fill-color: #FFFFFF;\n",
              "      --disabled-bg-color: #3B4455;\n",
              "      --disabled-fill-color: #666;\n",
              "  }\n",
              "\n",
              "  .colab-df-quickchart {\n",
              "    background-color: var(--bg-color);\n",
              "    border: none;\n",
              "    border-radius: 50%;\n",
              "    cursor: pointer;\n",
              "    display: none;\n",
              "    fill: var(--fill-color);\n",
              "    height: 32px;\n",
              "    padding: 0;\n",
              "    width: 32px;\n",
              "  }\n",
              "\n",
              "  .colab-df-quickchart:hover {\n",
              "    background-color: var(--hover-bg-color);\n",
              "    box-shadow: 0 1px 2px rgba(60, 64, 67, 0.3), 0 1px 3px 1px rgba(60, 64, 67, 0.15);\n",
              "    fill: var(--button-hover-fill-color);\n",
              "  }\n",
              "\n",
              "  .colab-df-quickchart-complete:disabled,\n",
              "  .colab-df-quickchart-complete:disabled:hover {\n",
              "    background-color: var(--disabled-bg-color);\n",
              "    fill: var(--disabled-fill-color);\n",
              "    box-shadow: none;\n",
              "  }\n",
              "\n",
              "  .colab-df-spinner {\n",
              "    border: 2px solid var(--fill-color);\n",
              "    border-color: transparent;\n",
              "    border-bottom-color: var(--fill-color);\n",
              "    animation:\n",
              "      spin 1s steps(1) infinite;\n",
              "  }\n",
              "\n",
              "  @keyframes spin {\n",
              "    0% {\n",
              "      border-color: transparent;\n",
              "      border-bottom-color: var(--fill-color);\n",
              "      border-left-color: var(--fill-color);\n",
              "    }\n",
              "    20% {\n",
              "      border-color: transparent;\n",
              "      border-left-color: var(--fill-color);\n",
              "      border-top-color: var(--fill-color);\n",
              "    }\n",
              "    30% {\n",
              "      border-color: transparent;\n",
              "      border-left-color: var(--fill-color);\n",
              "      border-top-color: var(--fill-color);\n",
              "      border-right-color: var(--fill-color);\n",
              "    }\n",
              "    40% {\n",
              "      border-color: transparent;\n",
              "      border-right-color: var(--fill-color);\n",
              "      border-top-color: var(--fill-color);\n",
              "    }\n",
              "    60% {\n",
              "      border-color: transparent;\n",
              "      border-right-color: var(--fill-color);\n",
              "    }\n",
              "    80% {\n",
              "      border-color: transparent;\n",
              "      border-right-color: var(--fill-color);\n",
              "      border-bottom-color: var(--fill-color);\n",
              "    }\n",
              "    90% {\n",
              "      border-color: transparent;\n",
              "      border-bottom-color: var(--fill-color);\n",
              "    }\n",
              "  }\n",
              "</style>\n",
              "\n",
              "  <script>\n",
              "    async function quickchart(key) {\n",
              "      const quickchartButtonEl =\n",
              "        document.querySelector('#' + key + ' button');\n",
              "      quickchartButtonEl.disabled = true;  // To prevent multiple clicks.\n",
              "      quickchartButtonEl.classList.add('colab-df-spinner');\n",
              "      try {\n",
              "        const charts = await google.colab.kernel.invokeFunction(\n",
              "            'suggestCharts', [key], {});\n",
              "      } catch (error) {\n",
              "        console.error('Error during call to suggestCharts:', error);\n",
              "      }\n",
              "      quickchartButtonEl.classList.remove('colab-df-spinner');\n",
              "      quickchartButtonEl.classList.add('colab-df-quickchart-complete');\n",
              "    }\n",
              "    (() => {\n",
              "      let quickchartButtonEl =\n",
              "        document.querySelector('#df-69367459-9008-4193-bd14-aa5ae1e04ed2 button');\n",
              "      quickchartButtonEl.style.display =\n",
              "        google.colab.kernel.accessAllowed ? 'block' : 'none';\n",
              "    })();\n",
              "  </script>\n",
              "</div>\n",
              "    </div>\n",
              "  </div>\n"
            ],
            "application/vnd.google.colaboratory.intrinsic+json": {
              "type": "dataframe",
              "variable_name": "df",
              "summary": "{\n  \"name\": \"df\",\n  \"rows\": 33444,\n  \"fields\": [\n    {\n      \"column\": \"UserName\",\n      \"properties\": {\n        \"dtype\": \"number\",\n        \"std\": 11875,\n        \"min\": 3800,\n        \"max\": 44955,\n        \"num_unique_values\": 33444,\n        \"samples\": [\n          33995,\n          17124,\n          18421\n        ],\n        \"semantic_type\": \"\",\n        \"description\": \"\"\n      }\n    },\n    {\n      \"column\": \"ScreenName\",\n      \"properties\": {\n        \"dtype\": \"number\",\n        \"std\": 11875,\n        \"min\": 48752,\n        \"max\": 89907,\n        \"num_unique_values\": 33444,\n        \"samples\": [\n          78947,\n          62076,\n          63373\n        ],\n        \"semantic_type\": \"\",\n        \"description\": \"\"\n      }\n    },\n    {\n      \"column\": \"Location\",\n      \"properties\": {\n        \"dtype\": \"category\",\n        \"num_unique_values\": 10465,\n        \"samples\": [\n          \"Kitchener | Ontario | Canada\",\n          \"Wien, \\u00c3\\u0083\\u00c2\\u0096sterreich\",\n          \"Warsaw\"\n        ],\n        \"semantic_type\": \"\",\n        \"description\": \"\"\n      }\n    },\n    {\n      \"column\": \"TweetAt\",\n      \"properties\": {\n        \"dtype\": \"object\",\n        \"num_unique_values\": 30,\n        \"samples\": [\n          \"12-04-2020\",\n          \"31-03-2020\",\n          \"08-04-2020\"\n        ],\n        \"semantic_type\": \"\",\n        \"description\": \"\"\n      }\n    },\n    {\n      \"column\": \"OriginalTweet\",\n      \"properties\": {\n        \"dtype\": \"string\",\n        \"num_unique_values\": 33444,\n        \"samples\": [\n          \"US death toll is way less than estimated. This I hope will bring back consumer confidence #coronavirus #Covid_19 #CoronavirusUSA\",\n          \"We will get through this by people helping people and not stock piling food and toiletries, selfish pricks #Covid_19\",\n          \"#rice prices soar to two-year high, traders blame it on #coronavirus panic buying, writes #YasirWardad https://t.co/hIXzS1DKdo #FE via @febdonline\"\n        ],\n        \"semantic_type\": \"\",\n        \"description\": \"\"\n      }\n    },\n    {\n      \"column\": \"Sentiment\",\n      \"properties\": {\n        \"dtype\": \"number\",\n        \"std\": 0,\n        \"min\": 0,\n        \"max\": 1,\n        \"num_unique_values\": 2,\n        \"samples\": [\n          0,\n          1\n        ],\n        \"semantic_type\": \"\",\n        \"description\": \"\"\n      }\n    }\n  ]\n}"
            }
          },
          "metadata": {},
          "execution_count": 20
        }
      ]
    },
    {
      "cell_type": "markdown",
      "metadata": {
        "id": "1tzt27tfjUpq"
      },
      "source": [
        "Разделите данные на обучающие и тестовые в соотношении 7 : 3 и `random_state=0`"
      ]
    },
    {
      "cell_type": "code",
      "execution_count": null,
      "metadata": {
        "id": "xSLOA9tIj9Z6"
      },
      "outputs": [],
      "source": [
        "from sklearn.model_selection import train_test_split\n",
        "\n",
        "train, test = train_test_split(df, test_size=0.3, random_state=0)"
      ]
    },
    {
      "cell_type": "code",
      "source": [
        "train.info()"
      ],
      "metadata": {
        "colab": {
          "base_uri": "https://localhost:8080/"
        },
        "id": "W7UgGSsNr4QM",
        "outputId": "8116b443-d191-47db-e618-d328c1339b78"
      },
      "execution_count": null,
      "outputs": [
        {
          "output_type": "stream",
          "name": "stdout",
          "text": [
            "<class 'pandas.core.frame.DataFrame'>\n",
            "Index: 23410 entries, 25621 to 2732\n",
            "Data columns (total 6 columns):\n",
            " #   Column         Non-Null Count  Dtype \n",
            "---  ------         --------------  ----- \n",
            " 0   UserName       23410 non-null  int64 \n",
            " 1   ScreenName     23410 non-null  int64 \n",
            " 2   Location       23410 non-null  object\n",
            " 3   TweetAt        23410 non-null  object\n",
            " 4   OriginalTweet  23410 non-null  object\n",
            " 5   Sentiment      23410 non-null  int64 \n",
            "dtypes: int64(3), object(3)\n",
            "memory usage: 1.3+ MB\n"
          ]
        }
      ]
    },
    {
      "cell_type": "markdown",
      "metadata": {
        "id": "J9RrPUsJlL60"
      },
      "source": [
        "## Задание 2 Токенизация (3 балла)"
      ]
    },
    {
      "cell_type": "markdown",
      "metadata": {
        "id": "2Dz_b7Xopc_R"
      },
      "source": [
        "Постройте словарь на основе обучающей выборки и посчитайте количество встреч каждого токена с использованием самой простой токенизации - деления текстов по пробельным символам и приведение токенов в нижний регистр"
      ]
    },
    {
      "cell_type": "code",
      "execution_count": null,
      "metadata": {
        "id": "SFr67WOJphny",
        "colab": {
          "base_uri": "https://localhost:8080/"
        },
        "outputId": "82cd1807-b3a7-4d0f-d934-8e8fad64e490"
      },
      "outputs": [
        {
          "output_type": "execute_result",
          "data": {
            "text/plain": [
              "{'why': 654,\n",
              " 'we': 3787,\n",
              " 'still': 763,\n",
              " 'want': 487,\n",
              " 'to': 23373,\n",
              " 'buy': 748,\n",
              " 'so': 1837,\n",
              " 'much': 482,\n",
              " 'stuff': 106,\n",
              " 'during': 1908,\n",
              " 'quarantine': 154,\n",
              " 'https://t.co/1m881cwfuv': 1,\n",
              " '#shopping': 121,\n",
              " '#covid_19': 1660,\n",
              " '#online': 40,\n",
              " 'with': 4063,\n",
              " 'driving': 77,\n",
              " 'even': 682,\n",
              " 'more': 2008,\n",
              " 'usage': 22,\n",
              " 'a': 11737,\n",
              " 'strong': 93,\n",
              " 'strategy': 33,\n",
              " 'is': 7383,\n",
              " 'critical': 156,\n",
              " 'now': 1349,\n",
              " 'then': 435,\n",
              " 'ever': 179,\n",
              " 'luckily': 8,\n",
              " 'and': 14684,\n",
              " 'april': 163,\n",
              " '16': 36,\n",
              " 'webinar': 65,\n",
              " 'will': 2726,\n",
              " 'dive': 10,\n",
              " 'into': 666,\n",
              " 'growing': 84,\n",
              " 'app': 52,\n",
              " 'awareness': 32,\n",
              " 'targeting': 9,\n",
              " 'high': 408,\n",
              " 'lifetime': 4,\n",
              " 'value': 79,\n",
              " 'users': 19,\n",
              " '@canon_india': 16,\n",
              " 'i': 5340,\n",
              " 'am': 424,\n",
              " 'very': 418,\n",
              " 'happy..': 1,\n",
              " 'great': 409,\n",
              " 'job': 242,\n",
              " 'by': 2236,\n",
              " '#canonforcommunity': 5,\n",
              " 'https://t.co/z0intks34x': 1,\n",
              " 'the': 26815,\n",
              " 'u.s': 8,\n",
              " 'national': 123,\n",
              " 'debt': 68,\n",
              " 'likely': 170,\n",
              " 'exceed': 14,\n",
              " '$30': 7,\n",
              " 'trillion': 21,\n",
              " 'after': 886,\n",
              " 'unprecedented': 89,\n",
              " 'borrowing': 5,\n",
              " 'trump': 228,\n",
              " 'administration': 38,\n",
              " 'mnuchinã\\x82â\\x92s': 1,\n",
              " 'treasury': 3,\n",
              " '#coronavirus': 8223,\n",
              " 'crisis.': 162,\n",
              " 'federal': 99,\n",
              " 'reserve': 17,\n",
              " 'could': 640,\n",
              " 'be': 3570,\n",
              " 'doing': 508,\n",
              " 'cushion': 9,\n",
              " 'blow.': 4,\n",
              " 'consumer': 2245,\n",
              " 'led': 67,\n",
              " 'economy': 244,\n",
              " 'on': 5452,\n",
              " 'brink.': 1,\n",
              " 'finally': 91,\n",
              " 'got': 407,\n",
              " 'grocery': 3469,\n",
              " 'store.': 348,\n",
              " 'honestly,': 8,\n",
              " 'what': 1541,\n",
              " 'are': 7050,\n",
              " 'you': 5467,\n",
              " 'people': 3175,\n",
              " 'all': 2808,\n",
              " 'toilet': 824,\n",
              " 'paper?': 24,\n",
              " 'https://t.co/jmobv8z0u0': 1,\n",
              " 'friends:': 3,\n",
              " 'catholic': 7,\n",
              " \"university's\": 1,\n",
              " 'food': 3820,\n",
              " 'service': 305,\n",
              " 'workers': 1242,\n",
              " 'have': 3770,\n",
              " 'been': 1081,\n",
              " 'laid': 50,\n",
              " 'off': 472,\n",
              " 'without': 301,\n",
              " 'pay.': 14,\n",
              " '(by': 4,\n",
              " 'contrast,': 2,\n",
              " 'georgetown': 2,\n",
              " 'has': 2304,\n",
              " 'set': 146,\n",
              " 'an': 1417,\n",
              " 'example': 46,\n",
              " 'consistent': 7,\n",
              " 'social': 615,\n",
              " 'teaching.)': 1,\n",
              " 'please': 1061,\n",
              " 'sign': 106,\n",
              " 'rt.': 4,\n",
              " '@catholicpres': 1,\n",
              " '@catholicuniv': 1,\n",
              " 'https://t.co/evqby035wf': 1,\n",
              " \"it's\": 571,\n",
              " 'times': 372,\n",
              " 'like': 1550,\n",
              " 'these': 922,\n",
              " 'understand': 151,\n",
              " 'of': 13012,\n",
              " 'bidet.': 2,\n",
              " '#europe': 14,\n",
              " '#bidet': 6,\n",
              " '#toiletpaper': 691,\n",
              " 'regulatory': 11,\n",
              " 'litigation': 3,\n",
              " 'risks': 38,\n",
              " 'financial': 233,\n",
              " 'services': 263,\n",
              " 'providers': 38,\n",
              " 'highlighted': 9,\n",
              " 'in': 11198,\n",
              " 'ballard': 2,\n",
              " 'spahr': 2,\n",
              " 'covid-19': 3173,\n",
              " 'crisis': 713,\n",
              " 'fallout': 21,\n",
              " 'https://t.co/riqrhxxeim': 1,\n",
              " 'via': 687,\n",
              " '@@ballardspahrll': 1,\n",
              " '#training': 2,\n",
              " '#aca': 1,\n",
              " \"don't\": 551,\n",
              " 'panic': 1495,\n",
              " 'buying.': 77,\n",
              " \"i've\": 157,\n",
              " 'struggled': 10,\n",
              " 'get': 1759,\n",
              " 'basics': 19,\n",
              " 'as': 3694,\n",
              " 'emptying': 29,\n",
              " 'shelves.': 79,\n",
              " 'sensible': 20,\n",
              " \"aren't\": 61,\n",
              " 'shortage,': 13,\n",
              " 'just': 1540,\n",
              " 'shop': 471,\n",
              " 'time': 1136,\n",
              " 'restock': 42,\n",
              " 'if': 2142,\n",
              " \"we're\": 168,\n",
              " 'sensible,': 2,\n",
              " 'life': 244,\n",
              " 'slightly': 9,\n",
              " 'easier...take': 1,\n",
              " 'care': 401,\n",
              " '#coronacrisis': 423,\n",
              " 'at': 4642,\n",
              " 'least': 222,\n",
              " 'essential': 496,\n",
              " 'allowed,': 2,\n",
              " 'can': 2202,\n",
              " 'go': 1245,\n",
              " 'store': 3155,\n",
              " 'bank.': 8,\n",
              " 'itã\\x82â\\x92s': 459,\n",
              " 'ridiculous': 56,\n",
              " 'that': 3741,\n",
              " 'actually': 149,\n",
              " 'act': 102,\n",
              " 'going': 1141,\n",
              " 'those': 789,\n",
              " 'types': 25,\n",
              " 'places': 82,\n",
              " 'ã\\x82â\\x93necessaryã\\x82â\\x94': 1,\n",
              " 'stopped': 51,\n",
              " 'police.': 3,\n",
              " '?': 1320,\n",
              " '#covid19': 2471,\n",
              " '#quarantinelife': 112,\n",
              " 'queues': 54,\n",
              " 'outside': 151,\n",
              " 'supermarket': 3288,\n",
              " 'reserved': 10,\n",
              " 'for': 8566,\n",
              " 'elderly.': 8,\n",
              " 'britain,': 5,\n",
              " 'were': 566,\n",
              " 'better': 267,\n",
              " 'than': 891,\n",
              " 'this.': 92,\n",
              " 'https://t.co/0fmsmlgepm': 1,\n",
              " 'lt.': 3,\n",
              " 'gov.': 18,\n",
              " 'husted:': 1,\n",
              " '\"come': 4,\n",
              " 'people.': 113,\n",
              " 'that.\"': 4,\n",
              " 'hearing': 43,\n",
              " 'fight': 330,\n",
              " 'over': 786,\n",
              " 'paper': 587,\n",
              " 'from': 3045,\n",
              " 'one': 1074,\n",
              " 'american': 93,\n",
              " 'irishman': 1,\n",
              " 'others': 300,\n",
              " 'out': 2026,\n",
              " 'there,': 13,\n",
              " '#happystpatricksday!': 1,\n",
              " 'bought': 163,\n",
              " 'some': 1320,\n",
              " 'guiness': 1,\n",
              " 'corned': 2,\n",
              " 'beef': 32,\n",
              " 'cabbage': 2,\n",
              " 'other': 890,\n",
              " 'day': 521,\n",
              " 'since': 369,\n",
              " 'sadly': 19,\n",
              " 'cannot': 147,\n",
              " 'irish': 5,\n",
              " 'pub': 22,\n",
              " 'per': 246,\n",
              " 'tradition,': 2,\n",
              " 'thanks': 275,\n",
              " 'governor': 48,\n",
              " 'pritzker': 2,\n",
              " 'damn': 70,\n",
              " '@ufcw': 7,\n",
              " 'says': 369,\n",
              " '30': 79,\n",
              " 'died': 117,\n",
              " '#coronavirus.': 228,\n",
              " 'union': 38,\n",
              " 'reps': 6,\n",
              " 'consumers': 307,\n",
              " 'help': 1282,\n",
              " 'protect': 340,\n",
              " 'workers/the': 1,\n",
              " 'public.': 20,\n",
              " '-': 1429,\n",
              " 'wear': 182,\n",
              " 'mask': 330,\n",
              " 'when': 1343,\n",
              " 'shopping': 1621,\n",
              " 'touch': 75,\n",
              " 'few': 317,\n",
              " 'products': 427,\n",
              " 'possible': 143,\n",
              " 'throw': 27,\n",
              " 'used': 178,\n",
              " 'mask/gloves': 2,\n",
              " 'ã\\x82â\\x93major': 2,\n",
              " 'chains': 147,\n",
              " 'beginning': 83,\n",
              " 'report': 268,\n",
              " 'their': 1972,\n",
              " 'first': 475,\n",
              " 'coronavirus-related': 14,\n",
              " 'employee': 114,\n",
              " 'deaths,': 7,\n",
              " 'leading': 61,\n",
              " 'closures': 77,\n",
              " 'increasing': 121,\n",
              " 'anxiety': 90,\n",
              " 'among': 90,\n",
              " 'pandemic': 1026,\n",
              " 'intensifies': 8,\n",
              " 'across': 318,\n",
              " 'countryã\\x82â\\x94': 1,\n",
              " 'https://t.co/18v0pyhwb7': 1,\n",
              " 'my': 2445,\n",
              " 'story': 122,\n",
              " 'another': 246,\n",
              " 'aspect': 3,\n",
              " 'covid-19:': 134,\n",
              " 'banks': 244,\n",
              " 'face': 402,\n",
              " 'virus': 480,\n",
              " 'dilemma:': 3,\n",
              " 'demand,': 67,\n",
              " 'fewer': 28,\n",
              " 'volunteers': 68,\n",
              " 'https://t.co/ls0g86i8pu': 1,\n",
              " 'https://t.co/ofvkejff23': 1,\n",
              " 'walking': 68,\n",
              " 'around': 391,\n",
              " 'store,': 196,\n",
              " 'wearing': 190,\n",
              " 'was': 1384,\n",
              " 'weird.': 5,\n",
              " 'seeing': 214,\n",
              " 'mask,': 41,\n",
              " 'normal.': 28,\n",
              " 'sanitizing': 36,\n",
              " 'everything': 280,\n",
              " 'before': 433,\n",
              " 'putting': 166,\n",
              " 'it': 3150,\n",
              " 'away.': 26,\n",
              " 'weird': 37,\n",
              " 'time.': 158,\n",
              " '#azliving': 2,\n",
              " 'https://t.co/xoodgd2ulx': 1,\n",
              " 'point': 117,\n",
              " 're': 328,\n",
              " 'stock': 1063,\n",
              " 'piling': 36,\n",
              " 'live': 236,\n",
              " 'lifestyles': 1,\n",
              " 'eat': 125,\n",
              " 'lot': 262,\n",
              " 'don': 251,\n",
              " 't': 648,\n",
              " 'carry': 56,\n",
              " 'but': 2159,\n",
              " '70': 28,\n",
              " 'mother': 45,\n",
              " 'inherited': 1,\n",
              " 'wartime': 3,\n",
              " 'mentality': 2,\n",
              " 'doesn': 37,\n",
              " 'everyone': 600,\n",
              " '14': 49,\n",
              " 'days': 325,\n",
              " 'worth': 105,\n",
              " 'larder': 1,\n",
              " '1': 340,\n",
              " '2': 582,\n",
              " 'bay': 24,\n",
              " 'view': 42,\n",
              " 'distillery': 29,\n",
              " 'bottling': 1,\n",
              " 'hand': 1382,\n",
              " 'sanitizer': 1064,\n",
              " 'area': 125,\n",
              " 'nonprofits': 7,\n",
              " 'https://t.co/ogxu5ojpxh': 1,\n",
              " 'https://t.co/8cs3skukmn': 1,\n",
              " '#inspiration&gt;&gt;': 1,\n",
              " '#regram': 1,\n",
              " '#showcasing&gt;&gt;': 1,\n",
              " '#artwork': 1,\n",
              " '@karencantuq:': 1,\n",
              " 'title:': 2,\n",
              " '\"ready': 1,\n",
              " 'wipe': 59,\n",
              " 'coronavirus\"': 3,\n",
              " 'caption:': 2,\n",
              " '\"ps': 1,\n",
              " 'donã\\x82â\\x92t': 414,\n",
              " 'people\"': 2,\n",
              " '#stayinsideyourhouse': 1,\n",
              " 'follow&gt;&gt;': 1,\n",
              " '@authorship.me': 1,\n",
              " 'instagram:': 4,\n",
              " 'authorzine&gt;&gt;': 1,\n",
              " 'https://t.co/qo7tzfr0ih': 1,\n",
              " 'https://t.co/yu6kokta74': 1,\n",
              " 'spent': 43,\n",
              " 'trying': 307,\n",
              " 'book': 56,\n",
              " 'delivery': 686,\n",
              " 'any': 624,\n",
              " 'supermarket.': 204,\n",
              " 'there': 1219,\n",
              " 'no': 1898,\n",
              " 'availability': 30,\n",
              " '.': 454,\n",
              " 'self': 210,\n",
              " 'isolate': 52,\n",
              " '12': 78,\n",
              " 'weeks': 312,\n",
              " 'due': 1059,\n",
              " 'being': 827,\n",
              " 'immune': 59,\n",
              " 'supressed.': 1,\n",
              " 'how': 1850,\n",
              " 'supposed': 56,\n",
              " 'food?': 24,\n",
              " 'wonder': 67,\n",
              " 'stockpiled.': 4,\n",
              " 'help!': 15,\n",
              " '#coronacrisisuk': 49,\n",
              " '#stockpilinguk': 18,\n",
              " '#food': 158,\n",
              " 'complete': 61,\n",
              " 'madness': 22,\n",
              " '@borisjohnson': 78,\n",
              " '@susannareid100': 6,\n",
              " '@hollywills': 2,\n",
              " '@piersmorgan': 51,\n",
              " '@eamonnholmes': 1,\n",
              " '@ruthieel': 1,\n",
              " '@gmb': 15,\n",
              " '@bbcnews': 17,\n",
              " '@dailymailuk': 7,\n",
              " '#londonlockdown': 10,\n",
              " '#uklockdown': 22,\n",
              " '#covid-19': 191,\n",
              " 'https://t.co/dexxnx7ox3': 1,\n",
              " '\"forcing': 1,\n",
              " '50': 83,\n",
              " 'governors': 14,\n",
              " 'compete': 12,\n",
              " 'lifesaving': 5,\n",
              " 'equipment': 86,\n",
              " 'ã\\x82â\\x97': 141,\n",
              " 'hospitals': 81,\n",
              " 'pay': 329,\n",
              " 'exorbitant': 34,\n",
              " 'prices': 3891,\n",
              " 'only': 851,\n",
              " 'makes': 114,\n",
              " 'matters': 10,\n",
              " 'worse.\"': 1,\n",
              " 'bill': 67,\n",
              " 'gates:': 2,\n",
              " 'hereã\\x82â\\x92s': 59,\n",
              " 'make': 811,\n",
              " 'up': 1987,\n",
              " 'lost': 143,\n",
              " 'https://t.co/yh3rytrevk': 1,\n",
              " '#mondaymotivation': 16,\n",
              " 'iã\\x82â\\x92m': 414,\n",
              " 'privileged': 7,\n",
              " 'enough': 337,\n",
              " 'drive': 149,\n",
              " 'places.': 9,\n",
              " 'canã\\x82â\\x92t': 243,\n",
              " 'stop': 730,\n",
              " 'thinking': 98,\n",
              " 'about': 1726,\n",
              " 'easy': 74,\n",
              " 'access': 195,\n",
              " 'transport': 61,\n",
              " 'or': 2234,\n",
              " 'who': 1670,\n",
              " 'less': 212,\n",
              " 'able': 249,\n",
              " 'travel': 135,\n",
              " 'multiple': 43,\n",
              " 'shops.': 28,\n",
              " 'start': 201,\n",
              " '#stoppanicbuying': 130,\n",
              " '2/2': 8,\n",
              " 'especially': 161,\n",
              " 'whilst': 54,\n",
              " 'tesco': 51,\n",
              " 'own': 234,\n",
              " 'stores': 648,\n",
              " 'such': 269,\n",
              " 'leyton': 1,\n",
              " 'leytonstone': 2,\n",
              " 'frontline,': 4,\n",
              " 'dealing': 66,\n",
              " 'covid-19,': 311,\n",
              " 'restricted': 21,\n",
              " 'getting': 415,\n",
              " 'vulnerable': 275,\n",
              " 'difficult': 140,\n",
              " 'circumstances.': 8,\n",
              " 'every': 509,\n",
              " 'little': 208,\n",
              " 'helps!': 3,\n",
              " 'indeed!': 5,\n",
              " 'longer': 104,\n",
              " 'having': 257,\n",
              " 'cocktail': 3,\n",
              " 'parties,': 2,\n",
              " 'us': 1247,\n",
              " 'prefer': 15,\n",
              " 'stay': 895,\n",
              " 'sober': 2,\n",
              " 'find': 431,\n",
              " 'club': 24,\n",
              " 'soda': 4,\n",
              " 'local': 821,\n",
              " 'fourth': 6,\n",
              " 'emergency': 267,\n",
              " 'scammers': 113,\n",
              " 'using': 272,\n",
              " 'messages': 27,\n",
              " 'scam': 71,\n",
              " 'https://t.co/nzsthpcxre': 1,\n",
              " 'heaven': 3,\n",
              " 'hades': 1,\n",
              " 'judgement': 3,\n",
              " 'eternal': 2,\n",
              " 'hey': 89,\n",
              " 'wednesday': 42,\n",
              " '3': 364,\n",
              " 'helping': 213,\n",
              " 'free': 467,\n",
              " 'add': 66,\n",
              " 'link': 90,\n",
              " 'tell': 139,\n",
              " 'me': 920,\n",
              " 'which': 504,\n",
              " 'poll': 8,\n",
              " 'll': 75,\n",
              " 'feature': 9,\n",
              " 'blog': 63,\n",
              " '226k': 1,\n",
              " 'views': 11,\n",
              " 'tweet': 29,\n",
              " '54k': 1,\n",
              " 'followers': 12,\n",
              " 'mom': 48,\n",
              " 'found': 169,\n",
              " '#vintagetoiletpaper': 1,\n",
              " 'her': 377,\n",
              " 'basement.': 1,\n",
              " 'circa': 2,\n",
              " '1987.': 1,\n",
              " 'blue': 19,\n",
              " 'peach.': 1,\n",
              " 'told': 216,\n",
              " 'list': 173,\n",
              " '@ebay': 21,\n",
              " 'easy?': 1,\n",
              " '???': 182,\n",
              " 'https://t.co/2tvpmsaxox': 1,\n",
              " '@realdonaldtrump': 151,\n",
              " 'hear': 106,\n",
              " 'out,': 49,\n",
              " 'instead': 147,\n",
              " 'bailing': 6,\n",
              " 'corporations': 22,\n",
              " 'bailed': 2,\n",
              " 'everyoneã\\x82â\\x92s': 14,\n",
              " 'under': 239,\n",
              " '200k?': 1,\n",
              " 'bet': 31,\n",
              " 'would': 730,\n",
              " 'billions': 15,\n",
              " 'aaannnddd': 1,\n",
              " 'rebuy': 1,\n",
              " 'more!': 17,\n",
              " 'plus!': 1,\n",
              " 'our': 2460,\n",
              " 'tax': 64,\n",
              " 'mon': 3,\n",
              " 'yourself': 147,\n",
              " 'washing': 93,\n",
              " 'your': 2784,\n",
              " 'hands': 303,\n",
              " 'often': 60,\n",
              " 'soap': 161,\n",
              " 'water': 194,\n",
              " 'use': 572,\n",
              " '#wolverhampton': 1,\n",
              " 'https://t.co/e7ifbsqaxx': 1,\n",
              " 'two': 331,\n",
              " 'stories': 39,\n",
              " 'should': 875,\n",
              " 'mutually': 1,\n",
              " 'exclusive.': 1,\n",
              " \"couldn't\": 36,\n",
              " 'alleviate': 10,\n",
              " 'vice': 5,\n",
              " 'versa?': 1,\n",
              " 'https://t.co/01oc3pig5b': 1,\n",
              " 'https://t.co/omjr2atzhp': 1,\n",
              " \"here's\": 99,\n",
              " 'idea,': 5,\n",
              " 'become': 138,\n",
              " 'historian.': 1,\n",
              " 'write': 20,\n",
              " 'daily': 192,\n",
              " 'weekly': 60,\n",
              " 'diary': 7,\n",
              " 'grand': 12,\n",
              " 'children': 71,\n",
              " 'experiences.': 3,\n",
              " 'sacrifices,': 2,\n",
              " 'anecdotes,': 1,\n",
              " 'funny': 36,\n",
              " 'sad': 53,\n",
              " 'stories,': 1,\n",
              " 'recipes,': 3,\n",
              " 'photos': 38,\n",
              " 'newspaper': 3,\n",
              " 'clippings.': 1,\n",
              " 'imagine': 77,\n",
              " 'musings': 1,\n",
              " '1.': 77,\n",
              " 'need': 1549,\n",
              " 'media': 155,\n",
              " '#coronavirus...': 5,\n",
              " 'not': 2714,\n",
              " 'because': 902,\n",
              " 'news': 304,\n",
              " 'pictures': 26,\n",
              " 'take': 701,\n",
              " 'advantage': 174,\n",
              " 'of.': 11,\n",
              " '#instafood': 1,\n",
              " 'making': 404,\n",
              " 'restaurant': 88,\n",
              " 'animal': 43,\n",
              " 'shelters': 9,\n",
              " 'left': 211,\n",
              " 'starving': 10,\n",
              " 'buying': 911,\n",
              " 'consider': 122,\n",
              " 'donating': 84,\n",
              " 'through': 427,\n",
              " 'facebook': 45,\n",
              " '@theprojecttv': 1,\n",
              " '@mrbenjaminlaw': 1,\n",
              " 'okay': 28,\n",
              " 'empty': 407,\n",
              " 'shelves': 709,\n",
              " 'goods': 243,\n",
              " '&amp;': 2314,\n",
              " 'send': 112,\n",
              " 'them': 799,\n",
              " 'china!': 2,\n",
              " 'deprive': 3,\n",
              " 'medical': 303,\n",
              " 'supplies': 387,\n",
              " 'faulty': 3,\n",
              " 'covid': 1769,\n",
              " 'americans': 159,\n",
              " 'alarmed': 3,\n",
              " 'shelves,': 55,\n",
              " 'while': 638,\n",
              " 'suppliers': 55,\n",
              " 'retailers': 207,\n",
              " 'say': 350,\n",
              " 'they': 2309,\n",
              " 'struggling': 146,\n",
              " 'surging': 38,\n",
              " 'insist': 7,\n",
              " 'supply': 662,\n",
              " 'chain': 277,\n",
              " 'remains': 39,\n",
              " '@nytimes': 26,\n",
              " '#supplychain': 50,\n",
              " 'https://t.co/qro7avqbz5': 1,\n",
              " 'this': 4581,\n",
              " 'video': 152,\n",
              " 'seen': 258,\n",
              " 'many': 819,\n",
              " 'possible.': 26,\n",
              " 'nhs': 164,\n",
              " 'staff': 521,\n",
              " 'brave': 25,\n",
              " 'woman': 126,\n",
              " 'need,': 21,\n",
              " 'something': 203,\n",
              " 'needs': 276,\n",
              " 'done': 187,\n",
              " 'urgently.': 5,\n",
              " 'https://t.co/kh3kdyqd8t': 1,\n",
              " 'diageo': 1,\n",
              " 'hasnã\\x82â\\x92t': 13,\n",
              " 'clue.': 1,\n",
              " 'clear': 97,\n",
              " 'demonstraion': 1,\n",
              " 'remote': 31,\n",
              " 'consumer.#covid-19': 1,\n",
              " 'https://t.co/tfrsci5ysp': 1,\n",
              " 'picked': 18,\n",
              " 'hell': 54,\n",
              " 'back': 430,\n",
              " 'working': 594,\n",
              " 'rational,': 1,\n",
              " 'educated,': 2,\n",
              " 'respected': 13,\n",
              " 'members': 106,\n",
              " 'community': 243,\n",
              " 'non-perishable': 11,\n",
              " 'items': 439,\n",
              " 'bulk': 71,\n",
              " 'terrified': 12,\n",
              " 'facial': 5,\n",
              " 'expressions,': 1,\n",
              " 'eerie': 4,\n",
              " 'sense': 70,\n",
              " 'doomsday': 6,\n",
              " 'scenario': 11,\n",
              " \"isn't\": 88,\n",
              " 'far': 148,\n",
              " 'off.': 23,\n",
              " 'new': 885,\n",
              " 'study': 38,\n",
              " 'finds': 27,\n",
              " 'may': 525,\n",
              " 'surfaces': 37,\n",
              " 'previously': 23,\n",
              " 'thought.': 12,\n",
              " 'down': 609,\n",
              " 'cleanser,': 1,\n",
              " 'wash': 212,\n",
              " 'frequently': 19,\n",
              " 'sanitizer.': 101,\n",
              " 'safe!': 23,\n",
              " '#coronavirusupdate': 151,\n",
              " '#flatteningthecurve': 2,\n",
              " 'https://t.co/ghbayd7t0g': 1,\n",
              " 'claim': 43,\n",
              " 'support': 477,\n",
              " 'doctors,': 59,\n",
              " 'nurses,': 72,\n",
              " 'responders': 66,\n",
              " 'guard,': 1,\n",
              " 'staff,': 101,\n",
              " 'truck': 105,\n",
              " 'drivers,': 86,\n",
              " 'else': 189,\n",
              " 'continue': 261,\n",
              " 'ignore': 23,\n",
              " 'pleas': 4,\n",
              " 'home!': 21,\n",
              " '#stayhome': 229,\n",
              " '#flattenthecurve': 47,\n",
              " 'shops': 279,\n",
              " 'markets': 211,\n",
              " 'malls': 22,\n",
              " 'restaurants': 131,\n",
              " 'remain': 150,\n",
              " 'closed': 202,\n",
              " 'different': 123,\n",
              " 'cities': 34,\n",
              " 'pakistan': 20,\n",
              " 'country': 321,\n",
              " 'imposed': 22,\n",
              " 'ban': 45,\n",
              " 'movement': 42,\n",
              " 'spread': 514,\n",
              " 'following': 149,\n",
              " 'show': 135,\n",
              " 'roads': 15,\n",
              " 'karachi': 1,\n",
              " 'islamabad': 1,\n",
              " 'bannu': 1,\n",
              " 'online': 1648,\n",
              " '19': 2111,\n",
              " 'lockdown': 326,\n",
              " 'paddy': 1,\n",
              " 'drop': 235,\n",
              " 'closure': 30,\n",
              " 'inter': 3,\n",
              " 'state': 250,\n",
              " 'borders': 16,\n",
              " 'andhra': 1,\n",
              " 'pradesh': 2,\n",
              " '#trumppressconference': 6,\n",
              " 'never': 303,\n",
              " 'maga': 2,\n",
              " 'rally': 14,\n",
              " 'amp': 859,\n",
              " 'stand': 74,\n",
              " 'talking': 69,\n",
              " 'russia': 92,\n",
              " 'mbs': 9,\n",
              " 'oil': 900,\n",
              " 'gas': 361,\n",
              " 'cuts': 65,\n",
              " 'wtf': 31,\n",
              " 'notice': 48,\n",
              " 'press': 42,\n",
              " 'release': 23,\n",
              " 'induced': 13,\n",
              " '2020': 211,\n",
              " 'recession': 77,\n",
              " 'disrupt': 9,\n",
              " 'automotive': 6,\n",
              " 'electronics': 14,\n",
              " 'semiconductor': 2,\n",
              " 'infrastructure': 19,\n",
              " 'businesses': 342,\n",
              " 'lockdown:': 9,\n",
              " 'know': 641,\n",
              " 'options==&gt;': 1,\n",
              " 'https://t.co/qky8zps5oz': 1,\n",
              " '#21dayslockdown': 12,\n",
              " '#21daylockdown': 14,\n",
              " '#21dayslockdownindia': 1,\n",
              " '#coronavirusindia': 30,\n",
              " '#coronaviruslockdown': 71,\n",
              " 'idiots': 46,\n",
              " 'president': 104,\n",
              " 'also': 635,\n",
              " 'needed': 148,\n",
              " 'direct': 75,\n",
              " 'business': 445,\n",
              " 'situation,': 20,\n",
              " 'hike': 58,\n",
              " 'required': 50,\n",
              " 'safeguarding': 3,\n",
              " 'transmission': 28,\n",
              " 'packet': 8,\n",
              " 'facemasks': 7,\n",
              " '@': 111,\n",
              " '150k,': 1,\n",
              " 'chloroquine': 19,\n",
              " '100k': 5,\n",
              " 'right,': 9,\n",
              " 'see': 756,\n",
              " 'greedy': 60,\n",
              " '*duckers*': 1,\n",
              " 'stockpiled': 10,\n",
              " 'all!': 12,\n",
              " '#convid19uk': 23,\n",
              " '#stopstockpiling': 44,\n",
              " 'call': 276,\n",
              " 'bollocks': 6,\n",
              " 'one.': 30,\n",
              " 'fair': 53,\n",
              " 'amount': 98,\n",
              " 'ppl': 120,\n",
              " 'buyin': 1,\n",
              " 'immediately': 51,\n",
              " 'years': 146,\n",
              " 'brexit': 18,\n",
              " 'n': 90,\n",
              " 'general': 94,\n",
              " 'skintness.': 1,\n",
              " 'its': 674,\n",
              " 'fucking': 128,\n",
              " 'buyers.': 7,\n",
              " \"'accidental\": 3,\n",
              " \"hoarders'\": 2,\n",
              " 'causing': 76,\n",
              " 'shortages': 146,\n",
              " 'https://t.co/q2nslsf6ke': 1,\n",
              " 'sent': 68,\n",
              " '@updayuk': 5,\n",
              " \"today's\": 33,\n",
              " 'news:': 26,\n",
              " 'pressured': 3,\n",
              " 'close': 250,\n",
              " 'affects': 19,\n",
              " 'beauty': 22,\n",
              " 'industry': 234,\n",
              " 'retail': 610,\n",
              " 'age': 60,\n",
              " 'coronavirus': 970,\n",
              " 'j.c.': 1,\n",
              " 'penney': 1,\n",
              " 'brings': 23,\n",
              " 'interactive': 6,\n",
              " 'style': 15,\n",
              " 'fitting': 7,\n",
              " 'rooms': 10,\n",
              " '#coronapocalypse': 23,\n",
              " '#ecommerce': 79,\n",
              " '#retail': 180,\n",
              " '#dtc': 3,\n",
              " 'https://t.co/rafj2l2ceq': 2,\n",
              " 'https://t.co/tgoar4fhl1': 1,\n",
              " 'love': 146,\n",
              " 'this!': 23,\n",
              " 'victoria': 5,\n",
              " 'helps': 50,\n",
              " 'production': 217,\n",
              " '1st': 64,\n",
              " 'wwii,': 7,\n",
              " 'demand': 1345,\n",
              " '|': 279,\n",
              " 'cbc': 17,\n",
              " 'https://t.co/75vb12pbap': 1,\n",
              " '@cityoftoronto': 1,\n",
              " '@johntory': 2,\n",
              " 'bank': 211,\n",
              " 'grateful': 64,\n",
              " 'donations': 84,\n",
              " 'sees': 44,\n",
              " 'spike': 46,\n",
              " '#covid2019': 915,\n",
              " \"doesn't\": 94,\n",
              " 'discriminate.': 1,\n",
              " 'society': 78,\n",
              " 'healthcare': 214,\n",
              " 'system': 132,\n",
              " 'does.': 2,\n",
              " 'minimum': 65,\n",
              " 'wage': 52,\n",
              " 'grocery-store/warehouse': 1,\n",
              " 'workers,': 280,\n",
              " 'migrant': 9,\n",
              " 'transported': 1,\n",
              " 'fields': 16,\n",
              " 'crowded': 51,\n",
              " 'trucks,': 2,\n",
              " 'living': 100,\n",
              " 'public': 386,\n",
              " 'housing': 65,\n",
              " 'w/mold': 1,\n",
              " 'causes': 48,\n",
              " 'asthma': 18,\n",
              " 'disproportionately': 6,\n",
              " 'risk': 397,\n",
              " 'waiting': 115,\n",
              " 'line': 291,\n",
              " 'order': 337,\n",
              " 'practice': 80,\n",
              " 'safe': 487,\n",
              " '#socialdistancing': 427,\n",
              " ',': 187,\n",
              " 'sure': 288,\n",
              " 'youre': 4,\n",
              " 'fit': 17,\n",
              " 'corpse': 3,\n",
              " 'between': 152,\n",
              " 'person': 207,\n",
              " 'front': 231,\n",
              " 'you.': 117,\n",
              " 'added': 39,\n",
              " 'accuracy,': 1,\n",
              " 'bring': 137,\n",
              " 'body': 26,\n",
              " 'went': 378,\n",
              " 'usual': 62,\n",
              " 'had': 660,\n",
              " 'door': 57,\n",
              " '(100': 1,\n",
              " 'store)': 14,\n",
              " 'right': 455,\n",
              " 'needed.': 21,\n",
              " 'prevent': 152,\n",
              " 'it,': 87,\n",
              " 'venezuelan.': 1,\n",
              " 'article:': 10,\n",
              " 'health': 540,\n",
              " 'share': 254,\n",
              " 'begin': 31,\n",
              " 'recovery': 51,\n",
              " 'https://t.co/auxib44pom': 1,\n",
              " 'yesterday': 113,\n",
              " 'took': 95,\n",
              " 'n95': 47,\n",
              " 'masks,': 87,\n",
              " 'gloves': 216,\n",
              " 'revera': 1,\n",
              " 'mckenzie': 1,\n",
              " 'towne': 2,\n",
              " 'retirement': 8,\n",
              " 'brenda': 1,\n",
              " 'strafford': 1,\n",
              " 'foundation.': 2,\n",
              " '#2019ncov': 4,\n",
              " '#sarscov2': 22,\n",
              " '#albertafireflood': 1,\n",
              " '#restoration': 1,\n",
              " '#cleaning': 6,\n",
              " '#sanatizing': 1,\n",
              " '#heretohelp': 2,\n",
              " '#supportlocal': 10,\n",
              " '#calgary': 4,\n",
              " '#yyc': 7,\n",
              " '#supportlocalbusiness': 5,\n",
              " 'loads': 28,\n",
              " 'emails': 37,\n",
              " 'companies': 393,\n",
              " 'last': 462,\n",
              " 'saying': 153,\n",
              " 'customers': 451,\n",
              " '#sky': 2,\n",
              " 'true': 72,\n",
              " 'colours': 4,\n",
              " 'increase': 348,\n",
              " '#noshame': 1,\n",
              " '#nosense': 1,\n",
              " '#cancelsky': 1,\n",
              " 'https://t.co/8mrz0kdmez': 1,\n",
              " 'marketers': 16,\n",
              " 'friends,': 10,\n",
              " 'good': 586,\n",
              " 'article': 112,\n",
              " '@mckinsey': 22,\n",
              " 'regarding': 90,\n",
              " 'customer': 129,\n",
              " 'sentiment': 69,\n",
              " 'ready': 107,\n",
              " 'change': 174,\n",
              " ...}"
            ]
          },
          "metadata": {},
          "execution_count": 30
        }
      ],
      "source": [
        "# для удобства реализуем функцию, которая пройдется по всем текстам и создаст словарь частоты встречаемости токенов\n",
        "\n",
        "def count_tokens(train):\n",
        "    token_counts = {}\n",
        "    for text in train:\n",
        "        tokens = text.lower().split()\n",
        "        for token in tokens:\n",
        "            if token in token_counts:\n",
        "                token_counts[token] += 1\n",
        "            else:\n",
        "                token_counts[token] = 1\n",
        "    return token_counts\n",
        "\n",
        "token_counts = count_tokens(train['OriginalTweet'])\n",
        "token_counts"
      ]
    },
    {
      "cell_type": "markdown",
      "metadata": {
        "id": "Pe0h2Jqkpnao"
      },
      "source": [
        "Какой размер словаря получился?"
      ]
    },
    {
      "cell_type": "code",
      "execution_count": null,
      "metadata": {
        "id": "umyENA7EpokD",
        "colab": {
          "base_uri": "https://localhost:8080/"
        },
        "outputId": "3bfaba79-41c1-47b6-94b2-52dfcb9288e7"
      },
      "outputs": [
        {
          "output_type": "execute_result",
          "data": {
            "text/plain": [
              "79755"
            ]
          },
          "metadata": {},
          "execution_count": 31
        }
      ],
      "source": [
        "len(token_counts)"
      ]
    },
    {
      "cell_type": "markdown",
      "metadata": {
        "id": "0d2G1Z-Qpqkd"
      },
      "source": [
        "Выведите 10 самых популярных токенов с количеством встреч каждого из них. Объясните, почему именно эти токены в топе"
      ]
    },
    {
      "cell_type": "code",
      "execution_count": null,
      "metadata": {
        "id": "Impi32a_pssg",
        "colab": {
          "base_uri": "https://localhost:8080/"
        },
        "outputId": "cff6dabb-b551-4a3f-a76e-7a5fad80ef22"
      },
      "outputs": [
        {
          "output_type": "execute_result",
          "data": {
            "text/plain": [
              "[('the', 26815),\n",
              " ('to', 23373),\n",
              " ('and', 14684),\n",
              " ('of', 13012),\n",
              " ('a', 11737),\n",
              " ('in', 11198),\n",
              " ('for', 8566),\n",
              " ('#coronavirus', 8223),\n",
              " ('is', 7383),\n",
              " ('are', 7050)]"
            ]
          },
          "metadata": {},
          "execution_count": 32
        }
      ],
      "source": [
        "# -- YOUR CODE HERE --\n",
        "sorted(token_counts.items(), key=lambda item: item[1], reverse=True)[:10]"
      ]
    },
    {
      "cell_type": "markdown",
      "metadata": {
        "id": "ZtuJCD0ApuFd"
      },
      "source": [
        "**Ответ:** Как мы видим, самыми популярными токенам в массе своей являются артикли, предлоги и главгол to be, из общей картины выбивается лишь хэштэг coronavirus, но это объясняется тематикой твитов. Таким образом, самыми популярными токенами являются стоп-слова"
      ]
    },
    {
      "cell_type": "markdown",
      "metadata": {
        "id": "T7DTQDkWsVYp"
      },
      "source": [
        "Удалите стоп-слова из словаря и выведите новый топ-10 токенов (и количество встреч) по популярности.  Что можно сказать  о нем?"
      ]
    },
    {
      "cell_type": "code",
      "execution_count": null,
      "metadata": {
        "id": "8csSAdgTsnFx",
        "colab": {
          "base_uri": "https://localhost:8080/"
        },
        "outputId": "16ece195-bbf8-45f2-a252-45224cc62265"
      },
      "outputs": [
        {
          "output_type": "stream",
          "name": "stderr",
          "text": [
            "[nltk_data] Downloading package stopwords to /root/nltk_data...\n",
            "[nltk_data]   Package stopwords is already up-to-date!\n"
          ]
        },
        {
          "output_type": "execute_result",
          "data": {
            "text/plain": [
              "[('#coronavirus', 8223),\n",
              " ('prices', 3891),\n",
              " ('food', 3820),\n",
              " ('grocery', 3469),\n",
              " ('supermarket', 3288),\n",
              " ('people', 3175),\n",
              " ('covid-19', 3173),\n",
              " ('store', 3155),\n",
              " ('#covid19', 2471),\n",
              " ('&amp;', 2314)]"
            ]
          },
          "metadata": {},
          "execution_count": 33
        }
      ],
      "source": [
        "import nltk\n",
        "from nltk.corpus import stopwords\n",
        "nltk.download('stopwords')\n",
        "\n",
        "token_counts\n",
        "stop_words = set(stopwords.words('english'))\n",
        "for word in list(token_counts.keys()):\n",
        "    if word in stop_words:\n",
        "        del token_counts[word]\n",
        "\n",
        "sorted(token_counts.items(), key=lambda item: item[1], reverse=True)[:10]"
      ]
    },
    {
      "cell_type": "markdown",
      "metadata": {
        "id": "LZH0x2Lzs-Dh"
      },
      "source": [
        "**Ответ:**  теперь токены стали более информативными и большинство связаны с тематикой ковида"
      ]
    },
    {
      "cell_type": "markdown",
      "metadata": {
        "id": "TKSGRyI-uor0"
      },
      "source": [
        "Также выведите 20 самых непопулярных слов (если самых непопулярных слов больше выведите любые 20 из них) Почему эти токены непопулярны, требуется ли как-то дополнительно работать с ними?"
      ]
    },
    {
      "cell_type": "code",
      "execution_count": null,
      "metadata": {
        "id": "moArbwfvun9t",
        "colab": {
          "base_uri": "https://localhost:8080/"
        },
        "outputId": "298c1fe6-290c-46e6-e206-89974cbf64d1"
      },
      "outputs": [
        {
          "output_type": "execute_result",
          "data": {
            "text/plain": [
              "[('https://t.co/1m881cwfuv', 1),\n",
              " ('happy..', 1),\n",
              " ('https://t.co/z0intks34x', 1),\n",
              " ('mnuchinã\\x82â\\x92s', 1),\n",
              " ('brink.', 1),\n",
              " ('https://t.co/jmobv8z0u0', 1),\n",
              " (\"university's\", 1),\n",
              " ('teaching.)', 1),\n",
              " ('@catholicpres', 1),\n",
              " ('@catholicuniv', 1),\n",
              " ('https://t.co/evqby035wf', 1),\n",
              " ('https://t.co/riqrhxxeim', 1),\n",
              " ('@@ballardspahrll', 1),\n",
              " ('#aca', 1),\n",
              " ('easier...take', 1),\n",
              " ('ã\\x82â\\x93necessaryã\\x82â\\x94', 1),\n",
              " ('https://t.co/0fmsmlgepm', 1),\n",
              " ('husted:', 1),\n",
              " ('irishman', 1),\n",
              " ('#happystpatricksday!', 1)]"
            ]
          },
          "metadata": {},
          "execution_count": 34
        }
      ],
      "source": [
        "sorted(token_counts.items(), key=lambda item: item[1], reverse=False)[:20]"
      ]
    },
    {
      "cell_type": "markdown",
      "metadata": {
        "id": "uRp3J1gQunlR"
      },
      "source": [
        "**Ответ:** данные токены являются либо ссылками, либо чьими-то никами, судя по всему, либо крайне непопулярными речевыми оборотами, глобально, я думаю, с подобными «выбросами» работать нужно, но то, что вывел код в нашем случае, особо не важно для каких-либо выводов о тональности твита\n",
        "\n"
      ]
    },
    {
      "cell_type": "markdown",
      "metadata": {
        "id": "wx9LQOSPzvjV"
      },
      "source": [
        "Теперь воспользуемся токенайзером получше - TweetTokenizer из библиотеки nltk. Примените его и посмотрите на топ-10 популярных слов. Чем он отличается от топа, который получался раньше? Почему?"
      ]
    },
    {
      "cell_type": "code",
      "execution_count": null,
      "metadata": {
        "id": "2G1UkyVxzvFY",
        "colab": {
          "base_uri": "https://localhost:8080/"
        },
        "outputId": "2bf56051-5ce2-460f-e4c1-956b213c8373"
      },
      "outputs": [
        {
          "output_type": "execute_result",
          "data": {
            "text/plain": [
              "[('the', 24337),\n",
              " ('.', 24118),\n",
              " ('to', 22933),\n",
              " (',', 17571),\n",
              " ('and', 14354),\n",
              " ('of', 12904),\n",
              " ('a', 11045),\n",
              " ('in', 10573),\n",
              " ('?', 9524),\n",
              " ('for', 8228)]"
            ]
          },
          "metadata": {},
          "execution_count": 27
        }
      ],
      "source": [
        "from nltk.tokenize import TweetTokenizer\n",
        "\n",
        "tokenizer = TweetTokenizer()\n",
        "\n",
        "token_counts_tt = {}\n",
        "for text in train['OriginalTweet']:\n",
        "  tokens = tokenizer.tokenize(text)\n",
        "  for token in tokens:\n",
        "    if token in token_counts_tt:\n",
        "      token_counts_tt[token] += 1\n",
        "    else:\n",
        "      token_counts_tt[token] = 1\n",
        "\n",
        "sorted(token_counts_tt.items(), key=lambda item: item[1], reverse=True)[:10]"
      ]
    },
    {
      "cell_type": "markdown",
      "metadata": {
        "id": "50eVUnJN1Zxl"
      },
      "source": [
        "**Ответ:** отличается тем, что теперь среди самых популярных токенов не только артикли и предлоги, но и знаки препинания"
      ]
    },
    {
      "cell_type": "markdown",
      "metadata": {
        "id": "1gqQgiMs11bs"
      },
      "source": [
        "Удалите из словаря стоп-слова и пунктуацию, посмотрите на новый топ-10 слов с количеством встреч, есть ли теперь в нем что-то не похожее на слова?"
      ]
    },
    {
      "cell_type": "code",
      "execution_count": null,
      "metadata": {
        "id": "0yHWdFrp0Mup",
        "colab": {
          "base_uri": "https://localhost:8080/"
        },
        "outputId": "13d06598-0eeb-4cb7-9c13-532bdd2c308e"
      },
      "outputs": [
        {
          "output_type": "execute_result",
          "data": {
            "text/plain": [
              "[('Â', 7415),\n",
              " ('\\x82', 7311),\n",
              " ('19', 7167),\n",
              " ('#coronavirus', 7143),\n",
              " ('I', 5235),\n",
              " ('\\x92', 4372),\n",
              " ('prices', 4281),\n",
              " ('COVID', 4218),\n",
              " ('food', 3795),\n",
              " ('store', 3691)]"
            ]
          },
          "metadata": {},
          "execution_count": 35
        }
      ],
      "source": [
        "from string import punctuation\n",
        "\n",
        "noise = stopwords.words('english') + list(punctuation)\n",
        "for word in list(token_counts_tt.keys()):\n",
        "    if word in noise:\n",
        "        del token_counts_tt[word]\n",
        "\n",
        "sorted(token_counts_tt.items(), key=lambda item: item[1], reverse=True)[:10]"
      ]
    },
    {
      "cell_type": "markdown",
      "metadata": {
        "id": "8ZJqXELP_Yxy"
      },
      "source": [
        "**Ответ:** # начинает появляться, но все еще есть странные символы, вероятно, куски кодировки"
      ]
    },
    {
      "cell_type": "markdown",
      "metadata": {
        "id": "rzXjMsSB_kXB"
      },
      "source": [
        "Удалите из словаря токены из одного символа, с позицией в таблице Unicode 128 и более (`ord(x) >= 128`)\n",
        "\n",
        "Выведите топ-10 самых популярных и топ-20 непопулярных слов. Чем полученные топы отличаются от итоговых топов, полученных при использовании токенизации по пробелам? Что теперь лучше, а что хуже?"
      ]
    },
    {
      "cell_type": "code",
      "execution_count": null,
      "metadata": {
        "id": "1695hlkS_1-J",
        "colab": {
          "base_uri": "https://localhost:8080/"
        },
        "outputId": "ceb864f0-bf79-45a9-d5ac-780c4ce6267f"
      },
      "outputs": [
        {
          "output_type": "stream",
          "name": "stdout",
          "text": [
            "топ-10 популярных \n",
            " [('19', 7167), ('#coronavirus', 7143), ('I', 5235), ('prices', 4281), ('COVID', 4218), ('food', 3795), ('store', 3691), ('supermarket', 3373), ('grocery', 3083), ('people', 3047)]\n",
            "топ-20 непопулярных \n",
            " [('https://t.co/1m881CwFUv', 1), ('https://t.co/Z0intkS34x', 1), ('MnuchinÃ', 1), ('https://t.co/JmoBv8z0U0', 1), (\"University's\", 1), ('@CatholicPres', 1), ('@CatholicUniv', 1), ('https://t.co/EvQby035wF', 1), ('https://t.co/rIQrhxxeIM', 1), ('@BallardSpahrLL', 1), ('#training', 1), ('#aca', 1), ('https://t.co/0FmSmlGePM', 1), ('Irishman', 1), ('#HappyStPatricksDay', 1), ('Guiness', 1), ('https://t.co/18V0PYHwb7', 1), ('https://t.co/LS0g86i8PU', 1), ('https://t.co/oFVkejfF23', 1), ('https://t.co/Xoodgd2uLx', 1)]\n"
          ]
        }
      ],
      "source": [
        "for word in list(token_counts_tt.keys()):\n",
        "    if len(word) == 1 and ord(word) >= 128:\n",
        "        del token_counts_tt[word]\n",
        "\n",
        "print('топ-10 популярных', '\\n', sorted(token_counts_tt.items(), key=lambda item: item[1], reverse=True)[:10])\n",
        "print('топ-20 непопулярных', '\\n', sorted(token_counts_tt.items(), key=lambda item: item[1], reverse=False)[:20])"
      ]
    },
    {
      "cell_type": "markdown",
      "metadata": {
        "id": "KzjHAKIlDvc6"
      },
      "source": [
        "**Ответ:**  полученные топы мало различаются между собой, разве что количественно, а качественно они очен схожи"
      ]
    },
    {
      "cell_type": "markdown",
      "metadata": {
        "id": "EcDf9_6HB2zm"
      },
      "source": [
        "Выведите топ-10 популярных хештегов с количеством встреч. Что можно сказать о них?"
      ]
    },
    {
      "cell_type": "code",
      "execution_count": null,
      "metadata": {
        "id": "zk4fygCUBw3l",
        "colab": {
          "base_uri": "https://localhost:8080/"
        },
        "outputId": "6af4e44d-082f-40df-830f-deb5bff9bac4"
      },
      "outputs": [
        {
          "output_type": "execute_result",
          "data": {
            "text/plain": [
              "[('#coronavirus', 7143),\n",
              " ('#COVID19', 1844),\n",
              " ('#Covid_19', 1463),\n",
              " ('#Coronavirus', 1281),\n",
              " ('#COVID2019', 927),\n",
              " ('#toiletpaper', 657),\n",
              " ('#covid19', 568),\n",
              " ('#COVID', 542),\n",
              " ('#CoronaCrisis', 426),\n",
              " ('#CoronaVirus', 351)]"
            ]
          },
          "metadata": {},
          "execution_count": 25
        }
      ],
      "source": [
        "hashtags_token_counts_tt = token_counts_tt\n",
        "for word in list(hashtags_token_counts_tt.keys()):\n",
        "  if '#' not in word:\n",
        "    del hashtags_token_counts_tt[word]\n",
        "\n",
        "\n",
        "sorted(hashtags_token_counts_tt.items(), key=lambda item: item[1], reverse=True)[:10]"
      ]
    },
    {
      "cell_type": "markdown",
      "metadata": {
        "id": "-6NeNWBkDxM7"
      },
      "source": [
        "**Ответ:**  все хештеги так или иначе связаны с коронавирусом"
      ]
    },
    {
      "cell_type": "markdown",
      "metadata": {
        "id": "LLYBg7caD5GA"
      },
      "source": [
        "То же самое проделайте для ссылок на сайт https://t.co Сравнима ли популярность ссылок с популярностью хештегов? Будет ли информация о ссылке на конкретную страницу полезна?"
      ]
    },
    {
      "cell_type": "code",
      "execution_count": null,
      "metadata": {
        "id": "MXbm1oeaCK9S",
        "colab": {
          "base_uri": "https://localhost:8080/"
        },
        "outputId": "e434467a-0f40-4e71-fb17-2b306f084ccd"
      },
      "outputs": [
        {
          "output_type": "execute_result",
          "data": {
            "text/plain": [
              "[('https://t.co/oXA7SWtoNd', 5),\n",
              " ('https://t.co/gP3EusapL8', 4),\n",
              " ('https://t.co/DefTruI1PfÃ\\x82Â', 3),\n",
              " ('https://t.co/WrLHYzIzAA', 3),\n",
              " ('https://t.co/kuwIpF1KQW', 3),\n",
              " ('https://t.co/zjNRx6dKKN', 3),\n",
              " ('https://t.co/3GBBDpdjat', 3),\n",
              " ('https://t.co/e2ZNXajPre', 3),\n",
              " ('https://t.co/CATKegAyOY', 3),\n",
              " ('https://t.co/G63RP042HO', 3)]"
            ]
          },
          "metadata": {},
          "execution_count": 28
        }
      ],
      "source": [
        "links_token_counts_tt = token_counts_tt\n",
        "\n",
        "for word in list(links_token_counts_tt.keys()):\n",
        "  if 'https://t.co' not in word:\n",
        "    del links_token_counts_tt[word]\n",
        "\n",
        "\n",
        "sorted(links_token_counts_tt.items(), key=lambda item: item[1], reverse=True)[:10]"
      ]
    },
    {
      "cell_type": "markdown",
      "metadata": {
        "id": "at6lRYZ8A07N"
      },
      "source": [
        "**Ответ:** информация о ссылке на конкретную страницу полезна не будет, так как ее очень мало (в сравнении с теми же хештегами)"
      ]
    },
    {
      "cell_type": "markdown",
      "metadata": {
        "id": "IOGdUU1kBU1D"
      },
      "source": [
        "Используем опыт предыдущих экспериментов и напишем собственный токенайзер, улучшив TweetTokenizer. Функция tokenize должна:\n",
        "\n",
        "\n",
        "\n",
        "*   Привести текст в нижний регистр\n",
        "*   Применить TweetTokenizer для изначального выделения токенов\n",
        "*   Удалить стоп-слова, пунктуацию, токены из одного символа, с позицией в таблице Unicode 128 и более и ссылки на t.co\n",
        "\n"
      ]
    },
    {
      "cell_type": "code",
      "execution_count": null,
      "metadata": {
        "id": "ctEsB6xkFrrK"
      },
      "outputs": [],
      "source": [
        "def custom_tokenizer(text):\n",
        "\n",
        "  text = text.lower()\n",
        "  tokenizer = TweetTokenizer()\n",
        "  tokens = tokenizer.tokenize(text)\n",
        "  noise = set(stopwords.words('english') + list(punctuation))\n",
        "  correct_tokens = []\n",
        "  for token in tokens:\n",
        "    if (token not in noise) and (len(token) != 1 or ord(token) < 128) and (not token.startswith('https://t.co')):\n",
        "        correct_tokens.append(token)\n",
        "\n",
        "  return correct_tokens"
      ]
    },
    {
      "cell_type": "code",
      "execution_count": null,
      "metadata": {
        "colab": {
          "base_uri": "https://localhost:8080/"
        },
        "id": "XwbgtYkJGYym",
        "outputId": "a538b232-da24-4f42-ab1f-d8674cae67db"
      },
      "outputs": [
        {
          "output_type": "execute_result",
          "data": {
            "text/plain": [
              "['sample', 'text', '@sample_text', '#sampletext']"
            ]
          },
          "metadata": {},
          "execution_count": 37
        }
      ],
      "source": [
        "custom_tokenizer('This is sample text!!!! @Sample_text I, \\x92\\x92 https://t.co/sample  #sampletext')"
      ]
    },
    {
      "cell_type": "markdown",
      "metadata": {
        "id": "wURVABmXHk97"
      },
      "source": [
        "## Задание 3 Векторизация текстов (2 балла)"
      ]
    },
    {
      "cell_type": "markdown",
      "metadata": {
        "id": "H44iXkoHIQfN"
      },
      "source": [
        "Обучите CountVectorizer с использованием custom_tokenizer в качестве токенайзера. Как размер полученного словаря соотносится с размером изначального словаря из начала задания 2?"
      ]
    },
    {
      "cell_type": "code",
      "source": [
        "from sklearn.feature_extraction.text import CountVectorizer\n",
        "\n",
        "cv = CountVectorizer(tokenizer = custom_tokenizer)\n",
        "cv.fit_transform(train['OriginalTweet'])\n",
        "\n",
        "print(len(cv.vocabulary_))"
      ],
      "metadata": {
        "colab": {
          "base_uri": "https://localhost:8080/"
        },
        "id": "gHn_limQl3BI",
        "outputId": "d54351ef-5334-4777-dd8a-306973c2412f"
      },
      "execution_count": null,
      "outputs": [
        {
          "output_type": "stream",
          "name": "stderr",
          "text": [
            "/usr/local/lib/python3.10/dist-packages/sklearn/feature_extraction/text.py:528: UserWarning: The parameter 'token_pattern' will not be used since 'tokenizer' is not None'\n",
            "  warnings.warn(\n"
          ]
        },
        {
          "output_type": "stream",
          "name": "stdout",
          "text": [
            "45308\n"
          ]
        }
      ]
    },
    {
      "cell_type": "markdown",
      "metadata": {
        "id": "gsfmaSGoItUm"
      },
      "source": [
        "**Ответ:** данный словарь сильно меньше изначального словаря из задания 2\n"
      ]
    },
    {
      "cell_type": "markdown",
      "metadata": {
        "id": "lm6UHNmqKZT0"
      },
      "source": [
        "Посмотрим на какой-нибудь конкретный твитт:"
      ]
    },
    {
      "cell_type": "code",
      "execution_count": null,
      "metadata": {
        "id": "aJVjjfqOJh8m",
        "colab": {
          "base_uri": "https://localhost:8080/"
        },
        "outputId": "6d7ff9a9-f207-4564-d2e0-6e6c46b343b9"
      },
      "outputs": [
        {
          "output_type": "execute_result",
          "data": {
            "text/plain": [
              "('Nice one @SkyNews lets not panic but show ppl in france queueing for food!!! #CoronavirusOutbreak #COVID2019 brainless!! Ffs',\n",
              " 0)"
            ]
          },
          "metadata": {},
          "execution_count": 39
        }
      ],
      "source": [
        "ind = 9023\n",
        "train.iloc[ind]['OriginalTweet'], train.iloc[ind]['Sentiment']"
      ]
    },
    {
      "cell_type": "markdown",
      "metadata": {
        "id": "PBMIHBI5KdaS"
      },
      "source": [
        "Автор твитта не доволен ситуацией с едой во Франции и текст имеет резко негативную окраску.\n",
        "\n",
        "Примените обученный CountVectorizer для векторизации данного текста, и попытайтесь определить самый важный токен и самый неважный токен (токен, компонента которого в векторе максимальна/минимальна, без учета 0). Хорошо ли они определились, почему?"
      ]
    },
    {
      "cell_type": "code",
      "execution_count": null,
      "metadata": {
        "id": "7NcAllaEKsJj",
        "colab": {
          "base_uri": "https://localhost:8080/"
        },
        "outputId": "2af5c787-c0d6-46d2-b373-7e67d536f0b1"
      },
      "outputs": [
        {
          "output_type": "stream",
          "name": "stdout",
          "text": [
            "Most important token: #coronavirusoutbreak\n",
            "Least important token: ###covid-19\n"
          ]
        }
      ],
      "source": [
        "vectorized_text = cv.transform([train.iloc[ind]['OriginalTweet']])\n",
        "vectorized_text_array = vectorized_text.toarray()\n",
        "\n",
        "#определим индексы максимальной и минимальной компоненты без учета нулей\n",
        "max_index = np.argmax(vectorized_text_array)\n",
        "min_index = np.argmin(vectorized_text_array[vectorized_text_array.nonzero()])\n",
        "\n",
        "#получаем список всех токенов\n",
        "tokens = cv.get_feature_names_out()\n",
        "\n",
        "#находим соответствующие токены по найденным индексам\n",
        "most_important_token = tokens[max_index]\n",
        "least_important_token = tokens[min_index]\n",
        "\n",
        "print(\"Most important token:\", most_important_token)\n",
        "print(\"Least important token:\", least_important_token)"
      ]
    },
    {
      "cell_type": "markdown",
      "metadata": {
        "id": "TpEsl1k_NF4T"
      },
      "source": [
        "**Ответ:** непонятно, откуда взялся ###covid-19, ведь его вовсе нет в тексте твита, а самым важным определился хештег про распространение коронавируса, что мне кажется не вполне хорошим, ведь многие твиты могут быть с таким хештегом по тематике пандемии, что не добавляет этому токену важности"
      ]
    },
    {
      "cell_type": "markdown",
      "metadata": {
        "id": "w4DsEQpLO3J6"
      },
      "source": [
        "Теперь примените TfidfVectorizer и  определите самый важный/неважный токены. Хорошо ли определились, почему?"
      ]
    },
    {
      "cell_type": "code",
      "execution_count": null,
      "metadata": {
        "id": "uSNzdK3ENGB3",
        "colab": {
          "base_uri": "https://localhost:8080/"
        },
        "outputId": "238729fe-69ce-45a9-d4dc-a9ffb2290b6b"
      },
      "outputs": [
        {
          "output_type": "stream",
          "name": "stdout",
          "text": [
            "Most important token Tfidf: brainless\n",
            "Least important token Tfidf: #01\n"
          ]
        }
      ],
      "source": [
        "from sklearn.feature_extraction.text import TfidfVectorizer\n",
        "\n",
        "tfidf_vec = TfidfVectorizer(tokenizer = custom_tokenizer)\n",
        "tfidf_vec.fit_transform(train['OriginalTweet'])\n",
        "\n",
        "vectorized_text_tfidf = tfidf_vec.transform([train.iloc[ind]['OriginalTweet']])\n",
        "vectorized_text_tfidf_array = vectorized_text_tfidf.toarray()\n",
        "\n",
        "#определим индексы максимальной и минимальной компоненты без учета нулей\n",
        "max_index_tfidf = np.argmax(vectorized_text_tfidf_array)\n",
        "min_index_tfidf = np.argmin(vectorized_text_tfidf_array[vectorized_text_tfidf_array.nonzero()])\n",
        "\n",
        "#получаем список всех токенов\n",
        "tokens_tfidf = tfidf_vec.get_feature_names_out()\n",
        "\n",
        "#находим соответствующие токены по найденным индексам\n",
        "most_important_token_tfidf = tokens_tfidf[max_index_tfidf]\n",
        "least_important_token_tfidf = tokens_tfidf[min_index_tfidf]\n",
        "\n",
        "print(\"Most important token Tfidf:\", most_important_token_tfidf)\n",
        "print(\"Least important token Tfidf:\", least_important_token_tfidf)"
      ]
    },
    {
      "cell_type": "markdown",
      "metadata": {
        "id": "NYao_UhqQADm"
      },
      "source": [
        "**Ответ:** самый важный токен, на мой взгляд, определился хорошо, слово brainless подчеркивает сильно негативный тон текста и, судя по всему, не сильно распространено в остальных текстах корпуса. Самый неважный токен не особо информативен"
      ]
    },
    {
      "cell_type": "markdown",
      "metadata": {
        "id": "LGRJPqfWSesQ"
      },
      "source": [
        "Найдите какой-нибудь положительно окрашенный твитт, где TfidfVectorizer хорошо (полезно для определения окраски) выделяет важный токен, поясните пример.\n",
        "\n",
        "*Подсказка:* явно положительные твитты можно искать при помощи положительных слов (good, great, amazing и т. д.)"
      ]
    },
    {
      "cell_type": "code",
      "execution_count": null,
      "metadata": {
        "id": "bRbQ2CHiSuJI",
        "colab": {
          "base_uri": "https://localhost:8080/",
          "height": 423
        },
        "outputId": "774a3d9d-0aa3-49b3-e4a1-84d727d94d82"
      },
      "outputs": [
        {
          "output_type": "execute_result",
          "data": {
            "text/plain": [
              "       UserName  ScreenName           Location     TweetAt  \\\n",
              "4583       9362       54314   Moulton, England  19-03-2020   \n",
              "8221      13787       58739            Unknown  20-03-2020   \n",
              "3183       7654       52606    London, England  18-03-2020   \n",
              "24347     33577       78529            Unknown  05-04-2020   \n",
              "3281       7772       52724     Nairobi, Kenya  18-03-2020   \n",
              "...         ...         ...                ...         ...   \n",
              "8199      13757       58709      Wrightington   20-03-2020   \n",
              "11636     17911       62863          Australia  21-03-2020   \n",
              "23018     31918       76870  Karachi, Pakistan  04-04-2020   \n",
              "5208      10126       55078            Unknown  19-03-2020   \n",
              "469        4365       49317          TaÃÂ¯wan  16-03-2020   \n",
              "\n",
              "                                           OriginalTweet  Sentiment  \n",
              "4583   Hearing so many stories of NHS heroes Teachers...          1  \n",
              "8221   Let s just take a minute to say THANK YOU also...          1  \n",
              "3183   Back at the \"Frontline\"\\r\\r\\nA massive shout o...          1  \n",
              "24347  Massive thanks to @waitrose for my delivery of...          1  \n",
              "3281   Crisp clean fresh air perfect ambience Covid 1...          1  \n",
              "...                                                  ...        ...  \n",
              "8199   The support from customers this week has been ...          1  \n",
              "11636  Margot Robbie is an amazing actress, and love ...          1  \n",
              "23018  Face Mask (Pack of 5) ÃÂ Meeting the need of...          1  \n",
              "5208   There's some amazing work going on in the worl...          1  \n",
              "469    #COVID19 19 A friend of mine in the US works a...          1  \n",
              "\n",
              "[68 rows x 6 columns]"
            ],
            "text/html": [
              "\n",
              "  <div id=\"df-65c5bc07-79c3-4852-9267-e178ec56f9b0\" class=\"colab-df-container\">\n",
              "    <div>\n",
              "<style scoped>\n",
              "    .dataframe tbody tr th:only-of-type {\n",
              "        vertical-align: middle;\n",
              "    }\n",
              "\n",
              "    .dataframe tbody tr th {\n",
              "        vertical-align: top;\n",
              "    }\n",
              "\n",
              "    .dataframe thead th {\n",
              "        text-align: right;\n",
              "    }\n",
              "</style>\n",
              "<table border=\"1\" class=\"dataframe\">\n",
              "  <thead>\n",
              "    <tr style=\"text-align: right;\">\n",
              "      <th></th>\n",
              "      <th>UserName</th>\n",
              "      <th>ScreenName</th>\n",
              "      <th>Location</th>\n",
              "      <th>TweetAt</th>\n",
              "      <th>OriginalTweet</th>\n",
              "      <th>Sentiment</th>\n",
              "    </tr>\n",
              "  </thead>\n",
              "  <tbody>\n",
              "    <tr>\n",
              "      <th>4583</th>\n",
              "      <td>9362</td>\n",
              "      <td>54314</td>\n",
              "      <td>Moulton, England</td>\n",
              "      <td>19-03-2020</td>\n",
              "      <td>Hearing so many stories of NHS heroes Teachers...</td>\n",
              "      <td>1</td>\n",
              "    </tr>\n",
              "    <tr>\n",
              "      <th>8221</th>\n",
              "      <td>13787</td>\n",
              "      <td>58739</td>\n",
              "      <td>Unknown</td>\n",
              "      <td>20-03-2020</td>\n",
              "      <td>Let s just take a minute to say THANK YOU also...</td>\n",
              "      <td>1</td>\n",
              "    </tr>\n",
              "    <tr>\n",
              "      <th>3183</th>\n",
              "      <td>7654</td>\n",
              "      <td>52606</td>\n",
              "      <td>London, England</td>\n",
              "      <td>18-03-2020</td>\n",
              "      <td>Back at the \"Frontline\"\\r\\r\\nA massive shout o...</td>\n",
              "      <td>1</td>\n",
              "    </tr>\n",
              "    <tr>\n",
              "      <th>24347</th>\n",
              "      <td>33577</td>\n",
              "      <td>78529</td>\n",
              "      <td>Unknown</td>\n",
              "      <td>05-04-2020</td>\n",
              "      <td>Massive thanks to @waitrose for my delivery of...</td>\n",
              "      <td>1</td>\n",
              "    </tr>\n",
              "    <tr>\n",
              "      <th>3281</th>\n",
              "      <td>7772</td>\n",
              "      <td>52724</td>\n",
              "      <td>Nairobi, Kenya</td>\n",
              "      <td>18-03-2020</td>\n",
              "      <td>Crisp clean fresh air perfect ambience Covid 1...</td>\n",
              "      <td>1</td>\n",
              "    </tr>\n",
              "    <tr>\n",
              "      <th>...</th>\n",
              "      <td>...</td>\n",
              "      <td>...</td>\n",
              "      <td>...</td>\n",
              "      <td>...</td>\n",
              "      <td>...</td>\n",
              "      <td>...</td>\n",
              "    </tr>\n",
              "    <tr>\n",
              "      <th>8199</th>\n",
              "      <td>13757</td>\n",
              "      <td>58709</td>\n",
              "      <td>Wrightington</td>\n",
              "      <td>20-03-2020</td>\n",
              "      <td>The support from customers this week has been ...</td>\n",
              "      <td>1</td>\n",
              "    </tr>\n",
              "    <tr>\n",
              "      <th>11636</th>\n",
              "      <td>17911</td>\n",
              "      <td>62863</td>\n",
              "      <td>Australia</td>\n",
              "      <td>21-03-2020</td>\n",
              "      <td>Margot Robbie is an amazing actress, and love ...</td>\n",
              "      <td>1</td>\n",
              "    </tr>\n",
              "    <tr>\n",
              "      <th>23018</th>\n",
              "      <td>31918</td>\n",
              "      <td>76870</td>\n",
              "      <td>Karachi, Pakistan</td>\n",
              "      <td>04-04-2020</td>\n",
              "      <td>Face Mask (Pack of 5) ÃÂ Meeting the need of...</td>\n",
              "      <td>1</td>\n",
              "    </tr>\n",
              "    <tr>\n",
              "      <th>5208</th>\n",
              "      <td>10126</td>\n",
              "      <td>55078</td>\n",
              "      <td>Unknown</td>\n",
              "      <td>19-03-2020</td>\n",
              "      <td>There's some amazing work going on in the worl...</td>\n",
              "      <td>1</td>\n",
              "    </tr>\n",
              "    <tr>\n",
              "      <th>469</th>\n",
              "      <td>4365</td>\n",
              "      <td>49317</td>\n",
              "      <td>TaÃÂ¯wan</td>\n",
              "      <td>16-03-2020</td>\n",
              "      <td>#COVID19 19 A friend of mine in the US works a...</td>\n",
              "      <td>1</td>\n",
              "    </tr>\n",
              "  </tbody>\n",
              "</table>\n",
              "<p>68 rows × 6 columns</p>\n",
              "</div>\n",
              "    <div class=\"colab-df-buttons\">\n",
              "\n",
              "  <div class=\"colab-df-container\">\n",
              "    <button class=\"colab-df-convert\" onclick=\"convertToInteractive('df-65c5bc07-79c3-4852-9267-e178ec56f9b0')\"\n",
              "            title=\"Convert this dataframe to an interactive table.\"\n",
              "            style=\"display:none;\">\n",
              "\n",
              "  <svg xmlns=\"http://www.w3.org/2000/svg\" height=\"24px\" viewBox=\"0 -960 960 960\">\n",
              "    <path d=\"M120-120v-720h720v720H120Zm60-500h600v-160H180v160Zm220 220h160v-160H400v160Zm0 220h160v-160H400v160ZM180-400h160v-160H180v160Zm440 0h160v-160H620v160ZM180-180h160v-160H180v160Zm440 0h160v-160H620v160Z\"/>\n",
              "  </svg>\n",
              "    </button>\n",
              "\n",
              "  <style>\n",
              "    .colab-df-container {\n",
              "      display:flex;\n",
              "      gap: 12px;\n",
              "    }\n",
              "\n",
              "    .colab-df-convert {\n",
              "      background-color: #E8F0FE;\n",
              "      border: none;\n",
              "      border-radius: 50%;\n",
              "      cursor: pointer;\n",
              "      display: none;\n",
              "      fill: #1967D2;\n",
              "      height: 32px;\n",
              "      padding: 0 0 0 0;\n",
              "      width: 32px;\n",
              "    }\n",
              "\n",
              "    .colab-df-convert:hover {\n",
              "      background-color: #E2EBFA;\n",
              "      box-shadow: 0px 1px 2px rgba(60, 64, 67, 0.3), 0px 1px 3px 1px rgba(60, 64, 67, 0.15);\n",
              "      fill: #174EA6;\n",
              "    }\n",
              "\n",
              "    .colab-df-buttons div {\n",
              "      margin-bottom: 4px;\n",
              "    }\n",
              "\n",
              "    [theme=dark] .colab-df-convert {\n",
              "      background-color: #3B4455;\n",
              "      fill: #D2E3FC;\n",
              "    }\n",
              "\n",
              "    [theme=dark] .colab-df-convert:hover {\n",
              "      background-color: #434B5C;\n",
              "      box-shadow: 0px 1px 3px 1px rgba(0, 0, 0, 0.15);\n",
              "      filter: drop-shadow(0px 1px 2px rgba(0, 0, 0, 0.3));\n",
              "      fill: #FFFFFF;\n",
              "    }\n",
              "  </style>\n",
              "\n",
              "    <script>\n",
              "      const buttonEl =\n",
              "        document.querySelector('#df-65c5bc07-79c3-4852-9267-e178ec56f9b0 button.colab-df-convert');\n",
              "      buttonEl.style.display =\n",
              "        google.colab.kernel.accessAllowed ? 'block' : 'none';\n",
              "\n",
              "      async function convertToInteractive(key) {\n",
              "        const element = document.querySelector('#df-65c5bc07-79c3-4852-9267-e178ec56f9b0');\n",
              "        const dataTable =\n",
              "          await google.colab.kernel.invokeFunction('convertToInteractive',\n",
              "                                                    [key], {});\n",
              "        if (!dataTable) return;\n",
              "\n",
              "        const docLinkHtml = 'Like what you see? Visit the ' +\n",
              "          '<a target=\"_blank\" href=https://colab.research.google.com/notebooks/data_table.ipynb>data table notebook</a>'\n",
              "          + ' to learn more about interactive tables.';\n",
              "        element.innerHTML = '';\n",
              "        dataTable['output_type'] = 'display_data';\n",
              "        await google.colab.output.renderOutput(dataTable, element);\n",
              "        const docLink = document.createElement('div');\n",
              "        docLink.innerHTML = docLinkHtml;\n",
              "        element.appendChild(docLink);\n",
              "      }\n",
              "    </script>\n",
              "  </div>\n",
              "\n",
              "\n",
              "<div id=\"df-2840fcd2-9164-4707-b9ea-9f0b141cb808\">\n",
              "  <button class=\"colab-df-quickchart\" onclick=\"quickchart('df-2840fcd2-9164-4707-b9ea-9f0b141cb808')\"\n",
              "            title=\"Suggest charts\"\n",
              "            style=\"display:none;\">\n",
              "\n",
              "<svg xmlns=\"http://www.w3.org/2000/svg\" height=\"24px\"viewBox=\"0 0 24 24\"\n",
              "     width=\"24px\">\n",
              "    <g>\n",
              "        <path d=\"M19 3H5c-1.1 0-2 .9-2 2v14c0 1.1.9 2 2 2h14c1.1 0 2-.9 2-2V5c0-1.1-.9-2-2-2zM9 17H7v-7h2v7zm4 0h-2V7h2v10zm4 0h-2v-4h2v4z\"/>\n",
              "    </g>\n",
              "</svg>\n",
              "  </button>\n",
              "\n",
              "<style>\n",
              "  .colab-df-quickchart {\n",
              "      --bg-color: #E8F0FE;\n",
              "      --fill-color: #1967D2;\n",
              "      --hover-bg-color: #E2EBFA;\n",
              "      --hover-fill-color: #174EA6;\n",
              "      --disabled-fill-color: #AAA;\n",
              "      --disabled-bg-color: #DDD;\n",
              "  }\n",
              "\n",
              "  [theme=dark] .colab-df-quickchart {\n",
              "      --bg-color: #3B4455;\n",
              "      --fill-color: #D2E3FC;\n",
              "      --hover-bg-color: #434B5C;\n",
              "      --hover-fill-color: #FFFFFF;\n",
              "      --disabled-bg-color: #3B4455;\n",
              "      --disabled-fill-color: #666;\n",
              "  }\n",
              "\n",
              "  .colab-df-quickchart {\n",
              "    background-color: var(--bg-color);\n",
              "    border: none;\n",
              "    border-radius: 50%;\n",
              "    cursor: pointer;\n",
              "    display: none;\n",
              "    fill: var(--fill-color);\n",
              "    height: 32px;\n",
              "    padding: 0;\n",
              "    width: 32px;\n",
              "  }\n",
              "\n",
              "  .colab-df-quickchart:hover {\n",
              "    background-color: var(--hover-bg-color);\n",
              "    box-shadow: 0 1px 2px rgba(60, 64, 67, 0.3), 0 1px 3px 1px rgba(60, 64, 67, 0.15);\n",
              "    fill: var(--button-hover-fill-color);\n",
              "  }\n",
              "\n",
              "  .colab-df-quickchart-complete:disabled,\n",
              "  .colab-df-quickchart-complete:disabled:hover {\n",
              "    background-color: var(--disabled-bg-color);\n",
              "    fill: var(--disabled-fill-color);\n",
              "    box-shadow: none;\n",
              "  }\n",
              "\n",
              "  .colab-df-spinner {\n",
              "    border: 2px solid var(--fill-color);\n",
              "    border-color: transparent;\n",
              "    border-bottom-color: var(--fill-color);\n",
              "    animation:\n",
              "      spin 1s steps(1) infinite;\n",
              "  }\n",
              "\n",
              "  @keyframes spin {\n",
              "    0% {\n",
              "      border-color: transparent;\n",
              "      border-bottom-color: var(--fill-color);\n",
              "      border-left-color: var(--fill-color);\n",
              "    }\n",
              "    20% {\n",
              "      border-color: transparent;\n",
              "      border-left-color: var(--fill-color);\n",
              "      border-top-color: var(--fill-color);\n",
              "    }\n",
              "    30% {\n",
              "      border-color: transparent;\n",
              "      border-left-color: var(--fill-color);\n",
              "      border-top-color: var(--fill-color);\n",
              "      border-right-color: var(--fill-color);\n",
              "    }\n",
              "    40% {\n",
              "      border-color: transparent;\n",
              "      border-right-color: var(--fill-color);\n",
              "      border-top-color: var(--fill-color);\n",
              "    }\n",
              "    60% {\n",
              "      border-color: transparent;\n",
              "      border-right-color: var(--fill-color);\n",
              "    }\n",
              "    80% {\n",
              "      border-color: transparent;\n",
              "      border-right-color: var(--fill-color);\n",
              "      border-bottom-color: var(--fill-color);\n",
              "    }\n",
              "    90% {\n",
              "      border-color: transparent;\n",
              "      border-bottom-color: var(--fill-color);\n",
              "    }\n",
              "  }\n",
              "</style>\n",
              "\n",
              "  <script>\n",
              "    async function quickchart(key) {\n",
              "      const quickchartButtonEl =\n",
              "        document.querySelector('#' + key + ' button');\n",
              "      quickchartButtonEl.disabled = true;  // To prevent multiple clicks.\n",
              "      quickchartButtonEl.classList.add('colab-df-spinner');\n",
              "      try {\n",
              "        const charts = await google.colab.kernel.invokeFunction(\n",
              "            'suggestCharts', [key], {});\n",
              "      } catch (error) {\n",
              "        console.error('Error during call to suggestCharts:', error);\n",
              "      }\n",
              "      quickchartButtonEl.classList.remove('colab-df-spinner');\n",
              "      quickchartButtonEl.classList.add('colab-df-quickchart-complete');\n",
              "    }\n",
              "    (() => {\n",
              "      let quickchartButtonEl =\n",
              "        document.querySelector('#df-2840fcd2-9164-4707-b9ea-9f0b141cb808 button');\n",
              "      quickchartButtonEl.style.display =\n",
              "        google.colab.kernel.accessAllowed ? 'block' : 'none';\n",
              "    })();\n",
              "  </script>\n",
              "</div>\n",
              "    </div>\n",
              "  </div>\n"
            ],
            "application/vnd.google.colaboratory.intrinsic+json": {
              "type": "dataframe",
              "variable_name": "df_positive",
              "repr_error": "0"
            }
          },
          "metadata": {},
          "execution_count": 42
        }
      ],
      "source": [
        "df_positive = train[train['OriginalTweet'].apply(lambda x: 'amazing' in x) & (train['Sentiment'] == 1)]\n",
        "df_positive"
      ]
    },
    {
      "cell_type": "code",
      "source": [
        "df_positive['OriginalTweet'].iloc[1]"
      ],
      "metadata": {
        "colab": {
          "base_uri": "https://localhost:8080/",
          "height": 52
        },
        "id": "KKX2pBKPERcd",
        "outputId": "48c68d6d-3b53-4c12-bd79-9e2b43c59ac8"
      },
      "execution_count": null,
      "outputs": [
        {
          "output_type": "execute_result",
          "data": {
            "text/plain": [
              "'Let s just take a minute to say THANK YOU also to the amazing postal workers So many real people behind a click of online shopping and getting cards delivered Thank   you   19'"
            ],
            "application/vnd.google.colaboratory.intrinsic+json": {
              "type": "string"
            }
          },
          "metadata": {},
          "execution_count": 43
        }
      ]
    },
    {
      "cell_type": "code",
      "source": [
        "vectorized_text_tfidf = tfidf_vec.transform([df_positive['OriginalTweet'].iloc[1]])\n",
        "vectorized_text_tfidf_array = vectorized_text_tfidf.toarray()\n",
        "\n",
        "#определим индексы максимальной и минимальной компоненты без учета нулей\n",
        "max_index_tfidf = vectorized_text_tfidf.argmax()\n",
        "min_index_tfidf = np.argmin(vectorized_text_tfidf[vectorized_text_tfidf.nonzero()])\n",
        "\n",
        "#получаем список всех токенов\n",
        "tokens_tfidf = tfidf_vec.get_feature_names_out()\n",
        "\n",
        "#находим соответствующие токены по найденным индексам\n",
        "most_important_token_tfidf = tokens_tfidf[max_index_tfidf]\n",
        "least_important_token_tfidf = tokens_tfidf[min_index_tfidf]\n",
        "\n",
        "print(\"Most important token Tfidf:\", most_important_token_tfidf)"
      ],
      "metadata": {
        "id": "jSjbKPCWk87K",
        "colab": {
          "base_uri": "https://localhost:8080/"
        },
        "outputId": "75e9136b-c6e3-4b51-b56f-036e9335c25c"
      },
      "execution_count": null,
      "outputs": [
        {
          "output_type": "stream",
          "name": "stdout",
          "text": [
            "Most important token Tfidf: thank\n"
          ]
        }
      ]
    },
    {
      "cell_type": "markdown",
      "metadata": {
        "id": "JTv9ST2_U6NA"
      },
      "source": [
        "**Ответ:**  на данном тексте хорошо сработало, выделилось слово «поблагодарить», что подчеркивает положительный тон твита"
      ]
    },
    {
      "cell_type": "markdown",
      "metadata": {
        "id": "JVEuZm8BHms6"
      },
      "source": [
        "## Задание 4 Обучение первых моделей (1 балл)"
      ]
    },
    {
      "cell_type": "markdown",
      "metadata": {
        "id": "JADkO3sfXdOG"
      },
      "source": [
        "Примените оба векторайзера для получения матриц с признаками текстов.  Выделите целевую переменную."
      ]
    },
    {
      "cell_type": "code",
      "source": [
        "#выделяем целевую переменную, делим на трейн и тест\n",
        "X_train = train['OriginalTweet']\n",
        "X_test = test['OriginalTweet']\n",
        "y_train = train['Sentiment']\n",
        "y_test = test['Sentiment']\n",
        "\n",
        "X_train_cv = cv.fit_transform(X_train) # обучили CountVectorizer\n",
        "X_train_tfidf = tfidf_vec.fit_transform(X_train) # обучили Tfidf\n",
        "X_test_cv = cv.transform(X_test)\n",
        "X_test_tfidf = tfidf_vec.transform(X_test)"
      ],
      "metadata": {
        "colab": {
          "base_uri": "https://localhost:8080/"
        },
        "id": "mKzhTwfbIKpE",
        "outputId": "1345bbf3-f72f-41e0-9f3a-0edb59e03ca5"
      },
      "execution_count": null,
      "outputs": [
        {
          "output_type": "stream",
          "name": "stderr",
          "text": [
            "/usr/local/lib/python3.10/dist-packages/sklearn/feature_extraction/text.py:528: UserWarning: The parameter 'token_pattern' will not be used since 'tokenizer' is not None'\n",
            "  warnings.warn(\n"
          ]
        }
      ]
    },
    {
      "cell_type": "markdown",
      "metadata": {
        "id": "_FX1KSOfYSx4"
      },
      "source": [
        "Обучите логистическую регрессию на векторах из обоих векторайзеров. Посчитайте долю правильных ответов на обучающих и тестовых данных. Какой векторайзер показал лучший результат? Что можно сказать о моделях?"
      ]
    },
    {
      "cell_type": "code",
      "execution_count": null,
      "metadata": {
        "id": "-Tb3eh8UXJ6v",
        "colab": {
          "base_uri": "https://localhost:8080/"
        },
        "outputId": "5bb0bc71-4022-4246-cab9-776707144d88"
      },
      "outputs": [
        {
          "output_type": "stream",
          "name": "stdout",
          "text": [
            "Accuracy on train (CV) 0.9844510892780863\n",
            "Accuracy on test (CV) 0.8672513454255532\n",
            "Accuracy on train (Tfidf) 0.9254592054677488\n",
            "Accuracy on test (Tfidf) 0.8533984452860275\n"
          ]
        }
      ],
      "source": [
        "from sklearn.linear_model import LogisticRegression\n",
        "from sklearn.metrics import accuracy_score\n",
        "\n",
        "log_reg_cv = LogisticRegression(max_iter=1000)\n",
        "log_reg_cv.fit(X_train_cv, y_train)\n",
        "\n",
        "log_reg_tfidf = LogisticRegression(max_iter=1000)\n",
        "log_reg_tfidf.fit(X_train_tfidf, y_train)\n",
        "\n",
        "print('Accuracy on train (CV)', accuracy_score(y_train, log_reg_cv.predict(X_train_cv)))\n",
        "print('Accuracy on test (CV)', accuracy_score(y_test, log_reg_cv.predict(X_test_cv)))\n",
        "print('Accuracy on train (Tfidf)', accuracy_score(y_train, log_reg_tfidf.predict(X_train_tfidf)))\n",
        "print('Accuracy on test (Tfidf)', accuracy_score(y_test, log_reg_tfidf.predict(X_test_tfidf)))"
      ]
    },
    {
      "cell_type": "markdown",
      "metadata": {
        "id": "8y_wO7rCmv7K"
      },
      "source": [
        "**Ответ:**  у CV доля верных ответов выше как на обучающих, так и на тестовых данных, однако разница относительно не очень большая (во всех случаях accuracy высокий), что позволяет нам сделать препдоложение о ее корректной работе (переобучения нет)"
      ]
    },
    {
      "cell_type": "markdown",
      "metadata": {
        "id": "rSOR1i3mjrys"
      },
      "source": [
        "## Задание 5 Стемминг (0.5 балла)"
      ]
    },
    {
      "cell_type": "markdown",
      "metadata": {
        "id": "i6ONBWNPjuq-"
      },
      "source": [
        "Для уменьшения словаря можно использовать стемминг.\n",
        "\n",
        "Модифицируйте написанный токенайзер, добавив в него стемминг с использованием SnowballStemmer. Обучите Count- и Tfidf- векторайзеры. Как изменился размер словаря?"
      ]
    },
    {
      "cell_type": "code",
      "execution_count": null,
      "metadata": {
        "id": "oVfA2-iMkQBb"
      },
      "outputs": [],
      "source": [
        "from nltk.stem.snowball import SnowballStemmer\n",
        "def custom_stem_tokenizer(text):\n",
        "  stemmer = SnowballStemmer('english')\n",
        "  text = text.lower()\n",
        "  tokenizer = TweetTokenizer()\n",
        "  tokens = tokenizer.tokenize(text)\n",
        "  noise = set(stopwords.words('english') + list(punctuation))\n",
        "  correct_tokens_stem = []\n",
        "  for token in tokens:\n",
        "    if (token not in noise) and (len(token) != 1 or ord(token) < 128) and (not token.startswith('https://t.co')):\n",
        "        stemmed_token = stemmer.stem(token)\n",
        "        correct_tokens_stem.append(stemmed_token)\n",
        "  return correct_tokens_stem"
      ]
    },
    {
      "cell_type": "code",
      "execution_count": null,
      "metadata": {
        "colab": {
          "base_uri": "https://localhost:8080/"
        },
        "id": "9QmrjYtqnlPd",
        "outputId": "d8912e51-c805-4697-fcee-776f0d841d0b"
      },
      "outputs": [
        {
          "output_type": "execute_result",
          "data": {
            "text/plain": [
              "['sampl', 'text', '@sample_text', '#sampletext', 'ad', 'word', 'check', 'stem']"
            ]
          },
          "metadata": {},
          "execution_count": 48
        }
      ],
      "source": [
        "custom_stem_tokenizer('This is sample text!!!! @Sample_text I, \\x92\\x92 https://t.co/sample  #sampletext adding more words to check stemming')"
      ]
    },
    {
      "cell_type": "code",
      "execution_count": 70,
      "metadata": {
        "colab": {
          "base_uri": "https://localhost:8080/"
        },
        "id": "zAvUTmaplzOS",
        "outputId": "ba877cee-5aae-4123-85f2-fbb806d56f82"
      },
      "outputs": [
        {
          "output_type": "stream",
          "name": "stdout",
          "text": [
            "36652\n"
          ]
        }
      ],
      "source": [
        "cv = CountVectorizer(tokenizer = custom_stem_tokenizer)\n",
        "tfidf_vec = TfidfVectorizer(tokenizer = custom_stem_tokenizer)\n",
        "cv.fit_transform(train['OriginalTweet'])\n",
        "tfidf_vec.fit_transform(train['OriginalTweet'])\n",
        "\n",
        "print(len(cv.vocabulary_))"
      ]
    },
    {
      "cell_type": "markdown",
      "metadata": {
        "id": "Oyzs5TaAoHP6"
      },
      "source": [
        "**Ответ** размер словаря стал меньше"
      ]
    },
    {
      "cell_type": "markdown",
      "metadata": {
        "id": "1OkncHI8oRmd"
      },
      "source": [
        "Обучите логистическую регрессию с использованием обоих векторайзеров. Изменилось ли качество? Есть ли смысл применять стемминг?"
      ]
    },
    {
      "cell_type": "code",
      "execution_count": 71,
      "metadata": {
        "id": "ykZJPphEoZ5W",
        "colab": {
          "base_uri": "https://localhost:8080/"
        },
        "outputId": "e24d9b5c-5b0e-434c-e71e-238200aba202"
      },
      "outputs": [
        {
          "output_type": "stream",
          "name": "stdout",
          "text": [
            "Accuracy on train (CV) 0.9718923536950022\n",
            "Accuracy on test (CV) 0.8672513454255532\n",
            "Accuracy on train (Tfidf) 0.9158906450234943\n",
            "Accuracy on test (Tfidf) 0.8560892963922663\n"
          ]
        }
      ],
      "source": [
        "\n",
        "X_train_cv = cv.fit_transform(X_train) # обучили CountVectorizer\n",
        "X_train_tfidf = tfidf_vec.fit_transform(X_train) # обучили Tfidf\n",
        "X_test_cv = cv.transform(X_test)\n",
        "X_test_tfidf = tfidf_vec.transform(X_test)\n",
        "\n",
        "log_reg_cv = LogisticRegression(max_iter=1000)\n",
        "log_reg_cv.fit(X_train_cv, y_train)\n",
        "\n",
        "log_reg_tfidf = LogisticRegression(max_iter=1000)\n",
        "log_reg_tfidf.fit(X_train_tfidf, y_train)\n",
        "\n",
        "print('Accuracy on train (CV)', accuracy_score(y_train, log_reg_cv.predict(X_train_cv)))\n",
        "print('Accuracy on test (CV)', accuracy_score(y_test, log_reg_cv.predict(X_test_cv)))\n",
        "print('Accuracy on train (Tfidf)', accuracy_score(y_train, log_reg_tfidf.predict(X_train_tfidf)))\n",
        "print('Accuracy on test (Tfidf)', accuracy_score(y_test, log_reg_tfidf.predict(X_test_tfidf)))"
      ]
    },
    {
      "cell_type": "markdown",
      "metadata": {
        "id": "bCRlrODro0h8"
      },
      "source": [
        "**Ответ:** accuracy на обучающих выборках стал ниже. На тестовой выборке при использовании tfidf accuracy стал на ~0.3 выше, а при использовании CV не изменился. Так что можно сделать предположение, что при использовании tfidf стемминг позволяет достичь большей доли верных ответов\n",
        "\n",
        "\n"
      ]
    },
    {
      "cell_type": "markdown",
      "metadata": {
        "id": "hYWGQNEDqLC-"
      },
      "source": [
        "## Задание  6 Работа с частотами (1.5 балла)"
      ]
    },
    {
      "cell_type": "markdown",
      "metadata": {
        "id": "8Hq-tl5mqUSn"
      },
      "source": [
        "Еще один способ уменьшить количество признаков - это использовать параметры min_df и max_df при построении векторайзера  эти параметры помогают ограничить требуемую частоту встречаемости токена в документах.\n",
        "\n",
        "По умолчанию берутся все токены, которые встретились хотя бы один раз.\n",
        "\n"
      ]
    },
    {
      "cell_type": "markdown",
      "metadata": {
        "id": "m1SiD4DE3WZ2"
      },
      "source": [
        "Подберите max_df такой, что размер словаря будет 36651 (на 1 меньше, чем было). Почему параметр получился такой большой/маленький?"
      ]
    },
    {
      "cell_type": "code",
      "source": [
        "cv_df = CountVectorizer(tokenizer=custom_stem_tokenizer,\n",
        "                        max_df=0.3\n",
        "                        ).fit(\n",
        "                            train['OriginalTweet']\n",
        "                            )\n",
        "print(len(cv_df.vocabulary_))"
      ],
      "metadata": {
        "colab": {
          "base_uri": "https://localhost:8080/"
        },
        "id": "o3YLb8PViExb",
        "outputId": "6df0770a-09d4-4274-a94f-ab35858d88ae"
      },
      "execution_count": null,
      "outputs": [
        {
          "output_type": "stream",
          "name": "stderr",
          "text": [
            "/usr/local/lib/python3.10/dist-packages/sklearn/feature_extraction/text.py:528: UserWarning: The parameter 'token_pattern' will not be used since 'tokenizer' is not None'\n",
            "  warnings.warn(\n"
          ]
        },
        {
          "output_type": "stream",
          "name": "stdout",
          "text": [
            "36651\n"
          ]
        }
      ]
    },
    {
      "cell_type": "markdown",
      "metadata": {
        "id": "UdZYoGZR4UsA"
      },
      "source": [
        "**Ответ:** значение 0.3 говорит нам о том, что с данным ограничением мы оставляем только токены встречаются в 30 процентах текстов корпуса и меньше, а следовательно, являются относительно часто встречающимися, поэтому при таком не высоком показателе max_df размер словаря несильно меняется. В целом, делаем вывод о том, что самая большая частота встречаемости токенов в текстах корпуса является равным примерно 0.3"
      ]
    },
    {
      "cell_type": "markdown",
      "metadata": {
        "id": "_gRIUaB1u32f"
      },
      "source": [
        "Подберите min_df (используйте дефолтное значение max_df) в CountVectorizer таким образом, чтобы размер словаря был 3700 токенов (при использовании токенайзера со стеммингом), а качество осталось таким же, как и было. Что можно сказать о результатах?"
      ]
    },
    {
      "cell_type": "code",
      "execution_count": null,
      "metadata": {
        "colab": {
          "base_uri": "https://localhost:8080/"
        },
        "id": "kSnMJkn9XmsT",
        "outputId": "7309c47f-b3c6-45be-e7e5-6fc5b839a87b"
      },
      "outputs": [
        {
          "output_type": "stream",
          "name": "stdout",
          "text": [
            "3700\n"
          ]
        }
      ],
      "source": [
        "cv_df = CountVectorizer(tokenizer=custom_stem_tokenizer,\n",
        "                        min_df=0.00045\n",
        "                        ).fit(\n",
        "                            train['OriginalTweet']\n",
        "                            )\n",
        "print(len(cv_df.vocabulary_))"
      ]
    },
    {
      "cell_type": "markdown",
      "metadata": {
        "id": "3fGYpUIZx0fk"
      },
      "source": [
        "**Ответ:** можно сделать предположение о том, что твиты между собой очень похожи (большинство токенов встречается очень часто), раз для того, чтобы настолько сократить изначальный словарь надо поставить настолько маленькое значение минимальной частоты встречаемости"
      ]
    },
    {
      "cell_type": "markdown",
      "source": [
        "В предыдущих заданиях признаки не скалировались. Отскалируйте данные (при словаре размера 3.7 тысяч, векторизованные CountVectorizer), обучите логистическую регрессию, посмотрите качество и выведите `berplot` содержащий по 10 токенов, с наибольшим по модулю положительными/отрицательными весами. Что можно сказать об этих токенах?"
      ],
      "metadata": {
        "id": "Gx_h_-inKbBl"
      }
    },
    {
      "cell_type": "code",
      "source": [
        "from sklearn.preprocessing import MaxAbsScaler\n",
        "\n",
        "bow_train = cv_df.transform(X_train)\n",
        "bow_test = cv_df.transform(X_test)\n",
        "\n",
        "scaler = MaxAbsScaler()\n",
        "\n",
        "X_train_transformed = scaler.fit_transform(bow_train)\n",
        "X_test_transformed = scaler.transform(bow_test)\n",
        "\n",
        "log_reg_cv = LogisticRegression(max_iter=1000)\n",
        "log_reg_cv.fit(X_train_transformed, y_train)\n",
        "\n",
        "print('Accuracy on train (CV with stem) size 3700:', accuracy_score(y_train, log_reg_cv.predict(X_train_transformed)))\n",
        "print('Accuracy on test (CV with stem) size 3700:', accuracy_score(y_test, log_reg_cv.predict(X_test_transformed)))\n"
      ],
      "metadata": {
        "id": "KBATXJX6LG9q",
        "colab": {
          "base_uri": "https://localhost:8080/"
        },
        "outputId": "6f33b2bd-f89c-47c4-b275-8a196dfe5689"
      },
      "execution_count": null,
      "outputs": [
        {
          "output_type": "stream",
          "name": "stdout",
          "text": [
            "Accuracy on train (CV with stem) size 3700: 0.9176420333190944\n",
            "Accuracy on test (CV with stem) size 3700: 0.8611720151484951\n"
          ]
        }
      ]
    },
    {
      "cell_type": "code",
      "source": [
        "import matplotlib.pyplot as plt\n",
        "\n",
        "#получаем веса\n",
        "coefficients = log_reg_cv.coef_[0]\n",
        "\n",
        "#получаем индексы токенов с наибольшими и наименьшими весами\n",
        "positive_indices = np.argsort(coefficients)[-10:]\n",
        "negative_indices = np.argsort(coefficients)[:10]\n",
        "\n",
        "#получаем список всех токенов\n",
        "tokens_for_plot = cv_df.get_feature_names_out()\n",
        "\n",
        "#получаем списки весов позитивных токенов\n",
        "positive_tokens = [tokens_for_plot[idx] for idx in positive_indices]\n",
        "positive_weights = [coefficients[idx] for idx in positive_indices]\n",
        "\n",
        "#получаем списки весов негативных токенов\n",
        "negative_tokens = [tokens_for_plot[idx] for idx in negative_indices]\n",
        "negative_weights = [np.abs(coefficients[idx]) for idx in negative_indices]\n",
        "\n",
        "#barplot для токенов с наибольшими положительными весами\n",
        "plt.figure(figsize=(10, 6))\n",
        "plt.barh(positive_tokens, positive_weights, color='green')\n",
        "plt.xlabel('Веса')\n",
        "plt.title('Токены с наибольшими положительными весами')\n",
        "plt.show()\n",
        "\n",
        "#barplot для токенов с наибольшими отрицательными весами\n",
        "plt.figure(figsize=(10, 6))\n",
        "plt.barh(negative_tokens, negative_weights, color='red')\n",
        "plt.xlabel('Веса (указан модуль весов)')\n",
        "plt.title('Токены с наибольшими отрицательными весами')\n",
        "plt.show()"
      ],
      "metadata": {
        "colab": {
          "base_uri": "https://localhost:8080/",
          "height": 1000
        },
        "id": "vgAKNKjWGXS0",
        "outputId": "dbc33dd8-b38b-4727-f98e-59c4a3e7b3ca"
      },
      "execution_count": null,
      "outputs": [
        {
          "output_type": "display_data",
          "data": {
            "text/plain": [
              "<Figure size 1000x600 with 1 Axes>"
            ],
            "image/png": "[encoded data removed]"
          },
          "metadata": {}
        },
        {
          "output_type": "display_data",
          "data": {
            "text/plain": [
              "<Figure size 1000x600 with 1 Axes>"
            ],
            "image/png": "[encoded data removed]"
          },
          "metadata": {}
        }
      ]
    },
    {
      "cell_type": "markdown",
      "source": [
        "**Ответ:** каждый токен является ярко выраженным и отсылает к тону сообщения"
      ],
      "metadata": {
        "id": "ThcEfzY1LHET"
      }
    },
    {
      "cell_type": "markdown",
      "metadata": {
        "id": "ktJVOdrIHq7B"
      },
      "source": [
        "## Задание 7 Другие признаки (1.5 балла)"
      ]
    },
    {
      "cell_type": "markdown",
      "metadata": {
        "id": "Yt3jRCZ2H0Og"
      },
      "source": [
        "Мы были сконцентрированы на работе с текстами твиттов и не использовали другие признаки - имена пользователя, дату и местоположение"
      ]
    },
    {
      "cell_type": "markdown",
      "metadata": {
        "id": "52wjewCCo_di"
      },
      "source": [
        "Изучите признаки UserName и ScreenName. полезны ли они? Если полезны, то закодируйте их, добавьте к матрице с отскалированными признаками, обучите логистическую регрессию, замерьте качество."
      ]
    },
    {
      "cell_type": "code",
      "execution_count": null,
      "metadata": {
        "id": "63thouYZptj6",
        "colab": {
          "base_uri": "https://localhost:8080/"
        },
        "outputId": "e43d94d5-19e0-4a67-c1d2-9f282320e387"
      },
      "outputs": [
        {
          "output_type": "execute_result",
          "data": {
            "text/plain": [
              "UserName\n",
              "35178    1\n",
              "35598    1\n",
              "26660    1\n",
              "9581     1\n",
              "8447     1\n",
              "        ..\n",
              "20801    1\n",
              "30276    1\n",
              "20045    1\n",
              "32319    1\n",
              "7104     1\n",
              "Name: count, Length: 23410, dtype: int64"
            ]
          },
          "metadata": {},
          "execution_count": 36
        }
      ],
      "source": [
        "train['UserName'].value_counts() #все значения уникальны, аналогичная ситуация с ScreenName —> признаки неинформативны"
      ]
    },
    {
      "cell_type": "code",
      "source": [
        "train['ScreenName'].value_counts()"
      ],
      "metadata": {
        "colab": {
          "base_uri": "https://localhost:8080/"
        },
        "id": "BKv0eI2Bmil7",
        "outputId": "e7d668bd-4825-436b-b37b-eb2015cae434"
      },
      "execution_count": null,
      "outputs": [
        {
          "output_type": "execute_result",
          "data": {
            "text/plain": [
              "ScreenName\n",
              "80130    1\n",
              "80550    1\n",
              "71612    1\n",
              "54533    1\n",
              "53399    1\n",
              "        ..\n",
              "65753    1\n",
              "75228    1\n",
              "64997    1\n",
              "77271    1\n",
              "52056    1\n",
              "Name: count, Length: 23410, dtype: int64"
            ]
          },
          "metadata": {},
          "execution_count": 37
        }
      ]
    },
    {
      "cell_type": "markdown",
      "metadata": {
        "id": "r8_qR-gnpT3a"
      },
      "source": [
        "**Ответ:** признаки неинформативны"
      ]
    },
    {
      "cell_type": "markdown",
      "metadata": {
        "id": "ythEcFSkt7y3"
      },
      "source": [
        "Изучите признак TweetAt в обучающей выборке: преобразуйте его к типу datetime и нарисуйте его гистограмму с разделением по цвету на оспнове целевой переменной. Полезен ли он? Если полезен, то закодируйте его, добавьте к матрице с отскалированными признаками, обучите логистическую регрессию, замерьте качество."
      ]
    },
    {
      "cell_type": "code",
      "source": [
        "train['TweetAt'].value_counts()"
      ],
      "metadata": {
        "colab": {
          "base_uri": "https://localhost:8080/"
        },
        "id": "ZWyQtYzzD90H",
        "outputId": "5c7b6dd5-b1aa-4531-c71b-167eb28ed5e2"
      },
      "execution_count": null,
      "outputs": [
        {
          "output_type": "execute_result",
          "data": {
            "text/plain": [
              "TweetAt\n",
              "2020-03-20    1996\n",
              "2020-03-19    1844\n",
              "2020-03-25    1742\n",
              "2020-03-18    1619\n",
              "2020-03-21    1531\n",
              "2020-03-22    1225\n",
              "2020-03-23    1174\n",
              "2020-03-17    1103\n",
              "2020-08-04    1044\n",
              "2020-07-04    1010\n",
              "2020-06-04     956\n",
              "2020-09-04     847\n",
              "2020-03-24     843\n",
              "2020-04-13     802\n",
              "2020-03-26     713\n",
              "2020-05-04     614\n",
              "2020-10-04     545\n",
              "2020-02-04     537\n",
              "2020-11-04     528\n",
              "2020-12-04     446\n",
              "2020-03-04     446\n",
              "2020-04-04     438\n",
              "2020-03-16     402\n",
              "2020-01-04     347\n",
              "2020-03-31     188\n",
              "2020-03-27     179\n",
              "2020-04-14     159\n",
              "2020-03-29      69\n",
              "2020-03-30      47\n",
              "2020-03-28      16\n",
              "Name: count, dtype: int64"
            ]
          },
          "metadata": {},
          "execution_count": 43
        }
      ]
    },
    {
      "cell_type": "code",
      "source": [
        "train['TweetAt'] = pd.to_datetime(train['TweetAt'], format='mixed')\n",
        "\n",
        "positive_tweets = train[train['Sentiment'] == 1]\n",
        "negative_tweets = train[train['Sentiment'] == 0]\n",
        "\n",
        "plt.figure(figsize=(10, 6))\n",
        "plt.hist(positive_tweets['TweetAt'], color='green', alpha=0.5, label='Позитивные твиты')\n",
        "plt.hist(negative_tweets['TweetAt'], color='red', alpha=0.5, label='Негативные твиты')\n",
        "plt.xlabel('Дата')\n",
        "plt.ylabel('Количество')\n",
        "plt.title('Распределение тона твитов')\n",
        "plt.legend()\n",
        "plt.show()"
      ],
      "metadata": {
        "id": "Lxb_k0JLirNv",
        "colab": {
          "base_uri": "https://localhost:8080/",
          "height": 564
        },
        "outputId": "a90d59e6-0ee4-409d-f35b-491068990b52"
      },
      "execution_count": null,
      "outputs": [
        {
          "output_type": "display_data",
          "data": {
            "text/plain": [
              "<Figure size 1000x600 with 1 Axes>"
            ],
            "image/png": "[encoded data removed]"
          },
          "metadata": {}
        }
      ]
    },
    {
      "cell_type": "markdown",
      "metadata": {
        "id": "4IdLBdpQxM-G"
      },
      "source": [
        "**Ответ:** данные по датам неинформативны для нашей классификации текстов\n",
        "\n"
      ]
    },
    {
      "cell_type": "markdown",
      "source": [
        "Поработайте с признаком Location в обучающей выборке. Сколько уникальных значений?"
      ],
      "metadata": {
        "id": "r2JtRPhNP6qx"
      }
    },
    {
      "cell_type": "code",
      "source": [
        "# -- YOUR CODE HERE --\n",
        "train['Location'].nunique()\n",
        "#7949 уникальных значений"
      ],
      "metadata": {
        "id": "xYQZQ1FRNpoe",
        "colab": {
          "base_uri": "https://localhost:8080/"
        },
        "outputId": "d8ed8a79-3cc9-4443-d285-228dfac4b787"
      },
      "execution_count": null,
      "outputs": [
        {
          "output_type": "execute_result",
          "data": {
            "text/plain": [
              "7949"
            ]
          },
          "metadata": {},
          "execution_count": 55
        }
      ]
    },
    {
      "cell_type": "markdown",
      "source": [
        "Постройте гистограмму топ-10 по популярности местоположений (исключая Unknown)"
      ],
      "metadata": {
        "id": "6k4JwpRTQISa"
      }
    },
    {
      "cell_type": "code",
      "source": [
        "train[train['Location'] != 'Unknown']['Location'].value_counts().head(10)"
      ],
      "metadata": {
        "id": "J91YkhegJ0mz",
        "colab": {
          "base_uri": "https://localhost:8080/"
        },
        "outputId": "5b6808a3-bee7-4643-d710-dbcc031f43fc"
      },
      "execution_count": null,
      "outputs": [
        {
          "output_type": "execute_result",
          "data": {
            "text/plain": [
              "Location\n",
              "London             301\n",
              "United States      295\n",
              "London, England    274\n",
              "New York, NY       223\n",
              "Washington, DC     222\n",
              "United Kingdom     204\n",
              "Los Angeles, CA    154\n",
              "India              153\n",
              "UK                 133\n",
              "Australia          118\n",
              "Name: count, dtype: int64"
            ]
          },
          "metadata": {},
          "execution_count": 56
        }
      ]
    },
    {
      "cell_type": "code",
      "source": [
        "plt.figure(figsize=(10, 6))\n",
        "train[train['Location'] != 'Unknown']['Location'].value_counts().head(10).plot(kind='bar', color='pink')\n",
        "plt.title('Топ 10 популярных местоположений')\n",
        "plt.xlabel('Местоположение')\n",
        "plt.ylabel('Количество значений')\n",
        "plt.show()"
      ],
      "metadata": {
        "colab": {
          "base_uri": "https://localhost:8080/",
          "height": 666
        },
        "id": "eoil7JnaOMBf",
        "outputId": "e770293b-1890-4b5b-b165-839721e8476e"
      },
      "execution_count": null,
      "outputs": [
        {
          "output_type": "display_data",
          "data": {
            "text/plain": [
              "<Figure size 1000x600 with 1 Axes>"
            ],
            "image/png": "[encoded data removed]"
          },
          "metadata": {}
        }
      ]
    },
    {
      "cell_type": "markdown",
      "source": [
        "Видно, что многие местоположения включают в себя более точное название места, чем другие (Например, у некоторых стоит London, UK; а у некоторых просто UK или United Kingdom).\n",
        "\n",
        "Создайте новый признак WiderLocation, который содержит самое широкое местоположение (например, из London, UK должно получиться UK). Сколько уникальных категорий теперь? Постройте аналогичную гистограмму."
      ],
      "metadata": {
        "id": "ZOsv3lODTfYB"
      }
    },
    {
      "cell_type": "code",
      "source": [
        "# -- YOUR CODE HERE --\n",
        "train['WiderLocation'] = train['Location'].apply(lambda x: x if len(x.split(',')) == 1 else x.split(',')[1])\n",
        "train['WiderLocation'].nunique()\n",
        "# 5209 уникальных значений"
      ],
      "metadata": {
        "id": "mSkow6acOMyD",
        "colab": {
          "base_uri": "https://localhost:8080/"
        },
        "outputId": "1a2f31ea-021c-4b2e-f712-0a84326d2006"
      },
      "execution_count": null,
      "outputs": [
        {
          "output_type": "execute_result",
          "data": {
            "text/plain": [
              "5209"
            ]
          },
          "metadata": {},
          "execution_count": 58
        }
      ]
    },
    {
      "cell_type": "code",
      "source": [
        "train[train['WiderLocation'] != 'Unknown']['WiderLocation'].value_counts().head(10)"
      ],
      "metadata": {
        "colab": {
          "base_uri": "https://localhost:8080/"
        },
        "id": "3k6_7JkIWYtZ",
        "outputId": "d4d58aa9-31d6-4c9e-c801-1a2be29a111e"
      },
      "execution_count": null,
      "outputs": [
        {
          "output_type": "execute_result",
          "data": {
            "text/plain": [
              "WiderLocation\n",
              " England         838\n",
              " USA             776\n",
              " CA              599\n",
              " NY              378\n",
              " India           375\n",
              "London           302\n",
              "United States    295\n",
              " TX              262\n",
              " DC              229\n",
              " Ontario         228\n",
              "Name: count, dtype: int64"
            ]
          },
          "metadata": {},
          "execution_count": 59
        }
      ]
    },
    {
      "cell_type": "code",
      "source": [
        "plt.figure(figsize=(10, 6))\n",
        "train[train['WiderLocation'] != 'Unknown']['WiderLocation'].value_counts().head(10).plot(kind='bar', color='blue')\n",
        "plt.title('Топ 10 популярных местоположений')\n",
        "plt.xlabel('Местоположение')\n",
        "plt.ylabel('Количество значений')\n",
        "plt.show()"
      ],
      "metadata": {
        "colab": {
          "base_uri": "https://localhost:8080/",
          "height": 644
        },
        "id": "AHTwlWzPWmIm",
        "outputId": "25e08f05-317e-4a38-b3cd-46623c61f332"
      },
      "execution_count": null,
      "outputs": [
        {
          "output_type": "display_data",
          "data": {
            "text/plain": [
              "<Figure size 1000x600 with 1 Axes>"
            ],
            "image/png": "[encoded data removed]"
          },
          "metadata": {}
        }
      ]
    },
    {
      "cell_type": "markdown",
      "source": [
        "Закодируйте признак WiderLocation с помощью OHE таким образом, чтобы создались только столбцы для местоположений, которые встречаются более одного раза. Сколько таких значений?\n"
      ],
      "metadata": {
        "id": "cgyWrD2eVfff"
      }
    },
    {
      "cell_type": "code",
      "source": [
        "from sklearn.preprocessing import OneHotEncoder\n",
        "\n",
        "#список местоположение, встречающихся в датасете больше 1 раза\n",
        "locations_mto = train['WiderLocation'].value_counts()[train['WiderLocation'].value_counts() > 1].index\n",
        "\n",
        "encoded_locations_train = train['WiderLocation'].apply(lambda x: x if x in locations_mto else 'Other').values.reshape(-1, 1)\n",
        "\n",
        "encoder = OneHotEncoder(drop='first', dtype='int')\n",
        "encoded_locations_train = encoder.fit_transform(encoded_locations_train).toarray()\n",
        "\n",
        "encoded_feature_names = encoder.get_feature_names_out(['WiderLocation'])\n",
        "\n",
        "#датафрейм с закодированными признаками\n",
        "encoded_locations_train = pd.DataFrame(encoded_locations_train, columns=encoded_feature_names)\n",
        "\n",
        "encoded_locations_train = encoded_locations_train.drop(columns='WiderLocation_Other')\n",
        "\n",
        "encoded_locations_train #1163 значения"
      ],
      "metadata": {
        "colab": {
          "base_uri": "https://localhost:8080/",
          "height": 478
        },
        "id": "t1ukZRfCcynv",
        "outputId": "e66e760a-b141-443d-ad69-fc16b60253f7"
      },
      "execution_count": 67,
      "outputs": [
        {
          "output_type": "execute_result",
          "data": {
            "text/plain": [
              "       WiderLocation_   WiderLocation_  MN  WiderLocation_ 15401  \\\n",
              "0                    0                   0                     0   \n",
              "1                    0                   0                     0   \n",
              "2                    0                   0                     0   \n",
              "3                    0                   0                     0   \n",
              "4                    0                   0                     0   \n",
              "...                ...                 ...                   ...   \n",
              "23405                0                   0                     0   \n",
              "23406                0                   0                     0   \n",
              "23407                0                   0                     0   \n",
              "23408                0                   0                     0   \n",
              "23409                0                   0                     0   \n",
              "\n",
              "       WiderLocation_ ? ??? ?t ?? l???? ?t ??  WiderLocation_ ??  \\\n",
              "0                                           0                  0   \n",
              "1                                           0                  0   \n",
              "2                                           0                  0   \n",
              "3                                           0                  0   \n",
              "4                                           0                  0   \n",
              "...                                       ...                ...   \n",
              "23405                                       0                  0   \n",
              "23406                                       0                  0   \n",
              "23407                                       0                  0   \n",
              "23408                                       0                  0   \n",
              "23409                                       0                  0   \n",
              "\n",
              "       WiderLocation_ ?? ??????  WiderLocation_ ????  WiderLocation_ ?????  \\\n",
              "0                             0                    0                     0   \n",
              "1                             0                    0                     0   \n",
              "2                             0                    0                     0   \n",
              "3                             0                    0                     0   \n",
              "4                             0                    0                     0   \n",
              "...                         ...                  ...                   ...   \n",
              "23405                         0                    0                     0   \n",
              "23406                         0                    0                     0   \n",
              "23407                         0                    0                     0   \n",
              "23408                         0                    0                     0   \n",
              "23409                         0                    0                     0   \n",
              "\n",
              "       WiderLocation_ ????? ????  WiderLocation_ ??????  ...  \\\n",
              "0                              0                      0  ...   \n",
              "1                              0                      0  ...   \n",
              "2                              0                      0  ...   \n",
              "3                              0                      0  ...   \n",
              "4                              0                      0  ...   \n",
              "...                          ...                    ...  ...   \n",
              "23405                          0                      0  ...   \n",
              "23406                          0                      0  ...   \n",
              "23407                          0                      0  ...   \n",
              "23408                          0                      0  ...   \n",
              "23409                          0                      0  ...   \n",
              "\n",
              "       WiderLocation_she/her  WiderLocation_sheffield  \\\n",
              "0                          0                        0   \n",
              "1                          0                        0   \n",
              "2                          0                        0   \n",
              "3                          0                        0   \n",
              "4                          0                        0   \n",
              "...                      ...                      ...   \n",
              "23405                      0                        0   \n",
              "23406                      0                        0   \n",
              "23407                      0                        0   \n",
              "23408                      0                        0   \n",
              "23409                      0                        0   \n",
              "\n",
              "       WiderLocation_somewhere  WiderLocation_texas  WiderLocation_uk  \\\n",
              "0                            0                    0                 0   \n",
              "1                            0                    0                 0   \n",
              "2                            0                    0                 0   \n",
              "3                            0                    0                 0   \n",
              "4                            0                    0                 0   \n",
              "...                        ...                  ...               ...   \n",
              "23405                        0                    0                 0   \n",
              "23406                        0                    0                 0   \n",
              "23407                        0                    0                 0   \n",
              "23408                        0                    0                 0   \n",
              "23409                        0                    0                 0   \n",
              "\n",
              "       WiderLocation_up  WiderLocation_usa  WiderLocation_worldwide  \\\n",
              "0                     0                  0                        0   \n",
              "1                     0                  0                        0   \n",
              "2                     0                  0                        0   \n",
              "3                     0                  0                        0   \n",
              "4                     0                  0                        0   \n",
              "...                 ...                ...                      ...   \n",
              "23405                 0                  0                        0   \n",
              "23406                 0                  0                        0   \n",
              "23407                 0                  0                        0   \n",
              "23408                 0                  0                        0   \n",
              "23409                 0                  0                        0   \n",
              "\n",
              "       WiderLocation_||somali|kenyan??  WiderLocation_ÃÂ¯\\_(?)_/ÃÂ¯  \n",
              "0                                    0                              0  \n",
              "1                                    0                              0  \n",
              "2                                    0                              0  \n",
              "3                                    0                              0  \n",
              "4                                    0                              0  \n",
              "...                                ...                            ...  \n",
              "23405                                0                              0  \n",
              "23406                                0                              0  \n",
              "23407                                0                              0  \n",
              "23408                                0                              0  \n",
              "23409                                0                              0  \n",
              "\n",
              "[23410 rows x 1163 columns]"
            ],
            "text/html": [
              "\n",
              "  <div id=\"df-c12e64ea-0f64-4e0b-8857-408f729fc7e1\" class=\"colab-df-container\">\n",
              "    <div>\n",
              "<style scoped>\n",
              "    .dataframe tbody tr th:only-of-type {\n",
              "        vertical-align: middle;\n",
              "    }\n",
              "\n",
              "    .dataframe tbody tr th {\n",
              "        vertical-align: top;\n",
              "    }\n",
              "\n",
              "    .dataframe thead th {\n",
              "        text-align: right;\n",
              "    }\n",
              "</style>\n",
              "<table border=\"1\" class=\"dataframe\">\n",
              "  <thead>\n",
              "    <tr style=\"text-align: right;\">\n",
              "      <th></th>\n",
              "      <th>WiderLocation_</th>\n",
              "      <th>WiderLocation_  MN</th>\n",
              "      <th>WiderLocation_ 15401</th>\n",
              "      <th>WiderLocation_ ? ??? ?t ?? l???? ?t ??</th>\n",
              "      <th>WiderLocation_ ??</th>\n",
              "      <th>WiderLocation_ ?? ??????</th>\n",
              "      <th>WiderLocation_ ????</th>\n",
              "      <th>WiderLocation_ ?????</th>\n",
              "      <th>WiderLocation_ ????? ????</th>\n",
              "      <th>WiderLocation_ ??????</th>\n",
              "      <th>...</th>\n",
              "      <th>WiderLocation_she/her</th>\n",
              "      <th>WiderLocation_sheffield</th>\n",
              "      <th>WiderLocation_somewhere</th>\n",
              "      <th>WiderLocation_texas</th>\n",
              "      <th>WiderLocation_uk</th>\n",
              "      <th>WiderLocation_up</th>\n",
              "      <th>WiderLocation_usa</th>\n",
              "      <th>WiderLocation_worldwide</th>\n",
              "      <th>WiderLocation_||somali|kenyan??</th>\n",
              "      <th>WiderLocation_ÃÂ¯\\_(?)_/ÃÂ¯</th>\n",
              "    </tr>\n",
              "  </thead>\n",
              "  <tbody>\n",
              "    <tr>\n",
              "      <th>0</th>\n",
              "      <td>0</td>\n",
              "      <td>0</td>\n",
              "      <td>0</td>\n",
              "      <td>0</td>\n",
              "      <td>0</td>\n",
              "      <td>0</td>\n",
              "      <td>0</td>\n",
              "      <td>0</td>\n",
              "      <td>0</td>\n",
              "      <td>0</td>\n",
              "      <td>...</td>\n",
              "      <td>0</td>\n",
              "      <td>0</td>\n",
              "      <td>0</td>\n",
              "      <td>0</td>\n",
              "      <td>0</td>\n",
              "      <td>0</td>\n",
              "      <td>0</td>\n",
              "      <td>0</td>\n",
              "      <td>0</td>\n",
              "      <td>0</td>\n",
              "    </tr>\n",
              "    <tr>\n",
              "      <th>1</th>\n",
              "      <td>0</td>\n",
              "      <td>0</td>\n",
              "      <td>0</td>\n",
              "      <td>0</td>\n",
              "      <td>0</td>\n",
              "      <td>0</td>\n",
              "      <td>0</td>\n",
              "      <td>0</td>\n",
              "      <td>0</td>\n",
              "      <td>0</td>\n",
              "      <td>...</td>\n",
              "      <td>0</td>\n",
              "      <td>0</td>\n",
              "      <td>0</td>\n",
              "      <td>0</td>\n",
              "      <td>0</td>\n",
              "      <td>0</td>\n",
              "      <td>0</td>\n",
              "      <td>0</td>\n",
              "      <td>0</td>\n",
              "      <td>0</td>\n",
              "    </tr>\n",
              "    <tr>\n",
              "      <th>2</th>\n",
              "      <td>0</td>\n",
              "      <td>0</td>\n",
              "      <td>0</td>\n",
              "      <td>0</td>\n",
              "      <td>0</td>\n",
              "      <td>0</td>\n",
              "      <td>0</td>\n",
              "      <td>0</td>\n",
              "      <td>0</td>\n",
              "      <td>0</td>\n",
              "      <td>...</td>\n",
              "      <td>0</td>\n",
              "      <td>0</td>\n",
              "      <td>0</td>\n",
              "      <td>0</td>\n",
              "      <td>0</td>\n",
              "      <td>0</td>\n",
              "      <td>0</td>\n",
              "      <td>0</td>\n",
              "      <td>0</td>\n",
              "      <td>0</td>\n",
              "    </tr>\n",
              "    <tr>\n",
              "      <th>3</th>\n",
              "      <td>0</td>\n",
              "      <td>0</td>\n",
              "      <td>0</td>\n",
              "      <td>0</td>\n",
              "      <td>0</td>\n",
              "      <td>0</td>\n",
              "      <td>0</td>\n",
              "      <td>0</td>\n",
              "      <td>0</td>\n",
              "      <td>0</td>\n",
              "      <td>...</td>\n",
              "      <td>0</td>\n",
              "      <td>0</td>\n",
              "      <td>0</td>\n",
              "      <td>0</td>\n",
              "      <td>0</td>\n",
              "      <td>0</td>\n",
              "      <td>0</td>\n",
              "      <td>0</td>\n",
              "      <td>0</td>\n",
              "      <td>0</td>\n",
              "    </tr>\n",
              "    <tr>\n",
              "      <th>4</th>\n",
              "      <td>0</td>\n",
              "      <td>0</td>\n",
              "      <td>0</td>\n",
              "      <td>0</td>\n",
              "      <td>0</td>\n",
              "      <td>0</td>\n",
              "      <td>0</td>\n",
              "      <td>0</td>\n",
              "      <td>0</td>\n",
              "      <td>0</td>\n",
              "      <td>...</td>\n",
              "      <td>0</td>\n",
              "      <td>0</td>\n",
              "      <td>0</td>\n",
              "      <td>0</td>\n",
              "      <td>0</td>\n",
              "      <td>0</td>\n",
              "      <td>0</td>\n",
              "      <td>0</td>\n",
              "      <td>0</td>\n",
              "      <td>0</td>\n",
              "    </tr>\n",
              "    <tr>\n",
              "      <th>...</th>\n",
              "      <td>...</td>\n",
              "      <td>...</td>\n",
              "      <td>...</td>\n",
              "      <td>...</td>\n",
              "      <td>...</td>\n",
              "      <td>...</td>\n",
              "      <td>...</td>\n",
              "      <td>...</td>\n",
              "      <td>...</td>\n",
              "      <td>...</td>\n",
              "      <td>...</td>\n",
              "      <td>...</td>\n",
              "      <td>...</td>\n",
              "      <td>...</td>\n",
              "      <td>...</td>\n",
              "      <td>...</td>\n",
              "      <td>...</td>\n",
              "      <td>...</td>\n",
              "      <td>...</td>\n",
              "      <td>...</td>\n",
              "      <td>...</td>\n",
              "    </tr>\n",
              "    <tr>\n",
              "      <th>23405</th>\n",
              "      <td>0</td>\n",
              "      <td>0</td>\n",
              "      <td>0</td>\n",
              "      <td>0</td>\n",
              "      <td>0</td>\n",
              "      <td>0</td>\n",
              "      <td>0</td>\n",
              "      <td>0</td>\n",
              "      <td>0</td>\n",
              "      <td>0</td>\n",
              "      <td>...</td>\n",
              "      <td>0</td>\n",
              "      <td>0</td>\n",
              "      <td>0</td>\n",
              "      <td>0</td>\n",
              "      <td>0</td>\n",
              "      <td>0</td>\n",
              "      <td>0</td>\n",
              "      <td>0</td>\n",
              "      <td>0</td>\n",
              "      <td>0</td>\n",
              "    </tr>\n",
              "    <tr>\n",
              "      <th>23406</th>\n",
              "      <td>0</td>\n",
              "      <td>0</td>\n",
              "      <td>0</td>\n",
              "      <td>0</td>\n",
              "      <td>0</td>\n",
              "      <td>0</td>\n",
              "      <td>0</td>\n",
              "      <td>0</td>\n",
              "      <td>0</td>\n",
              "      <td>0</td>\n",
              "      <td>...</td>\n",
              "      <td>0</td>\n",
              "      <td>0</td>\n",
              "      <td>0</td>\n",
              "      <td>0</td>\n",
              "      <td>0</td>\n",
              "      <td>0</td>\n",
              "      <td>0</td>\n",
              "      <td>0</td>\n",
              "      <td>0</td>\n",
              "      <td>0</td>\n",
              "    </tr>\n",
              "    <tr>\n",
              "      <th>23407</th>\n",
              "      <td>0</td>\n",
              "      <td>0</td>\n",
              "      <td>0</td>\n",
              "      <td>0</td>\n",
              "      <td>0</td>\n",
              "      <td>0</td>\n",
              "      <td>0</td>\n",
              "      <td>0</td>\n",
              "      <td>0</td>\n",
              "      <td>0</td>\n",
              "      <td>...</td>\n",
              "      <td>0</td>\n",
              "      <td>0</td>\n",
              "      <td>0</td>\n",
              "      <td>0</td>\n",
              "      <td>0</td>\n",
              "      <td>0</td>\n",
              "      <td>0</td>\n",
              "      <td>0</td>\n",
              "      <td>0</td>\n",
              "      <td>0</td>\n",
              "    </tr>\n",
              "    <tr>\n",
              "      <th>23408</th>\n",
              "      <td>0</td>\n",
              "      <td>0</td>\n",
              "      <td>0</td>\n",
              "      <td>0</td>\n",
              "      <td>0</td>\n",
              "      <td>0</td>\n",
              "      <td>0</td>\n",
              "      <td>0</td>\n",
              "      <td>0</td>\n",
              "      <td>0</td>\n",
              "      <td>...</td>\n",
              "      <td>0</td>\n",
              "      <td>0</td>\n",
              "      <td>0</td>\n",
              "      <td>0</td>\n",
              "      <td>0</td>\n",
              "      <td>0</td>\n",
              "      <td>0</td>\n",
              "      <td>0</td>\n",
              "      <td>0</td>\n",
              "      <td>0</td>\n",
              "    </tr>\n",
              "    <tr>\n",
              "      <th>23409</th>\n",
              "      <td>0</td>\n",
              "      <td>0</td>\n",
              "      <td>0</td>\n",
              "      <td>0</td>\n",
              "      <td>0</td>\n",
              "      <td>0</td>\n",
              "      <td>0</td>\n",
              "      <td>0</td>\n",
              "      <td>0</td>\n",
              "      <td>0</td>\n",
              "      <td>...</td>\n",
              "      <td>0</td>\n",
              "      <td>0</td>\n",
              "      <td>0</td>\n",
              "      <td>0</td>\n",
              "      <td>0</td>\n",
              "      <td>0</td>\n",
              "      <td>0</td>\n",
              "      <td>0</td>\n",
              "      <td>0</td>\n",
              "      <td>0</td>\n",
              "    </tr>\n",
              "  </tbody>\n",
              "</table>\n",
              "<p>23410 rows × 1163 columns</p>\n",
              "</div>\n",
              "    <div class=\"colab-df-buttons\">\n",
              "\n",
              "  <div class=\"colab-df-container\">\n",
              "    <button class=\"colab-df-convert\" onclick=\"convertToInteractive('df-c12e64ea-0f64-4e0b-8857-408f729fc7e1')\"\n",
              "            title=\"Convert this dataframe to an interactive table.\"\n",
              "            style=\"display:none;\">\n",
              "\n",
              "  <svg xmlns=\"http://www.w3.org/2000/svg\" height=\"24px\" viewBox=\"0 -960 960 960\">\n",
              "    <path d=\"M120-120v-720h720v720H120Zm60-500h600v-160H180v160Zm220 220h160v-160H400v160Zm0 220h160v-160H400v160ZM180-400h160v-160H180v160Zm440 0h160v-160H620v160ZM180-180h160v-160H180v160Zm440 0h160v-160H620v160Z\"/>\n",
              "  </svg>\n",
              "    </button>\n",
              "\n",
              "  <style>\n",
              "    .colab-df-container {\n",
              "      display:flex;\n",
              "      gap: 12px;\n",
              "    }\n",
              "\n",
              "    .colab-df-convert {\n",
              "      background-color: #E8F0FE;\n",
              "      border: none;\n",
              "      border-radius: 50%;\n",
              "      cursor: pointer;\n",
              "      display: none;\n",
              "      fill: #1967D2;\n",
              "      height: 32px;\n",
              "      padding: 0 0 0 0;\n",
              "      width: 32px;\n",
              "    }\n",
              "\n",
              "    .colab-df-convert:hover {\n",
              "      background-color: #E2EBFA;\n",
              "      box-shadow: 0px 1px 2px rgba(60, 64, 67, 0.3), 0px 1px 3px 1px rgba(60, 64, 67, 0.15);\n",
              "      fill: #174EA6;\n",
              "    }\n",
              "\n",
              "    .colab-df-buttons div {\n",
              "      margin-bottom: 4px;\n",
              "    }\n",
              "\n",
              "    [theme=dark] .colab-df-convert {\n",
              "      background-color: #3B4455;\n",
              "      fill: #D2E3FC;\n",
              "    }\n",
              "\n",
              "    [theme=dark] .colab-df-convert:hover {\n",
              "      background-color: #434B5C;\n",
              "      box-shadow: 0px 1px 3px 1px rgba(0, 0, 0, 0.15);\n",
              "      filter: drop-shadow(0px 1px 2px rgba(0, 0, 0, 0.3));\n",
              "      fill: #FFFFFF;\n",
              "    }\n",
              "  </style>\n",
              "\n",
              "    <script>\n",
              "      const buttonEl =\n",
              "        document.querySelector('#df-c12e64ea-0f64-4e0b-8857-408f729fc7e1 button.colab-df-convert');\n",
              "      buttonEl.style.display =\n",
              "        google.colab.kernel.accessAllowed ? 'block' : 'none';\n",
              "\n",
              "      async function convertToInteractive(key) {\n",
              "        const element = document.querySelector('#df-c12e64ea-0f64-4e0b-8857-408f729fc7e1');\n",
              "        const dataTable =\n",
              "          await google.colab.kernel.invokeFunction('convertToInteractive',\n",
              "                                                    [key], {});\n",
              "        if (!dataTable) return;\n",
              "\n",
              "        const docLinkHtml = 'Like what you see? Visit the ' +\n",
              "          '<a target=\"_blank\" href=https://colab.research.google.com/notebooks/data_table.ipynb>data table notebook</a>'\n",
              "          + ' to learn more about interactive tables.';\n",
              "        element.innerHTML = '';\n",
              "        dataTable['output_type'] = 'display_data';\n",
              "        await google.colab.output.renderOutput(dataTable, element);\n",
              "        const docLink = document.createElement('div');\n",
              "        docLink.innerHTML = docLinkHtml;\n",
              "        element.appendChild(docLink);\n",
              "      }\n",
              "    </script>\n",
              "  </div>\n",
              "\n",
              "\n",
              "<div id=\"df-890fe5ae-0e43-4c51-bdf0-85ccc965b187\">\n",
              "  <button class=\"colab-df-quickchart\" onclick=\"quickchart('df-890fe5ae-0e43-4c51-bdf0-85ccc965b187')\"\n",
              "            title=\"Suggest charts\"\n",
              "            style=\"display:none;\">\n",
              "\n",
              "<svg xmlns=\"http://www.w3.org/2000/svg\" height=\"24px\"viewBox=\"0 0 24 24\"\n",
              "     width=\"24px\">\n",
              "    <g>\n",
              "        <path d=\"M19 3H5c-1.1 0-2 .9-2 2v14c0 1.1.9 2 2 2h14c1.1 0 2-.9 2-2V5c0-1.1-.9-2-2-2zM9 17H7v-7h2v7zm4 0h-2V7h2v10zm4 0h-2v-4h2v4z\"/>\n",
              "    </g>\n",
              "</svg>\n",
              "  </button>\n",
              "\n",
              "<style>\n",
              "  .colab-df-quickchart {\n",
              "      --bg-color: #E8F0FE;\n",
              "      --fill-color: #1967D2;\n",
              "      --hover-bg-color: #E2EBFA;\n",
              "      --hover-fill-color: #174EA6;\n",
              "      --disabled-fill-color: #AAA;\n",
              "      --disabled-bg-color: #DDD;\n",
              "  }\n",
              "\n",
              "  [theme=dark] .colab-df-quickchart {\n",
              "      --bg-color: #3B4455;\n",
              "      --fill-color: #D2E3FC;\n",
              "      --hover-bg-color: #434B5C;\n",
              "      --hover-fill-color: #FFFFFF;\n",
              "      --disabled-bg-color: #3B4455;\n",
              "      --disabled-fill-color: #666;\n",
              "  }\n",
              "\n",
              "  .colab-df-quickchart {\n",
              "    background-color: var(--bg-color);\n",
              "    border: none;\n",
              "    border-radius: 50%;\n",
              "    cursor: pointer;\n",
              "    display: none;\n",
              "    fill: var(--fill-color);\n",
              "    height: 32px;\n",
              "    padding: 0;\n",
              "    width: 32px;\n",
              "  }\n",
              "\n",
              "  .colab-df-quickchart:hover {\n",
              "    background-color: var(--hover-bg-color);\n",
              "    box-shadow: 0 1px 2px rgba(60, 64, 67, 0.3), 0 1px 3px 1px rgba(60, 64, 67, 0.15);\n",
              "    fill: var(--button-hover-fill-color);\n",
              "  }\n",
              "\n",
              "  .colab-df-quickchart-complete:disabled,\n",
              "  .colab-df-quickchart-complete:disabled:hover {\n",
              "    background-color: var(--disabled-bg-color);\n",
              "    fill: var(--disabled-fill-color);\n",
              "    box-shadow: none;\n",
              "  }\n",
              "\n",
              "  .colab-df-spinner {\n",
              "    border: 2px solid var(--fill-color);\n",
              "    border-color: transparent;\n",
              "    border-bottom-color: var(--fill-color);\n",
              "    animation:\n",
              "      spin 1s steps(1) infinite;\n",
              "  }\n",
              "\n",
              "  @keyframes spin {\n",
              "    0% {\n",
              "      border-color: transparent;\n",
              "      border-bottom-color: var(--fill-color);\n",
              "      border-left-color: var(--fill-color);\n",
              "    }\n",
              "    20% {\n",
              "      border-color: transparent;\n",
              "      border-left-color: var(--fill-color);\n",
              "      border-top-color: var(--fill-color);\n",
              "    }\n",
              "    30% {\n",
              "      border-color: transparent;\n",
              "      border-left-color: var(--fill-color);\n",
              "      border-top-color: var(--fill-color);\n",
              "      border-right-color: var(--fill-color);\n",
              "    }\n",
              "    40% {\n",
              "      border-color: transparent;\n",
              "      border-right-color: var(--fill-color);\n",
              "      border-top-color: var(--fill-color);\n",
              "    }\n",
              "    60% {\n",
              "      border-color: transparent;\n",
              "      border-right-color: var(--fill-color);\n",
              "    }\n",
              "    80% {\n",
              "      border-color: transparent;\n",
              "      border-right-color: var(--fill-color);\n",
              "      border-bottom-color: var(--fill-color);\n",
              "    }\n",
              "    90% {\n",
              "      border-color: transparent;\n",
              "      border-bottom-color: var(--fill-color);\n",
              "    }\n",
              "  }\n",
              "</style>\n",
              "\n",
              "  <script>\n",
              "    async function quickchart(key) {\n",
              "      const quickchartButtonEl =\n",
              "        document.querySelector('#' + key + ' button');\n",
              "      quickchartButtonEl.disabled = true;  // To prevent multiple clicks.\n",
              "      quickchartButtonEl.classList.add('colab-df-spinner');\n",
              "      try {\n",
              "        const charts = await google.colab.kernel.invokeFunction(\n",
              "            'suggestCharts', [key], {});\n",
              "      } catch (error) {\n",
              "        console.error('Error during call to suggestCharts:', error);\n",
              "      }\n",
              "      quickchartButtonEl.classList.remove('colab-df-spinner');\n",
              "      quickchartButtonEl.classList.add('colab-df-quickchart-complete');\n",
              "    }\n",
              "    (() => {\n",
              "      let quickchartButtonEl =\n",
              "        document.querySelector('#df-890fe5ae-0e43-4c51-bdf0-85ccc965b187 button');\n",
              "      quickchartButtonEl.style.display =\n",
              "        google.colab.kernel.accessAllowed ? 'block' : 'none';\n",
              "    })();\n",
              "  </script>\n",
              "</div>\n",
              "    </div>\n",
              "  </div>\n"
            ],
            "application/vnd.google.colaboratory.intrinsic+json": {
              "type": "dataframe",
              "variable_name": "encoded_locations_train"
            }
          },
          "metadata": {},
          "execution_count": 67
        }
      ]
    },
    {
      "cell_type": "code",
      "source": [
        "#тоже самое для тестовой выборки\n",
        "test['WiderLocation'] = test['Location'].apply(lambda x: x if len(x.split(',')) == 1 else x.split(',')[1])\n",
        "\n",
        "encoded_locations_test = test['WiderLocation'].apply(lambda x: x if x in locations_mto else 'Other').values.reshape(-1, 1)\n",
        "\n",
        "encoded_locations_test = encoder.transform(encoded_locations_test).toarray()\n",
        "\n",
        "encoded_locations_test = pd.DataFrame(encoded_locations_test, columns=encoded_feature_names) #категории взяли из ячейки с трейном, вместо параметра categories в энкодере передали их в датфрейм в качестве колонок\n",
        "\n",
        "encoded_locations_test = encoded_locations_test.drop(columns='WiderLocation_Other')\n",
        "\n",
        "encoded_locations_test #1163 значения"
      ],
      "metadata": {
        "colab": {
          "base_uri": "https://localhost:8080/",
          "height": 478
        },
        "id": "SAucT5y-dq2e",
        "outputId": "864d533b-649b-44fe-e3a7-8ff047025679"
      },
      "execution_count": null,
      "outputs": [
        {
          "output_type": "execute_result",
          "data": {
            "text/plain": [
              "       WiderLocation_   WiderLocation_  MN  WiderLocation_ 15401  \\\n",
              "0                    0                   0                     0   \n",
              "1                    0                   0                     0   \n",
              "2                    0                   0                     0   \n",
              "3                    0                   0                     0   \n",
              "4                    0                   0                     0   \n",
              "...                ...                 ...                   ...   \n",
              "10029                0                   0                     0   \n",
              "10030                0                   0                     0   \n",
              "10031                0                   0                     0   \n",
              "10032                0                   0                     0   \n",
              "10033                0                   0                     0   \n",
              "\n",
              "       WiderLocation_ ? ??? ?t ?? l???? ?t ??  WiderLocation_ ??  \\\n",
              "0                                           0                  0   \n",
              "1                                           0                  0   \n",
              "2                                           0                  0   \n",
              "3                                           0                  0   \n",
              "4                                           0                  0   \n",
              "...                                       ...                ...   \n",
              "10029                                       0                  0   \n",
              "10030                                       0                  0   \n",
              "10031                                       0                  0   \n",
              "10032                                       0                  0   \n",
              "10033                                       0                  0   \n",
              "\n",
              "       WiderLocation_ ?? ??????  WiderLocation_ ????  WiderLocation_ ?????  \\\n",
              "0                             0                    0                     0   \n",
              "1                             0                    0                     0   \n",
              "2                             0                    0                     0   \n",
              "3                             0                    0                     0   \n",
              "4                             0                    0                     0   \n",
              "...                         ...                  ...                   ...   \n",
              "10029                         0                    0                     0   \n",
              "10030                         0                    0                     0   \n",
              "10031                         0                    0                     0   \n",
              "10032                         0                    0                     0   \n",
              "10033                         0                    0                     0   \n",
              "\n",
              "       WiderLocation_ ????? ????  WiderLocation_ ??????  ...  \\\n",
              "0                              0                      0  ...   \n",
              "1                              0                      0  ...   \n",
              "2                              0                      0  ...   \n",
              "3                              0                      0  ...   \n",
              "4                              0                      0  ...   \n",
              "...                          ...                    ...  ...   \n",
              "10029                          0                      0  ...   \n",
              "10030                          0                      0  ...   \n",
              "10031                          0                      0  ...   \n",
              "10032                          0                      0  ...   \n",
              "10033                          0                      0  ...   \n",
              "\n",
              "       WiderLocation_she/her  WiderLocation_sheffield  \\\n",
              "0                          0                        0   \n",
              "1                          0                        0   \n",
              "2                          0                        0   \n",
              "3                          0                        0   \n",
              "4                          0                        0   \n",
              "...                      ...                      ...   \n",
              "10029                      0                        0   \n",
              "10030                      0                        0   \n",
              "10031                      0                        0   \n",
              "10032                      0                        0   \n",
              "10033                      0                        0   \n",
              "\n",
              "       WiderLocation_somewhere  WiderLocation_texas  WiderLocation_uk  \\\n",
              "0                            0                    0                 0   \n",
              "1                            0                    0                 0   \n",
              "2                            0                    0                 0   \n",
              "3                            0                    0                 0   \n",
              "4                            0                    0                 0   \n",
              "...                        ...                  ...               ...   \n",
              "10029                        0                    0                 0   \n",
              "10030                        0                    0                 0   \n",
              "10031                        0                    0                 0   \n",
              "10032                        0                    0                 0   \n",
              "10033                        0                    0                 0   \n",
              "\n",
              "       WiderLocation_up  WiderLocation_usa  WiderLocation_worldwide  \\\n",
              "0                     0                  0                        0   \n",
              "1                     0                  0                        0   \n",
              "2                     0                  0                        0   \n",
              "3                     0                  0                        0   \n",
              "4                     0                  0                        0   \n",
              "...                 ...                ...                      ...   \n",
              "10029                 0                  0                        0   \n",
              "10030                 0                  0                        0   \n",
              "10031                 0                  0                        0   \n",
              "10032                 0                  0                        0   \n",
              "10033                 0                  0                        0   \n",
              "\n",
              "       WiderLocation_||somali|kenyan??  WiderLocation_ÃÂ¯\\_(?)_/ÃÂ¯  \n",
              "0                                    0                              0  \n",
              "1                                    0                              0  \n",
              "2                                    0                              0  \n",
              "3                                    0                              0  \n",
              "4                                    0                              0  \n",
              "...                                ...                            ...  \n",
              "10029                                0                              0  \n",
              "10030                                0                              0  \n",
              "10031                                0                              0  \n",
              "10032                                0                              0  \n",
              "10033                                0                              0  \n",
              "\n",
              "[10034 rows x 1163 columns]"
            ],
            "text/html": [
              "\n",
              "  <div id=\"df-9a729906-194a-42fe-8765-a7c40e77685e\" class=\"colab-df-container\">\n",
              "    <div>\n",
              "<style scoped>\n",
              "    .dataframe tbody tr th:only-of-type {\n",
              "        vertical-align: middle;\n",
              "    }\n",
              "\n",
              "    .dataframe tbody tr th {\n",
              "        vertical-align: top;\n",
              "    }\n",
              "\n",
              "    .dataframe thead th {\n",
              "        text-align: right;\n",
              "    }\n",
              "</style>\n",
              "<table border=\"1\" class=\"dataframe\">\n",
              "  <thead>\n",
              "    <tr style=\"text-align: right;\">\n",
              "      <th></th>\n",
              "      <th>WiderLocation_</th>\n",
              "      <th>WiderLocation_  MN</th>\n",
              "      <th>WiderLocation_ 15401</th>\n",
              "      <th>WiderLocation_ ? ??? ?t ?? l???? ?t ??</th>\n",
              "      <th>WiderLocation_ ??</th>\n",
              "      <th>WiderLocation_ ?? ??????</th>\n",
              "      <th>WiderLocation_ ????</th>\n",
              "      <th>WiderLocation_ ?????</th>\n",
              "      <th>WiderLocation_ ????? ????</th>\n",
              "      <th>WiderLocation_ ??????</th>\n",
              "      <th>...</th>\n",
              "      <th>WiderLocation_she/her</th>\n",
              "      <th>WiderLocation_sheffield</th>\n",
              "      <th>WiderLocation_somewhere</th>\n",
              "      <th>WiderLocation_texas</th>\n",
              "      <th>WiderLocation_uk</th>\n",
              "      <th>WiderLocation_up</th>\n",
              "      <th>WiderLocation_usa</th>\n",
              "      <th>WiderLocation_worldwide</th>\n",
              "      <th>WiderLocation_||somali|kenyan??</th>\n",
              "      <th>WiderLocation_ÃÂ¯\\_(?)_/ÃÂ¯</th>\n",
              "    </tr>\n",
              "  </thead>\n",
              "  <tbody>\n",
              "    <tr>\n",
              "      <th>0</th>\n",
              "      <td>0</td>\n",
              "      <td>0</td>\n",
              "      <td>0</td>\n",
              "      <td>0</td>\n",
              "      <td>0</td>\n",
              "      <td>0</td>\n",
              "      <td>0</td>\n",
              "      <td>0</td>\n",
              "      <td>0</td>\n",
              "      <td>0</td>\n",
              "      <td>...</td>\n",
              "      <td>0</td>\n",
              "      <td>0</td>\n",
              "      <td>0</td>\n",
              "      <td>0</td>\n",
              "      <td>0</td>\n",
              "      <td>0</td>\n",
              "      <td>0</td>\n",
              "      <td>0</td>\n",
              "      <td>0</td>\n",
              "      <td>0</td>\n",
              "    </tr>\n",
              "    <tr>\n",
              "      <th>1</th>\n",
              "      <td>0</td>\n",
              "      <td>0</td>\n",
              "      <td>0</td>\n",
              "      <td>0</td>\n",
              "      <td>0</td>\n",
              "      <td>0</td>\n",
              "      <td>0</td>\n",
              "      <td>0</td>\n",
              "      <td>0</td>\n",
              "      <td>0</td>\n",
              "      <td>...</td>\n",
              "      <td>0</td>\n",
              "      <td>0</td>\n",
              "      <td>0</td>\n",
              "      <td>0</td>\n",
              "      <td>0</td>\n",
              "      <td>0</td>\n",
              "      <td>0</td>\n",
              "      <td>0</td>\n",
              "      <td>0</td>\n",
              "      <td>0</td>\n",
              "    </tr>\n",
              "    <tr>\n",
              "      <th>2</th>\n",
              "      <td>0</td>\n",
              "      <td>0</td>\n",
              "      <td>0</td>\n",
              "      <td>0</td>\n",
              "      <td>0</td>\n",
              "      <td>0</td>\n",
              "      <td>0</td>\n",
              "      <td>0</td>\n",
              "      <td>0</td>\n",
              "      <td>0</td>\n",
              "      <td>...</td>\n",
              "      <td>0</td>\n",
              "      <td>0</td>\n",
              "      <td>0</td>\n",
              "      <td>0</td>\n",
              "      <td>0</td>\n",
              "      <td>0</td>\n",
              "      <td>0</td>\n",
              "      <td>0</td>\n",
              "      <td>0</td>\n",
              "      <td>0</td>\n",
              "    </tr>\n",
              "    <tr>\n",
              "      <th>3</th>\n",
              "      <td>0</td>\n",
              "      <td>0</td>\n",
              "      <td>0</td>\n",
              "      <td>0</td>\n",
              "      <td>0</td>\n",
              "      <td>0</td>\n",
              "      <td>0</td>\n",
              "      <td>0</td>\n",
              "      <td>0</td>\n",
              "      <td>0</td>\n",
              "      <td>...</td>\n",
              "      <td>0</td>\n",
              "      <td>0</td>\n",
              "      <td>0</td>\n",
              "      <td>0</td>\n",
              "      <td>0</td>\n",
              "      <td>0</td>\n",
              "      <td>0</td>\n",
              "      <td>0</td>\n",
              "      <td>0</td>\n",
              "      <td>0</td>\n",
              "    </tr>\n",
              "    <tr>\n",
              "      <th>4</th>\n",
              "      <td>0</td>\n",
              "      <td>0</td>\n",
              "      <td>0</td>\n",
              "      <td>0</td>\n",
              "      <td>0</td>\n",
              "      <td>0</td>\n",
              "      <td>0</td>\n",
              "      <td>0</td>\n",
              "      <td>0</td>\n",
              "      <td>0</td>\n",
              "      <td>...</td>\n",
              "      <td>0</td>\n",
              "      <td>0</td>\n",
              "      <td>0</td>\n",
              "      <td>0</td>\n",
              "      <td>0</td>\n",
              "      <td>0</td>\n",
              "      <td>0</td>\n",
              "      <td>0</td>\n",
              "      <td>0</td>\n",
              "      <td>0</td>\n",
              "    </tr>\n",
              "    <tr>\n",
              "      <th>...</th>\n",
              "      <td>...</td>\n",
              "      <td>...</td>\n",
              "      <td>...</td>\n",
              "      <td>...</td>\n",
              "      <td>...</td>\n",
              "      <td>...</td>\n",
              "      <td>...</td>\n",
              "      <td>...</td>\n",
              "      <td>...</td>\n",
              "      <td>...</td>\n",
              "      <td>...</td>\n",
              "      <td>...</td>\n",
              "      <td>...</td>\n",
              "      <td>...</td>\n",
              "      <td>...</td>\n",
              "      <td>...</td>\n",
              "      <td>...</td>\n",
              "      <td>...</td>\n",
              "      <td>...</td>\n",
              "      <td>...</td>\n",
              "      <td>...</td>\n",
              "    </tr>\n",
              "    <tr>\n",
              "      <th>10029</th>\n",
              "      <td>0</td>\n",
              "      <td>0</td>\n",
              "      <td>0</td>\n",
              "      <td>0</td>\n",
              "      <td>0</td>\n",
              "      <td>0</td>\n",
              "      <td>0</td>\n",
              "      <td>0</td>\n",
              "      <td>0</td>\n",
              "      <td>0</td>\n",
              "      <td>...</td>\n",
              "      <td>0</td>\n",
              "      <td>0</td>\n",
              "      <td>0</td>\n",
              "      <td>0</td>\n",
              "      <td>0</td>\n",
              "      <td>0</td>\n",
              "      <td>0</td>\n",
              "      <td>0</td>\n",
              "      <td>0</td>\n",
              "      <td>0</td>\n",
              "    </tr>\n",
              "    <tr>\n",
              "      <th>10030</th>\n",
              "      <td>0</td>\n",
              "      <td>0</td>\n",
              "      <td>0</td>\n",
              "      <td>0</td>\n",
              "      <td>0</td>\n",
              "      <td>0</td>\n",
              "      <td>0</td>\n",
              "      <td>0</td>\n",
              "      <td>0</td>\n",
              "      <td>0</td>\n",
              "      <td>...</td>\n",
              "      <td>0</td>\n",
              "      <td>0</td>\n",
              "      <td>0</td>\n",
              "      <td>0</td>\n",
              "      <td>0</td>\n",
              "      <td>0</td>\n",
              "      <td>0</td>\n",
              "      <td>0</td>\n",
              "      <td>0</td>\n",
              "      <td>0</td>\n",
              "    </tr>\n",
              "    <tr>\n",
              "      <th>10031</th>\n",
              "      <td>0</td>\n",
              "      <td>0</td>\n",
              "      <td>0</td>\n",
              "      <td>0</td>\n",
              "      <td>0</td>\n",
              "      <td>0</td>\n",
              "      <td>0</td>\n",
              "      <td>0</td>\n",
              "      <td>0</td>\n",
              "      <td>0</td>\n",
              "      <td>...</td>\n",
              "      <td>0</td>\n",
              "      <td>0</td>\n",
              "      <td>0</td>\n",
              "      <td>0</td>\n",
              "      <td>0</td>\n",
              "      <td>0</td>\n",
              "      <td>0</td>\n",
              "      <td>0</td>\n",
              "      <td>0</td>\n",
              "      <td>0</td>\n",
              "    </tr>\n",
              "    <tr>\n",
              "      <th>10032</th>\n",
              "      <td>0</td>\n",
              "      <td>0</td>\n",
              "      <td>0</td>\n",
              "      <td>0</td>\n",
              "      <td>0</td>\n",
              "      <td>0</td>\n",
              "      <td>0</td>\n",
              "      <td>0</td>\n",
              "      <td>0</td>\n",
              "      <td>0</td>\n",
              "      <td>...</td>\n",
              "      <td>0</td>\n",
              "      <td>0</td>\n",
              "      <td>0</td>\n",
              "      <td>0</td>\n",
              "      <td>0</td>\n",
              "      <td>0</td>\n",
              "      <td>0</td>\n",
              "      <td>0</td>\n",
              "      <td>0</td>\n",
              "      <td>0</td>\n",
              "    </tr>\n",
              "    <tr>\n",
              "      <th>10033</th>\n",
              "      <td>0</td>\n",
              "      <td>0</td>\n",
              "      <td>0</td>\n",
              "      <td>0</td>\n",
              "      <td>0</td>\n",
              "      <td>0</td>\n",
              "      <td>0</td>\n",
              "      <td>0</td>\n",
              "      <td>0</td>\n",
              "      <td>0</td>\n",
              "      <td>...</td>\n",
              "      <td>0</td>\n",
              "      <td>0</td>\n",
              "      <td>0</td>\n",
              "      <td>0</td>\n",
              "      <td>0</td>\n",
              "      <td>0</td>\n",
              "      <td>0</td>\n",
              "      <td>0</td>\n",
              "      <td>0</td>\n",
              "      <td>0</td>\n",
              "    </tr>\n",
              "  </tbody>\n",
              "</table>\n",
              "<p>10034 rows × 1163 columns</p>\n",
              "</div>\n",
              "    <div class=\"colab-df-buttons\">\n",
              "\n",
              "  <div class=\"colab-df-container\">\n",
              "    <button class=\"colab-df-convert\" onclick=\"convertToInteractive('df-9a729906-194a-42fe-8765-a7c40e77685e')\"\n",
              "            title=\"Convert this dataframe to an interactive table.\"\n",
              "            style=\"display:none;\">\n",
              "\n",
              "  <svg xmlns=\"http://www.w3.org/2000/svg\" height=\"24px\" viewBox=\"0 -960 960 960\">\n",
              "    <path d=\"M120-120v-720h720v720H120Zm60-500h600v-160H180v160Zm220 220h160v-160H400v160Zm0 220h160v-160H400v160ZM180-400h160v-160H180v160Zm440 0h160v-160H620v160ZM180-180h160v-160H180v160Zm440 0h160v-160H620v160Z\"/>\n",
              "  </svg>\n",
              "    </button>\n",
              "\n",
              "  <style>\n",
              "    .colab-df-container {\n",
              "      display:flex;\n",
              "      gap: 12px;\n",
              "    }\n",
              "\n",
              "    .colab-df-convert {\n",
              "      background-color: #E8F0FE;\n",
              "      border: none;\n",
              "      border-radius: 50%;\n",
              "      cursor: pointer;\n",
              "      display: none;\n",
              "      fill: #1967D2;\n",
              "      height: 32px;\n",
              "      padding: 0 0 0 0;\n",
              "      width: 32px;\n",
              "    }\n",
              "\n",
              "    .colab-df-convert:hover {\n",
              "      background-color: #E2EBFA;\n",
              "      box-shadow: 0px 1px 2px rgba(60, 64, 67, 0.3), 0px 1px 3px 1px rgba(60, 64, 67, 0.15);\n",
              "      fill: #174EA6;\n",
              "    }\n",
              "\n",
              "    .colab-df-buttons div {\n",
              "      margin-bottom: 4px;\n",
              "    }\n",
              "\n",
              "    [theme=dark] .colab-df-convert {\n",
              "      background-color: #3B4455;\n",
              "      fill: #D2E3FC;\n",
              "    }\n",
              "\n",
              "    [theme=dark] .colab-df-convert:hover {\n",
              "      background-color: #434B5C;\n",
              "      box-shadow: 0px 1px 3px 1px rgba(0, 0, 0, 0.15);\n",
              "      filter: drop-shadow(0px 1px 2px rgba(0, 0, 0, 0.3));\n",
              "      fill: #FFFFFF;\n",
              "    }\n",
              "  </style>\n",
              "\n",
              "    <script>\n",
              "      const buttonEl =\n",
              "        document.querySelector('#df-9a729906-194a-42fe-8765-a7c40e77685e button.colab-df-convert');\n",
              "      buttonEl.style.display =\n",
              "        google.colab.kernel.accessAllowed ? 'block' : 'none';\n",
              "\n",
              "      async function convertToInteractive(key) {\n",
              "        const element = document.querySelector('#df-9a729906-194a-42fe-8765-a7c40e77685e');\n",
              "        const dataTable =\n",
              "          await google.colab.kernel.invokeFunction('convertToInteractive',\n",
              "                                                    [key], {});\n",
              "        if (!dataTable) return;\n",
              "\n",
              "        const docLinkHtml = 'Like what you see? Visit the ' +\n",
              "          '<a target=\"_blank\" href=https://colab.research.google.com/notebooks/data_table.ipynb>data table notebook</a>'\n",
              "          + ' to learn more about interactive tables.';\n",
              "        element.innerHTML = '';\n",
              "        dataTable['output_type'] = 'display_data';\n",
              "        await google.colab.output.renderOutput(dataTable, element);\n",
              "        const docLink = document.createElement('div');\n",
              "        docLink.innerHTML = docLinkHtml;\n",
              "        element.appendChild(docLink);\n",
              "      }\n",
              "    </script>\n",
              "  </div>\n",
              "\n",
              "\n",
              "<div id=\"df-b0b6b8fc-a939-4359-87c6-c583cc6ae78e\">\n",
              "  <button class=\"colab-df-quickchart\" onclick=\"quickchart('df-b0b6b8fc-a939-4359-87c6-c583cc6ae78e')\"\n",
              "            title=\"Suggest charts\"\n",
              "            style=\"display:none;\">\n",
              "\n",
              "<svg xmlns=\"http://www.w3.org/2000/svg\" height=\"24px\"viewBox=\"0 0 24 24\"\n",
              "     width=\"24px\">\n",
              "    <g>\n",
              "        <path d=\"M19 3H5c-1.1 0-2 .9-2 2v14c0 1.1.9 2 2 2h14c1.1 0 2-.9 2-2V5c0-1.1-.9-2-2-2zM9 17H7v-7h2v7zm4 0h-2V7h2v10zm4 0h-2v-4h2v4z\"/>\n",
              "    </g>\n",
              "</svg>\n",
              "  </button>\n",
              "\n",
              "<style>\n",
              "  .colab-df-quickchart {\n",
              "      --bg-color: #E8F0FE;\n",
              "      --fill-color: #1967D2;\n",
              "      --hover-bg-color: #E2EBFA;\n",
              "      --hover-fill-color: #174EA6;\n",
              "      --disabled-fill-color: #AAA;\n",
              "      --disabled-bg-color: #DDD;\n",
              "  }\n",
              "\n",
              "  [theme=dark] .colab-df-quickchart {\n",
              "      --bg-color: #3B4455;\n",
              "      --fill-color: #D2E3FC;\n",
              "      --hover-bg-color: #434B5C;\n",
              "      --hover-fill-color: #FFFFFF;\n",
              "      --disabled-bg-color: #3B4455;\n",
              "      --disabled-fill-color: #666;\n",
              "  }\n",
              "\n",
              "  .colab-df-quickchart {\n",
              "    background-color: var(--bg-color);\n",
              "    border: none;\n",
              "    border-radius: 50%;\n",
              "    cursor: pointer;\n",
              "    display: none;\n",
              "    fill: var(--fill-color);\n",
              "    height: 32px;\n",
              "    padding: 0;\n",
              "    width: 32px;\n",
              "  }\n",
              "\n",
              "  .colab-df-quickchart:hover {\n",
              "    background-color: var(--hover-bg-color);\n",
              "    box-shadow: 0 1px 2px rgba(60, 64, 67, 0.3), 0 1px 3px 1px rgba(60, 64, 67, 0.15);\n",
              "    fill: var(--button-hover-fill-color);\n",
              "  }\n",
              "\n",
              "  .colab-df-quickchart-complete:disabled,\n",
              "  .colab-df-quickchart-complete:disabled:hover {\n",
              "    background-color: var(--disabled-bg-color);\n",
              "    fill: var(--disabled-fill-color);\n",
              "    box-shadow: none;\n",
              "  }\n",
              "\n",
              "  .colab-df-spinner {\n",
              "    border: 2px solid var(--fill-color);\n",
              "    border-color: transparent;\n",
              "    border-bottom-color: var(--fill-color);\n",
              "    animation:\n",
              "      spin 1s steps(1) infinite;\n",
              "  }\n",
              "\n",
              "  @keyframes spin {\n",
              "    0% {\n",
              "      border-color: transparent;\n",
              "      border-bottom-color: var(--fill-color);\n",
              "      border-left-color: var(--fill-color);\n",
              "    }\n",
              "    20% {\n",
              "      border-color: transparent;\n",
              "      border-left-color: var(--fill-color);\n",
              "      border-top-color: var(--fill-color);\n",
              "    }\n",
              "    30% {\n",
              "      border-color: transparent;\n",
              "      border-left-color: var(--fill-color);\n",
              "      border-top-color: var(--fill-color);\n",
              "      border-right-color: var(--fill-color);\n",
              "    }\n",
              "    40% {\n",
              "      border-color: transparent;\n",
              "      border-right-color: var(--fill-color);\n",
              "      border-top-color: var(--fill-color);\n",
              "    }\n",
              "    60% {\n",
              "      border-color: transparent;\n",
              "      border-right-color: var(--fill-color);\n",
              "    }\n",
              "    80% {\n",
              "      border-color: transparent;\n",
              "      border-right-color: var(--fill-color);\n",
              "      border-bottom-color: var(--fill-color);\n",
              "    }\n",
              "    90% {\n",
              "      border-color: transparent;\n",
              "      border-bottom-color: var(--fill-color);\n",
              "    }\n",
              "  }\n",
              "</style>\n",
              "\n",
              "  <script>\n",
              "    async function quickchart(key) {\n",
              "      const quickchartButtonEl =\n",
              "        document.querySelector('#' + key + ' button');\n",
              "      quickchartButtonEl.disabled = true;  // To prevent multiple clicks.\n",
              "      quickchartButtonEl.classList.add('colab-df-spinner');\n",
              "      try {\n",
              "        const charts = await google.colab.kernel.invokeFunction(\n",
              "            'suggestCharts', [key], {});\n",
              "      } catch (error) {\n",
              "        console.error('Error during call to suggestCharts:', error);\n",
              "      }\n",
              "      quickchartButtonEl.classList.remove('colab-df-spinner');\n",
              "      quickchartButtonEl.classList.add('colab-df-quickchart-complete');\n",
              "    }\n",
              "    (() => {\n",
              "      let quickchartButtonEl =\n",
              "        document.querySelector('#df-b0b6b8fc-a939-4359-87c6-c583cc6ae78e button');\n",
              "      quickchartButtonEl.style.display =\n",
              "        google.colab.kernel.accessAllowed ? 'block' : 'none';\n",
              "    })();\n",
              "  </script>\n",
              "</div>\n",
              "    </div>\n",
              "  </div>\n"
            ],
            "application/vnd.google.colaboratory.intrinsic+json": {
              "type": "dataframe",
              "variable_name": "encoded_locations_test"
            }
          },
          "metadata": {},
          "execution_count": 62
        }
      ]
    },
    {
      "cell_type": "markdown",
      "source": [
        "Добавьте этот признак к матрице отскалированных текстовых признаков, обучите логистическую регрессию, замерьте качество. Как оно изменилось? Оказался ли признак полезным?\n",
        "\n",
        "\n",
        "*Подсказка:* используйте параметр `categories` в энкодере."
      ],
      "metadata": {
        "id": "ZyMX5kZuimPK"
      }
    },
    {
      "cell_type": "code",
      "source": [
        "#объединим матрицы скалированных текстовых данных и матрицы с новыми признаками\n",
        "new_matrix_train = np.hstack((X_train_transformed.toarray(), encoded_locations_train.values))\n",
        "new_matrix_train.shape"
      ],
      "metadata": {
        "colab": {
          "base_uri": "https://localhost:8080/"
        },
        "id": "iRXRY1EoTdzl",
        "outputId": "610c5261-c64a-44dc-b0d6-3619896dca12"
      },
      "execution_count": null,
      "outputs": [
        {
          "output_type": "execute_result",
          "data": {
            "text/plain": [
              "(23410, 4863)"
            ]
          },
          "metadata": {},
          "execution_count": 63
        }
      ]
    },
    {
      "cell_type": "code",
      "source": [
        "new_matrix_test = np.hstack((X_test_transformed.toarray(), encoded_locations_test.values))\n",
        "new_matrix_test.shape"
      ],
      "metadata": {
        "colab": {
          "base_uri": "https://localhost:8080/"
        },
        "id": "EvdMFHCkV4lb",
        "outputId": "ec2ac3d8-caf5-45f1-bbd3-845654810289"
      },
      "execution_count": null,
      "outputs": [
        {
          "output_type": "execute_result",
          "data": {
            "text/plain": [
              "(10034, 4863)"
            ]
          },
          "metadata": {},
          "execution_count": 64
        }
      ]
    },
    {
      "cell_type": "code",
      "source": [
        "log_reg_cv = LogisticRegression(max_iter=1000)\n",
        "log_reg_cv.fit(new_matrix_train, y_train)\n",
        "\n",
        "print('Accuracy on train (CV with stem) size 3700 with ohe location:', accuracy_score(y_train, log_reg_cv.predict(new_matrix_train)))\n",
        "print('Accuracy on test (CV with stem) size 3700 with ohe location:', accuracy_score(y_test, log_reg_cv.predict(new_matrix_test)))"
      ],
      "metadata": {
        "colab": {
          "base_uri": "https://localhost:8080/"
        },
        "id": "9nvRlsp7WfQF",
        "outputId": "6fcd5f49-85d9-437a-a245-a5036ed09033"
      },
      "execution_count": null,
      "outputs": [
        {
          "output_type": "stream",
          "name": "stdout",
          "text": [
            "Accuracy on train (CV with stem) size 3700 with ohe location: 0.9234515164459632\n",
            "Accuracy on test (CV with stem) size 3700 with ohe location: 0.8577835359776759\n"
          ]
        }
      ]
    },
    {
      "cell_type": "markdown",
      "source": [
        "**Ответ:** полезным признак не оказался, чуть повысил accuracy на трейне и понизил на тесте"
      ],
      "metadata": {
        "id": "7dHsGlDRYUQt"
      }
    },
    {
      "cell_type": "markdown",
      "source": [
        "## Задание 8 Хорошее качество (Бонус 1 балл)"
      ],
      "metadata": {
        "id": "IWn6h4W9eD3S"
      }
    },
    {
      "cell_type": "markdown",
      "source": [
        "Добейтесь accuracy=0.9 на тестовой выборке (можно сменить токенайзер, векторайзер, модель и т.д.)"
      ],
      "metadata": {
        "id": "-HDI0SU6eLgi"
      }
    },
    {
      "cell_type": "code",
      "source": [
        "# -- YOUR CODE HERE --"
      ],
      "metadata": {
        "id": "k3WMbE8edhlW"
      },
      "execution_count": null,
      "outputs": []
    }
  ],
  "metadata": {
    "colab": {
      "provenance": []
    },
    "kernelspec": {
      "display_name": "Python 3",
      "name": "python3"
    },
    "language_info": {
      "name": "python"
    }
  },
  "nbformat": 4,
  "nbformat_minor": 0
}